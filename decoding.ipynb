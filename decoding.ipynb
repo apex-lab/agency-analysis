{
 "cells": [
  {
   "cell_type": "code",
   "execution_count": 1,
   "id": "b9aafe72",
   "metadata": {},
   "outputs": [],
   "source": [
    "import matplotlib.pyplot as plt\n",
    "from scipy.stats import norm\n",
    "import numpy as np\n",
    "import pandas as pd\n",
    "import os \n",
    "import re\n",
    "\n",
    "from bids import BIDSLayout\n",
    "\n",
    "from sklearn.model_selection import cross_val_score, StratifiedGroupKFold\n",
    "from sklearn.preprocessing import LabelEncoder\n",
    "from sklearn.metrics import roc_auc_score\n",
    "\n",
    "from mne_features.feature_extraction import FeatureExtractor\n",
    "from util.decoding.gee import GEEEstimator\n",
    "from mne_ari import all_resolutions_inference\n",
    "from mne.decoding import (\n",
    "    cross_val_multiscore, \n",
    "    LinearModel,                  \n",
    "    SlidingEstimator, \n",
    "    GeneralizingEstimator,\n",
    "    get_coef\n",
    ")\n",
    "from mne.viz.utils import _plot_masked_image\n",
    "from mne import set_config\n",
    "from mne.stats.cluster_level import _find_clusters, _cluster_indices_to_mask\n",
    "set_config('MNE_MEMMAP_MIN_SIZE', '1M')\n",
    "set_config('MNE_CACHE_DIR', '.tmp')\n",
    "import mne"
   ]
  },
  {
   "cell_type": "code",
   "execution_count": 2,
   "id": "d4e43b35",
   "metadata": {},
   "outputs": [],
   "source": [
    "# hard-coded values\n",
    "BIDS_ROOT = 'bids_dataset'\n",
    "DERIV_ROOT = os.path.join(BIDS_ROOT, 'derivatives')"
   ]
  },
  {
   "cell_type": "code",
   "execution_count": 3,
   "id": "1b1bb749",
   "metadata": {},
   "outputs": [
    {
     "name": "stderr",
     "output_type": "stream",
     "text": [
      "/home/johnv/anaconda3/envs/agency/lib/python3.10/site-packages/bids/layout/validation.py:156: UserWarning: The PipelineDescription field was superseded by GeneratedBy in BIDS 1.4.0. You can use ``pybids upgrade`` to update your derivative dataset.\n",
      "  warnings.warn(\"The PipelineDescription field was superseded \"\n"
     ]
    }
   ],
   "source": [
    "layout = BIDSLayout(BIDS_ROOT, derivatives = True)\n",
    "subjects = layout.get_subjects(scope = 'preprocessing')\n",
    "subjects.sort()\n",
    "task = layout.get_tasks()[0]"
   ]
  },
  {
   "cell_type": "code",
   "execution_count": 4,
   "id": "991b94f5",
   "metadata": {},
   "outputs": [
    {
     "name": "stdout",
     "output_type": "stream",
     "text": [
      "Could not find a adjacency matrix for the data. Computing adjacency based on Delaunay triangulations.\n",
      "-- number of adjacent vertices : 62\n",
      "Could not find a adjacency matrix for the data. Computing adjacency based on Delaunay triangulations.\n",
      "-- number of adjacent vertices : 62\n",
      "Could not find a adjacency matrix for the data. Computing adjacency based on Delaunay triangulations.\n",
      "-- number of adjacent vertices : 62\n",
      "Could not find a adjacency matrix for the data. Computing adjacency based on Delaunay triangulations.\n",
      "-- number of adjacent vertices : 62\n",
      "Could not find a adjacency matrix for the data. Computing adjacency based on Delaunay triangulations.\n",
      "-- number of adjacent vertices : 62\n",
      "Could not find a adjacency matrix for the data. Computing adjacency based on Delaunay triangulations.\n",
      "-- number of adjacent vertices : 62\n",
      "Could not find a adjacency matrix for the data. Computing adjacency based on Delaunay triangulations.\n",
      "-- number of adjacent vertices : 62\n",
      "Could not find a adjacency matrix for the data. Computing adjacency based on Delaunay triangulations.\n",
      "-- number of adjacent vertices : 62\n",
      "Could not find a adjacency matrix for the data. Computing adjacency based on Delaunay triangulations.\n",
      "-- number of adjacent vertices : 62\n",
      "Could not find a adjacency matrix for the data. Computing adjacency based on Delaunay triangulations.\n",
      "-- number of adjacent vertices : 62\n",
      "Could not find a adjacency matrix for the data. Computing adjacency based on Delaunay triangulations.\n",
      "-- number of adjacent vertices : 62\n",
      "Could not find a adjacency matrix for the data. Computing adjacency based on Delaunay triangulations.\n",
      "-- number of adjacent vertices : 62\n",
      "Could not find a adjacency matrix for the data. Computing adjacency based on Delaunay triangulations.\n",
      "-- number of adjacent vertices : 62\n",
      "Could not find a adjacency matrix for the data. Computing adjacency based on Delaunay triangulations.\n",
      "-- number of adjacent vertices : 62\n",
      "Could not find a adjacency matrix for the data. Computing adjacency based on Delaunay triangulations.\n",
      "-- number of adjacent vertices : 62\n",
      "Could not find a adjacency matrix for the data. Computing adjacency based on Delaunay triangulations.\n",
      "-- number of adjacent vertices : 62\n",
      "Could not find a adjacency matrix for the data. Computing adjacency based on Delaunay triangulations.\n",
      "-- number of adjacent vertices : 62\n",
      "Could not find a adjacency matrix for the data. Computing adjacency based on Delaunay triangulations.\n",
      "-- number of adjacent vertices : 62\n",
      "Could not find a adjacency matrix for the data. Computing adjacency based on Delaunay triangulations.\n",
      "-- number of adjacent vertices : 62\n",
      "Could not find a adjacency matrix for the data. Computing adjacency based on Delaunay triangulations.\n",
      "-- number of adjacent vertices : 62\n",
      "Could not find a adjacency matrix for the data. Computing adjacency based on Delaunay triangulations.\n",
      "-- number of adjacent vertices : 62\n",
      "Could not find a adjacency matrix for the data. Computing adjacency based on Delaunay triangulations.\n",
      "-- number of adjacent vertices : 62\n",
      "Could not find a adjacency matrix for the data. Computing adjacency based on Delaunay triangulations.\n",
      "-- number of adjacent vertices : 62\n"
     ]
    }
   ],
   "source": [
    "def load_subj_data(layout, sub, lowpass, csd):\n",
    "    \n",
    "    epochs_fpath = layout.get(\n",
    "        scope = 'preprocessing', \n",
    "        subject = sub, \n",
    "        suffix = 'epo', \n",
    "        desc = 'clean%d'%lowpass,\n",
    "        extension = 'fif.gz', \n",
    "        return_type = 'filename')[0]\n",
    "    epochs = mne.read_epochs(epochs_fpath, preload = True, verbose = False)\n",
    "    dig = mne.channels.make_standard_montage('standard_1020')\n",
    "    epochs = epochs.set_montage(dig)\n",
    "    adj, _ = mne.channels.find_ch_adjacency(epochs.info, 'eeg')\n",
    "    if csd:\n",
    "        epochs = mne.preprocessing.compute_current_source_density(epochs)\n",
    "    X = epochs.get_data() \n",
    "    y = epochs.events[:, 2] \n",
    "    \n",
    "    return X, y, epochs, adj\n",
    "\n",
    "def load_data(lowpass, csd = False):\n",
    "    \n",
    "    X = []\n",
    "    y = []\n",
    "    sub_ids = []\n",
    "    for sub in subjects:\n",
    "        sub_num = int(sub)\n",
    "        _X, _y, epochs, adj = load_subj_data(layout, sub, lowpass, csd)\n",
    "        X.append(_X)\n",
    "        y.append(_y)\n",
    "        sub_ids.append(np.full_like(_y, sub_num))\n",
    "    X = np.concatenate(X)\n",
    "    y = np.concatenate(y)\n",
    "    sub_ids = np.concatenate(sub_ids)\n",
    "    \n",
    "    return X, y, sub_ids, epochs, adj\n",
    "\n",
    "# load data for multivariate decoding\n",
    "X, y, sub_ids, epochs, adj = load_data(30.)"
   ]
  },
  {
   "cell_type": "markdown",
   "id": "35380e27",
   "metadata": {},
   "source": [
    "## Multivariate linear decoder (time-by-time)"
   ]
  },
  {
   "cell_type": "code",
   "execution_count": 5,
   "id": "e40240f9",
   "metadata": {},
   "outputs": [],
   "source": [
    "# define classification pipeline\n",
    "logistic_reg = GEEEstimator(family = 'binomial', cov_type = 'naive')\n",
    "clf = LinearModel(logistic_reg)\n",
    "time_decod = GeneralizingEstimator(clf, n_jobs = 5, scoring = 'roc_auc', verbose = True)"
   ]
  },
  {
   "cell_type": "code",
   "execution_count": 6,
   "id": "c972c02f",
   "metadata": {},
   "outputs": [
    {
     "data": {
      "application/vnd.jupyter.widget-view+json": {
       "model_id": "ce133726909b496caad985f6aaae6a4d",
       "version_major": 2,
       "version_minor": 0
      },
      "text/plain": [
       "  0%|          | Fitting GeneralizingEstimator : 0/36 [00:00<?,       ?it/s]"
      ]
     },
     "metadata": {},
     "output_type": "display_data"
    },
    {
     "data": {
      "application/vnd.jupyter.widget-view+json": {
       "model_id": "577379af3ed94e0e91440b0905f7e0c7",
       "version_major": 2,
       "version_minor": 0
      },
      "text/plain": [
       "  0%|          | Scoring GeneralizingEstimator : 0/1296 [00:00<?,       ?it/s]"
      ]
     },
     "metadata": {},
     "output_type": "display_data"
    },
    {
     "data": {
      "application/vnd.jupyter.widget-view+json": {
       "model_id": "53b30935541a40509b367b475c98d7f6",
       "version_major": 2,
       "version_minor": 0
      },
      "text/plain": [
       "  0%|          | Fitting GeneralizingEstimator : 0/36 [00:00<?,       ?it/s]"
      ]
     },
     "metadata": {},
     "output_type": "display_data"
    },
    {
     "data": {
      "application/vnd.jupyter.widget-view+json": {
       "model_id": "7f419e80ca3d46cdabde8776e2174bc9",
       "version_major": 2,
       "version_minor": 0
      },
      "text/plain": [
       "  0%|          | Scoring GeneralizingEstimator : 0/1296 [00:00<?,       ?it/s]"
      ]
     },
     "metadata": {},
     "output_type": "display_data"
    },
    {
     "data": {
      "application/vnd.jupyter.widget-view+json": {
       "model_id": "9a1935d726d949d4947168945329c14b",
       "version_major": 2,
       "version_minor": 0
      },
      "text/plain": [
       "  0%|          | Fitting GeneralizingEstimator : 0/36 [00:00<?,       ?it/s]"
      ]
     },
     "metadata": {},
     "output_type": "display_data"
    },
    {
     "data": {
      "application/vnd.jupyter.widget-view+json": {
       "model_id": "f8c69cd631c54676a8a9179c57319b69",
       "version_major": 2,
       "version_minor": 0
      },
      "text/plain": [
       "  0%|          | Scoring GeneralizingEstimator : 0/1296 [00:00<?,       ?it/s]"
      ]
     },
     "metadata": {},
     "output_type": "display_data"
    },
    {
     "data": {
      "application/vnd.jupyter.widget-view+json": {
       "model_id": "12b9ea36d8724fcfb0ef243a3fa152bf",
       "version_major": 2,
       "version_minor": 0
      },
      "text/plain": [
       "  0%|          | Fitting GeneralizingEstimator : 0/36 [00:00<?,       ?it/s]"
      ]
     },
     "metadata": {},
     "output_type": "display_data"
    },
    {
     "data": {
      "application/vnd.jupyter.widget-view+json": {
       "model_id": "41a75b1bbc514863933cf96f5b15302d",
       "version_major": 2,
       "version_minor": 0
      },
      "text/plain": [
       "  0%|          | Scoring GeneralizingEstimator : 0/1296 [00:00<?,       ?it/s]"
      ]
     },
     "metadata": {},
     "output_type": "display_data"
    },
    {
     "data": {
      "application/vnd.jupyter.widget-view+json": {
       "model_id": "45f882e73bd94a4292ea34872aa2f461",
       "version_major": 2,
       "version_minor": 0
      },
      "text/plain": [
       "  0%|          | Fitting GeneralizingEstimator : 0/36 [00:00<?,       ?it/s]"
      ]
     },
     "metadata": {},
     "output_type": "display_data"
    },
    {
     "data": {
      "application/vnd.jupyter.widget-view+json": {
       "model_id": "74fa4558e60b41ba8a3cb06ccca4b07f",
       "version_major": 2,
       "version_minor": 0
      },
      "text/plain": [
       "  0%|          | Scoring GeneralizingEstimator : 0/1296 [00:00<?,       ?it/s]"
      ]
     },
     "metadata": {},
     "output_type": "display_data"
    },
    {
     "data": {
      "application/vnd.jupyter.widget-view+json": {
       "model_id": "31bbbdfec48f49caab480d48571011e9",
       "version_major": 2,
       "version_minor": 0
      },
      "text/plain": [
       "  0%|          | Fitting GeneralizingEstimator : 0/36 [00:00<?,       ?it/s]"
      ]
     },
     "metadata": {},
     "output_type": "display_data"
    },
    {
     "data": {
      "application/vnd.jupyter.widget-view+json": {
       "model_id": "61d9781b2b644b2bbef405a06d010349",
       "version_major": 2,
       "version_minor": 0
      },
      "text/plain": [
       "  0%|          | Scoring GeneralizingEstimator : 0/1296 [00:00<?,       ?it/s]"
      ]
     },
     "metadata": {},
     "output_type": "display_data"
    },
    {
     "name": "stderr",
     "output_type": "stream",
     "text": [
      "/home/johnv/anaconda3/envs/agency/lib/python3.10/site-packages/joblib/externals/loky/process_executor.py:702: UserWarning: A worker stopped while some jobs were given to the executor. This can be caused by a too short worker timeout or by a memory leak.\n",
      "  warnings.warn(\n"
     ]
    },
    {
     "data": {
      "application/vnd.jupyter.widget-view+json": {
       "model_id": "25ef28c56e06468fbc257ededeb798d5",
       "version_major": 2,
       "version_minor": 0
      },
      "text/plain": [
       "  0%|          | Fitting GeneralizingEstimator : 0/36 [00:00<?,       ?it/s]"
      ]
     },
     "metadata": {},
     "output_type": "display_data"
    },
    {
     "data": {
      "application/vnd.jupyter.widget-view+json": {
       "model_id": "0546ecd844eb4ac39b349d611be51ba4",
       "version_major": 2,
       "version_minor": 0
      },
      "text/plain": [
       "  0%|          | Scoring GeneralizingEstimator : 0/1296 [00:00<?,       ?it/s]"
      ]
     },
     "metadata": {},
     "output_type": "display_data"
    },
    {
     "data": {
      "application/vnd.jupyter.widget-view+json": {
       "model_id": "e80f36a1d195436da63a70a14a8df426",
       "version_major": 2,
       "version_minor": 0
      },
      "text/plain": [
       "  0%|          | Fitting GeneralizingEstimator : 0/36 [00:00<?,       ?it/s]"
      ]
     },
     "metadata": {},
     "output_type": "display_data"
    },
    {
     "data": {
      "application/vnd.jupyter.widget-view+json": {
       "model_id": "06db2316549b459b87dca61c2b50bb7f",
       "version_major": 2,
       "version_minor": 0
      },
      "text/plain": [
       "  0%|          | Scoring GeneralizingEstimator : 0/1296 [00:00<?,       ?it/s]"
      ]
     },
     "metadata": {},
     "output_type": "display_data"
    },
    {
     "data": {
      "application/vnd.jupyter.widget-view+json": {
       "model_id": "9c633471144f476a962335e2ed2473ed",
       "version_major": 2,
       "version_minor": 0
      },
      "text/plain": [
       "  0%|          | Fitting GeneralizingEstimator : 0/36 [00:00<?,       ?it/s]"
      ]
     },
     "metadata": {},
     "output_type": "display_data"
    },
    {
     "data": {
      "application/vnd.jupyter.widget-view+json": {
       "model_id": "e438355f568e453494554266b4cbd7cf",
       "version_major": 2,
       "version_minor": 0
      },
      "text/plain": [
       "  0%|          | Scoring GeneralizingEstimator : 0/1296 [00:00<?,       ?it/s]"
      ]
     },
     "metadata": {},
     "output_type": "display_data"
    },
    {
     "data": {
      "application/vnd.jupyter.widget-view+json": {
       "model_id": "f9837c9ac48e4fb595acb9645e644bf1",
       "version_major": 2,
       "version_minor": 0
      },
      "text/plain": [
       "  0%|          | Fitting GeneralizingEstimator : 0/36 [00:00<?,       ?it/s]"
      ]
     },
     "metadata": {},
     "output_type": "display_data"
    },
    {
     "data": {
      "application/vnd.jupyter.widget-view+json": {
       "model_id": "d5cd11bd4f824256827c98b0a7587983",
       "version_major": 2,
       "version_minor": 0
      },
      "text/plain": [
       "  0%|          | Scoring GeneralizingEstimator : 0/1296 [00:00<?,       ?it/s]"
      ]
     },
     "metadata": {},
     "output_type": "display_data"
    },
    {
     "data": {
      "application/vnd.jupyter.widget-view+json": {
       "model_id": "45a1dc894f524550ad9381bcb46c29c3",
       "version_major": 2,
       "version_minor": 0
      },
      "text/plain": [
       "  0%|          | Fitting GeneralizingEstimator : 0/36 [00:00<?,       ?it/s]"
      ]
     },
     "metadata": {},
     "output_type": "display_data"
    },
    {
     "data": {
      "application/vnd.jupyter.widget-view+json": {
       "model_id": "c6942c088a9447cdb811e4ca1d740b06",
       "version_major": 2,
       "version_minor": 0
      },
      "text/plain": [
       "  0%|          | Scoring GeneralizingEstimator : 0/1296 [00:00<?,       ?it/s]"
      ]
     },
     "metadata": {},
     "output_type": "display_data"
    },
    {
     "data": {
      "application/vnd.jupyter.widget-view+json": {
       "model_id": "fb2e0d4518a740938626074ba02d0ee8",
       "version_major": 2,
       "version_minor": 0
      },
      "text/plain": [
       "  0%|          | Fitting GeneralizingEstimator : 0/36 [00:00<?,       ?it/s]"
      ]
     },
     "metadata": {},
     "output_type": "display_data"
    },
    {
     "data": {
      "application/vnd.jupyter.widget-view+json": {
       "model_id": "2e61da0cf4434b43bbfb28024906e974",
       "version_major": 2,
       "version_minor": 0
      },
      "text/plain": [
       "  0%|          | Scoring GeneralizingEstimator : 0/1296 [00:00<?,       ?it/s]"
      ]
     },
     "metadata": {},
     "output_type": "display_data"
    },
    {
     "name": "stderr",
     "output_type": "stream",
     "text": [
      "/home/johnv/anaconda3/envs/agency/lib/python3.10/site-packages/joblib/externals/loky/process_executor.py:702: UserWarning: A worker stopped while some jobs were given to the executor. This can be caused by a too short worker timeout or by a memory leak.\n",
      "  warnings.warn(\n"
     ]
    },
    {
     "data": {
      "application/vnd.jupyter.widget-view+json": {
       "model_id": "35026675defd42c8963af34573e660c0",
       "version_major": 2,
       "version_minor": 0
      },
      "text/plain": [
       "  0%|          | Fitting GeneralizingEstimator : 0/36 [00:00<?,       ?it/s]"
      ]
     },
     "metadata": {},
     "output_type": "display_data"
    },
    {
     "data": {
      "application/vnd.jupyter.widget-view+json": {
       "model_id": "3f45c5246b2a48ef922533e4bddb65d2",
       "version_major": 2,
       "version_minor": 0
      },
      "text/plain": [
       "  0%|          | Scoring GeneralizingEstimator : 0/1296 [00:00<?,       ?it/s]"
      ]
     },
     "metadata": {},
     "output_type": "display_data"
    },
    {
     "data": {
      "application/vnd.jupyter.widget-view+json": {
       "model_id": "7a1b010d643d4a418a3b8057ff692d05",
       "version_major": 2,
       "version_minor": 0
      },
      "text/plain": [
       "  0%|          | Fitting GeneralizingEstimator : 0/36 [00:00<?,       ?it/s]"
      ]
     },
     "metadata": {},
     "output_type": "display_data"
    },
    {
     "data": {
      "application/vnd.jupyter.widget-view+json": {
       "model_id": "2b2f25c1e1704c09b432f40ae2d55880",
       "version_major": 2,
       "version_minor": 0
      },
      "text/plain": [
       "  0%|          | Scoring GeneralizingEstimator : 0/1296 [00:00<?,       ?it/s]"
      ]
     },
     "metadata": {},
     "output_type": "display_data"
    },
    {
     "data": {
      "application/vnd.jupyter.widget-view+json": {
       "model_id": "7321426d1dc04283b0e019e54470cf88",
       "version_major": 2,
       "version_minor": 0
      },
      "text/plain": [
       "  0%|          | Fitting GeneralizingEstimator : 0/36 [00:00<?,       ?it/s]"
      ]
     },
     "metadata": {},
     "output_type": "display_data"
    },
    {
     "data": {
      "application/vnd.jupyter.widget-view+json": {
       "model_id": "e2af3468b84342249437b24a4059903e",
       "version_major": 2,
       "version_minor": 0
      },
      "text/plain": [
       "  0%|          | Scoring GeneralizingEstimator : 0/1296 [00:00<?,       ?it/s]"
      ]
     },
     "metadata": {},
     "output_type": "display_data"
    },
    {
     "data": {
      "application/vnd.jupyter.widget-view+json": {
       "model_id": "9afdf23f5b344c52b465bd3ca9311291",
       "version_major": 2,
       "version_minor": 0
      },
      "text/plain": [
       "  0%|          | Fitting GeneralizingEstimator : 0/36 [00:00<?,       ?it/s]"
      ]
     },
     "metadata": {},
     "output_type": "display_data"
    },
    {
     "data": {
      "application/vnd.jupyter.widget-view+json": {
       "model_id": "043efefbffb34b40bb6f07426c6d307b",
       "version_major": 2,
       "version_minor": 0
      },
      "text/plain": [
       "  0%|          | Scoring GeneralizingEstimator : 0/1296 [00:00<?,       ?it/s]"
      ]
     },
     "metadata": {},
     "output_type": "display_data"
    },
    {
     "data": {
      "application/vnd.jupyter.widget-view+json": {
       "model_id": "4f0c1668481642d5a86bb53f20c8a5e5",
       "version_major": 2,
       "version_minor": 0
      },
      "text/plain": [
       "  0%|          | Fitting GeneralizingEstimator : 0/36 [00:00<?,       ?it/s]"
      ]
     },
     "metadata": {},
     "output_type": "display_data"
    },
    {
     "data": {
      "application/vnd.jupyter.widget-view+json": {
       "model_id": "4510968b749d46068b4abf10f6711c2e",
       "version_major": 2,
       "version_minor": 0
      },
      "text/plain": [
       "  0%|          | Scoring GeneralizingEstimator : 0/1296 [00:00<?,       ?it/s]"
      ]
     },
     "metadata": {},
     "output_type": "display_data"
    },
    {
     "data": {
      "application/vnd.jupyter.widget-view+json": {
       "model_id": "318ae14e4d0448d69e4212bc1cb6ee14",
       "version_major": 2,
       "version_minor": 0
      },
      "text/plain": [
       "  0%|          | Fitting GeneralizingEstimator : 0/36 [00:00<?,       ?it/s]"
      ]
     },
     "metadata": {},
     "output_type": "display_data"
    },
    {
     "data": {
      "application/vnd.jupyter.widget-view+json": {
       "model_id": "a6185126b238444c9dce735e7b34dde9",
       "version_major": 2,
       "version_minor": 0
      },
      "text/plain": [
       "  0%|          | Scoring GeneralizingEstimator : 0/1296 [00:00<?,       ?it/s]"
      ]
     },
     "metadata": {},
     "output_type": "display_data"
    },
    {
     "data": {
      "application/vnd.jupyter.widget-view+json": {
       "model_id": "43cba97176d94cca934a233b57e2cbd7",
       "version_major": 2,
       "version_minor": 0
      },
      "text/plain": [
       "  0%|          | Fitting GeneralizingEstimator : 0/36 [00:00<?,       ?it/s]"
      ]
     },
     "metadata": {},
     "output_type": "display_data"
    },
    {
     "data": {
      "application/vnd.jupyter.widget-view+json": {
       "model_id": "83828d17ec1542279c9007bb11254e23",
       "version_major": 2,
       "version_minor": 0
      },
      "text/plain": [
       "  0%|          | Scoring GeneralizingEstimator : 0/1296 [00:00<?,       ?it/s]"
      ]
     },
     "metadata": {},
     "output_type": "display_data"
    },
    {
     "data": {
      "application/vnd.jupyter.widget-view+json": {
       "model_id": "a8c8ddae14d643cab252268e8d4f6e8e",
       "version_major": 2,
       "version_minor": 0
      },
      "text/plain": [
       "  0%|          | Fitting GeneralizingEstimator : 0/36 [00:00<?,       ?it/s]"
      ]
     },
     "metadata": {},
     "output_type": "display_data"
    },
    {
     "data": {
      "application/vnd.jupyter.widget-view+json": {
       "model_id": "700f8bb7da764f6a98ac86c8913fc773",
       "version_major": 2,
       "version_minor": 0
      },
      "text/plain": [
       "  0%|          | Scoring GeneralizingEstimator : 0/1296 [00:00<?,       ?it/s]"
      ]
     },
     "metadata": {},
     "output_type": "display_data"
    },
    {
     "data": {
      "application/vnd.jupyter.widget-view+json": {
       "model_id": "197d8ca0044b416fafc16fe775dc3ed5",
       "version_major": 2,
       "version_minor": 0
      },
      "text/plain": [
       "  0%|          | Fitting GeneralizingEstimator : 0/36 [00:00<?,       ?it/s]"
      ]
     },
     "metadata": {},
     "output_type": "display_data"
    },
    {
     "data": {
      "application/vnd.jupyter.widget-view+json": {
       "model_id": "1d250c5a18524dc3ba55a787ea465a7a",
       "version_major": 2,
       "version_minor": 0
      },
      "text/plain": [
       "  0%|          | Scoring GeneralizingEstimator : 0/1296 [00:00<?,       ?it/s]"
      ]
     },
     "metadata": {},
     "output_type": "display_data"
    },
    {
     "data": {
      "application/vnd.jupyter.widget-view+json": {
       "model_id": "714cd3087b3e411992816fd4c0b57ca7",
       "version_major": 2,
       "version_minor": 0
      },
      "text/plain": [
       "  0%|          | Fitting GeneralizingEstimator : 0/36 [00:00<?,       ?it/s]"
      ]
     },
     "metadata": {},
     "output_type": "display_data"
    },
    {
     "data": {
      "application/vnd.jupyter.widget-view+json": {
       "model_id": "b47c6aa73b8b4bdbb78b860f2c5730a5",
       "version_major": 2,
       "version_minor": 0
      },
      "text/plain": [
       "  0%|          | Scoring GeneralizingEstimator : 0/1296 [00:00<?,       ?it/s]"
      ]
     },
     "metadata": {},
     "output_type": "display_data"
    },
    {
     "data": {
      "application/vnd.jupyter.widget-view+json": {
       "model_id": "647e0ae5b5184dd8aae90172b420ac65",
       "version_major": 2,
       "version_minor": 0
      },
      "text/plain": [
       "  0%|          | Fitting GeneralizingEstimator : 0/36 [00:00<?,       ?it/s]"
      ]
     },
     "metadata": {},
     "output_type": "display_data"
    },
    {
     "data": {
      "application/vnd.jupyter.widget-view+json": {
       "model_id": "b8f836333a5943c9bba4a5c846f0e334",
       "version_major": 2,
       "version_minor": 0
      },
      "text/plain": [
       "  0%|          | Scoring GeneralizingEstimator : 0/1296 [00:00<?,       ?it/s]"
      ]
     },
     "metadata": {},
     "output_type": "display_data"
    },
    {
     "data": {
      "application/vnd.jupyter.widget-view+json": {
       "model_id": "8da2f6f4509b4c0391da17b60bd1de93",
       "version_major": 2,
       "version_minor": 0
      },
      "text/plain": [
       "  0%|          | Fitting GeneralizingEstimator : 0/36 [00:00<?,       ?it/s]"
      ]
     },
     "metadata": {},
     "output_type": "display_data"
    },
    {
     "data": {
      "application/vnd.jupyter.widget-view+json": {
       "model_id": "5b861e08177a408aa5a91e59d4ab3b62",
       "version_major": 2,
       "version_minor": 0
      },
      "text/plain": [
       "  0%|          | Scoring GeneralizingEstimator : 0/1296 [00:00<?,       ?it/s]"
      ]
     },
     "metadata": {},
     "output_type": "display_data"
    },
    {
     "name": "stderr",
     "output_type": "stream",
     "text": [
      "/home/johnv/anaconda3/envs/agency/lib/python3.10/site-packages/joblib/externals/loky/process_executor.py:702: UserWarning: A worker stopped while some jobs were given to the executor. This can be caused by a too short worker timeout or by a memory leak.\n",
      "  warnings.warn(\n"
     ]
    },
    {
     "data": {
      "application/vnd.jupyter.widget-view+json": {
       "model_id": "55aa30fee11e4a8281e438d202985032",
       "version_major": 2,
       "version_minor": 0
      },
      "text/plain": [
       "  0%|          | Fitting GeneralizingEstimator : 0/36 [00:00<?,       ?it/s]"
      ]
     },
     "metadata": {},
     "output_type": "display_data"
    },
    {
     "data": {
      "application/vnd.jupyter.widget-view+json": {
       "model_id": "44cfb60ee47b41648dd72bd11b85700b",
       "version_major": 2,
       "version_minor": 0
      },
      "text/plain": [
       "  0%|          | Scoring GeneralizingEstimator : 0/1296 [00:00<?,       ?it/s]"
      ]
     },
     "metadata": {},
     "output_type": "display_data"
    },
    {
     "data": {
      "application/vnd.jupyter.widget-view+json": {
       "model_id": "820ff68a99934118b36abb278bf01e19",
       "version_major": 2,
       "version_minor": 0
      },
      "text/plain": [
       "  0%|          | Fitting GeneralizingEstimator : 0/36 [00:00<?,       ?it/s]"
      ]
     },
     "metadata": {},
     "output_type": "display_data"
    },
    {
     "data": {
      "application/vnd.jupyter.widget-view+json": {
       "model_id": "03a97ff1d6b648128fd215ddb8e92b44",
       "version_major": 2,
       "version_minor": 0
      },
      "text/plain": [
       "  0%|          | Scoring GeneralizingEstimator : 0/1296 [00:00<?,       ?it/s]"
      ]
     },
     "metadata": {},
     "output_type": "display_data"
    },
    {
     "data": {
      "application/vnd.jupyter.widget-view+json": {
       "model_id": "297b2ade9e8b4fdaae0ddd24308b7ec7",
       "version_major": 2,
       "version_minor": 0
      },
      "text/plain": [
       "  0%|          | Fitting GeneralizingEstimator : 0/36 [00:00<?,       ?it/s]"
      ]
     },
     "metadata": {},
     "output_type": "display_data"
    },
    {
     "data": {
      "application/vnd.jupyter.widget-view+json": {
       "model_id": "26ad220492554b80b219f1f558fe6385",
       "version_major": 2,
       "version_minor": 0
      },
      "text/plain": [
       "  0%|          | Scoring GeneralizingEstimator : 0/1296 [00:00<?,       ?it/s]"
      ]
     },
     "metadata": {},
     "output_type": "display_data"
    },
    {
     "name": "stderr",
     "output_type": "stream",
     "text": [
      "/home/johnv/anaconda3/envs/agency/lib/python3.10/site-packages/joblib/externals/loky/process_executor.py:702: UserWarning: A worker stopped while some jobs were given to the executor. This can be caused by a too short worker timeout or by a memory leak.\n",
      "  warnings.warn(\n"
     ]
    },
    {
     "data": {
      "application/vnd.jupyter.widget-view+json": {
       "model_id": "823e798614ed4f74a8334b71617f4ae1",
       "version_major": 2,
       "version_minor": 0
      },
      "text/plain": [
       "  0%|          | Fitting GeneralizingEstimator : 0/36 [00:00<?,       ?it/s]"
      ]
     },
     "metadata": {},
     "output_type": "display_data"
    },
    {
     "data": {
      "application/vnd.jupyter.widget-view+json": {
       "model_id": "c93413d1087644adb6b1999a914e4f63",
       "version_major": 2,
       "version_minor": 0
      },
      "text/plain": [
       "  0%|          | Scoring GeneralizingEstimator : 0/1296 [00:00<?,       ?it/s]"
      ]
     },
     "metadata": {},
     "output_type": "display_data"
    },
    {
     "data": {
      "application/vnd.jupyter.widget-view+json": {
       "model_id": "51a78949cd074e708e2ac21754cc52f8",
       "version_major": 2,
       "version_minor": 0
      },
      "text/plain": [
       "  0%|          | Fitting GeneralizingEstimator : 0/36 [00:00<?,       ?it/s]"
      ]
     },
     "metadata": {},
     "output_type": "display_data"
    },
    {
     "data": {
      "application/vnd.jupyter.widget-view+json": {
       "model_id": "f95fa284f01b4f5988a1445c2f7ddb48",
       "version_major": 2,
       "version_minor": 0
      },
      "text/plain": [
       "  0%|          | Scoring GeneralizingEstimator : 0/1296 [00:00<?,       ?it/s]"
      ]
     },
     "metadata": {},
     "output_type": "display_data"
    },
    {
     "data": {
      "application/vnd.jupyter.widget-view+json": {
       "model_id": "5d79cc0b6ff749109f1bd725ccd57c68",
       "version_major": 2,
       "version_minor": 0
      },
      "text/plain": [
       "  0%|          | Fitting GeneralizingEstimator : 0/36 [00:00<?,       ?it/s]"
      ]
     },
     "metadata": {},
     "output_type": "display_data"
    },
    {
     "data": {
      "application/vnd.jupyter.widget-view+json": {
       "model_id": "1b8a5f18843d4e18bcc38dfeaa6c2c8d",
       "version_major": 2,
       "version_minor": 0
      },
      "text/plain": [
       "  0%|          | Scoring GeneralizingEstimator : 0/1296 [00:00<?,       ?it/s]"
      ]
     },
     "metadata": {},
     "output_type": "display_data"
    },
    {
     "name": "stderr",
     "output_type": "stream",
     "text": [
      "/home/johnv/anaconda3/envs/agency/lib/python3.10/site-packages/joblib/externals/loky/process_executor.py:702: UserWarning: A worker stopped while some jobs were given to the executor. This can be caused by a too short worker timeout or by a memory leak.\n",
      "  warnings.warn(\n"
     ]
    },
    {
     "data": {
      "application/vnd.jupyter.widget-view+json": {
       "model_id": "5f7537bb6cdf4d5d960aadba183a8017",
       "version_major": 2,
       "version_minor": 0
      },
      "text/plain": [
       "  0%|          | Fitting GeneralizingEstimator : 0/36 [00:00<?,       ?it/s]"
      ]
     },
     "metadata": {},
     "output_type": "display_data"
    },
    {
     "data": {
      "application/vnd.jupyter.widget-view+json": {
       "model_id": "41183a2b8cb44b7ba7e680a8d698ed21",
       "version_major": 2,
       "version_minor": 0
      },
      "text/plain": [
       "  0%|          | Scoring GeneralizingEstimator : 0/1296 [00:00<?,       ?it/s]"
      ]
     },
     "metadata": {},
     "output_type": "display_data"
    },
    {
     "data": {
      "application/vnd.jupyter.widget-view+json": {
       "model_id": "dbf9dac0c3804d518d0c6391765b9c6a",
       "version_major": 2,
       "version_minor": 0
      },
      "text/plain": [
       "  0%|          | Fitting GeneralizingEstimator : 0/36 [00:00<?,       ?it/s]"
      ]
     },
     "metadata": {},
     "output_type": "display_data"
    },
    {
     "data": {
      "application/vnd.jupyter.widget-view+json": {
       "model_id": "d43324137b484499b45472906727b977",
       "version_major": 2,
       "version_minor": 0
      },
      "text/plain": [
       "  0%|          | Scoring GeneralizingEstimator : 0/1296 [00:00<?,       ?it/s]"
      ]
     },
     "metadata": {},
     "output_type": "display_data"
    },
    {
     "data": {
      "application/vnd.jupyter.widget-view+json": {
       "model_id": "785860a7663149738ce8fee812b2e0ec",
       "version_major": 2,
       "version_minor": 0
      },
      "text/plain": [
       "  0%|          | Fitting GeneralizingEstimator : 0/36 [00:00<?,       ?it/s]"
      ]
     },
     "metadata": {},
     "output_type": "display_data"
    },
    {
     "data": {
      "application/vnd.jupyter.widget-view+json": {
       "model_id": "672907f8c3e4401386833f9abab95a3d",
       "version_major": 2,
       "version_minor": 0
      },
      "text/plain": [
       "  0%|          | Scoring GeneralizingEstimator : 0/1296 [00:00<?,       ?it/s]"
      ]
     },
     "metadata": {},
     "output_type": "display_data"
    },
    {
     "name": "stderr",
     "output_type": "stream",
     "text": [
      "/home/johnv/anaconda3/envs/agency/lib/python3.10/site-packages/joblib/externals/loky/process_executor.py:702: UserWarning: A worker stopped while some jobs were given to the executor. This can be caused by a too short worker timeout or by a memory leak.\n",
      "  warnings.warn(\n"
     ]
    },
    {
     "data": {
      "application/vnd.jupyter.widget-view+json": {
       "model_id": "42de3a1af9b84a34a7c80c5527bfef13",
       "version_major": 2,
       "version_minor": 0
      },
      "text/plain": [
       "  0%|          | Fitting GeneralizingEstimator : 0/36 [00:00<?,       ?it/s]"
      ]
     },
     "metadata": {},
     "output_type": "display_data"
    },
    {
     "data": {
      "application/vnd.jupyter.widget-view+json": {
       "model_id": "1036202a554c427482b312bcf5a7f975",
       "version_major": 2,
       "version_minor": 0
      },
      "text/plain": [
       "  0%|          | Scoring GeneralizingEstimator : 0/1296 [00:00<?,       ?it/s]"
      ]
     },
     "metadata": {},
     "output_type": "display_data"
    },
    {
     "data": {
      "application/vnd.jupyter.widget-view+json": {
       "model_id": "ecfbf377329b4e609dde963c8af0d224",
       "version_major": 2,
       "version_minor": 0
      },
      "text/plain": [
       "  0%|          | Fitting GeneralizingEstimator : 0/36 [00:00<?,       ?it/s]"
      ]
     },
     "metadata": {},
     "output_type": "display_data"
    },
    {
     "data": {
      "application/vnd.jupyter.widget-view+json": {
       "model_id": "51b3a2b377f04c96a9906f1028e1c071",
       "version_major": 2,
       "version_minor": 0
      },
      "text/plain": [
       "  0%|          | Scoring GeneralizingEstimator : 0/1296 [00:00<?,       ?it/s]"
      ]
     },
     "metadata": {},
     "output_type": "display_data"
    },
    {
     "data": {
      "application/vnd.jupyter.widget-view+json": {
       "model_id": "b086db915f9b469d82a7871b65be281f",
       "version_major": 2,
       "version_minor": 0
      },
      "text/plain": [
       "  0%|          | Fitting GeneralizingEstimator : 0/36 [00:00<?,       ?it/s]"
      ]
     },
     "metadata": {},
     "output_type": "display_data"
    },
    {
     "data": {
      "application/vnd.jupyter.widget-view+json": {
       "model_id": "6aa5edd961f04d2fad21e9c0a7e2262a",
       "version_major": 2,
       "version_minor": 0
      },
      "text/plain": [
       "  0%|          | Scoring GeneralizingEstimator : 0/1296 [00:00<?,       ?it/s]"
      ]
     },
     "metadata": {},
     "output_type": "display_data"
    },
    {
     "name": "stderr",
     "output_type": "stream",
     "text": [
      "/home/johnv/anaconda3/envs/agency/lib/python3.10/site-packages/joblib/externals/loky/process_executor.py:702: UserWarning: A worker stopped while some jobs were given to the executor. This can be caused by a too short worker timeout or by a memory leak.\n",
      "  warnings.warn(\n"
     ]
    },
    {
     "data": {
      "application/vnd.jupyter.widget-view+json": {
       "model_id": "06e018a13a88463a8af16bdc8f28d3d2",
       "version_major": 2,
       "version_minor": 0
      },
      "text/plain": [
       "  0%|          | Fitting GeneralizingEstimator : 0/36 [00:00<?,       ?it/s]"
      ]
     },
     "metadata": {},
     "output_type": "display_data"
    },
    {
     "data": {
      "application/vnd.jupyter.widget-view+json": {
       "model_id": "8955c6ff31f7458caf9a312f68b42ef4",
       "version_major": 2,
       "version_minor": 0
      },
      "text/plain": [
       "  0%|          | Scoring GeneralizingEstimator : 0/1296 [00:00<?,       ?it/s]"
      ]
     },
     "metadata": {},
     "output_type": "display_data"
    },
    {
     "data": {
      "application/vnd.jupyter.widget-view+json": {
       "model_id": "0d07c167f00b4937b484ec225183e23e",
       "version_major": 2,
       "version_minor": 0
      },
      "text/plain": [
       "  0%|          | Fitting GeneralizingEstimator : 0/36 [00:00<?,       ?it/s]"
      ]
     },
     "metadata": {},
     "output_type": "display_data"
    },
    {
     "data": {
      "application/vnd.jupyter.widget-view+json": {
       "model_id": "b92cdc81670d49fcb8f26940245c2f3e",
       "version_major": 2,
       "version_minor": 0
      },
      "text/plain": [
       "  0%|          | Scoring GeneralizingEstimator : 0/1296 [00:00<?,       ?it/s]"
      ]
     },
     "metadata": {},
     "output_type": "display_data"
    },
    {
     "data": {
      "application/vnd.jupyter.widget-view+json": {
       "model_id": "3845210f6ab64b0eb74f51c145e9ce58",
       "version_major": 2,
       "version_minor": 0
      },
      "text/plain": [
       "  0%|          | Fitting GeneralizingEstimator : 0/36 [00:00<?,       ?it/s]"
      ]
     },
     "metadata": {},
     "output_type": "display_data"
    },
    {
     "data": {
      "application/vnd.jupyter.widget-view+json": {
       "model_id": "50e88e22981741f4bf80fc2250e06648",
       "version_major": 2,
       "version_minor": 0
      },
      "text/plain": [
       "  0%|          | Scoring GeneralizingEstimator : 0/1296 [00:00<?,       ?it/s]"
      ]
     },
     "metadata": {},
     "output_type": "display_data"
    },
    {
     "name": "stderr",
     "output_type": "stream",
     "text": [
      "/home/johnv/anaconda3/envs/agency/lib/python3.10/site-packages/joblib/externals/loky/process_executor.py:702: UserWarning: A worker stopped while some jobs were given to the executor. This can be caused by a too short worker timeout or by a memory leak.\n",
      "  warnings.warn(\n"
     ]
    },
    {
     "data": {
      "application/vnd.jupyter.widget-view+json": {
       "model_id": "e33a9535c74b4b858a8313bd33d1d030",
       "version_major": 2,
       "version_minor": 0
      },
      "text/plain": [
       "  0%|          | Fitting GeneralizingEstimator : 0/36 [00:00<?,       ?it/s]"
      ]
     },
     "metadata": {},
     "output_type": "display_data"
    },
    {
     "data": {
      "application/vnd.jupyter.widget-view+json": {
       "model_id": "6ee77dc547fa4031a8ac310c7e7b6b1d",
       "version_major": 2,
       "version_minor": 0
      },
      "text/plain": [
       "  0%|          | Scoring GeneralizingEstimator : 0/1296 [00:00<?,       ?it/s]"
      ]
     },
     "metadata": {},
     "output_type": "display_data"
    },
    {
     "data": {
      "application/vnd.jupyter.widget-view+json": {
       "model_id": "432d579280924a4cabcf6593b1c31f68",
       "version_major": 2,
       "version_minor": 0
      },
      "text/plain": [
       "  0%|          | Fitting GeneralizingEstimator : 0/36 [00:00<?,       ?it/s]"
      ]
     },
     "metadata": {},
     "output_type": "display_data"
    },
    {
     "data": {
      "application/vnd.jupyter.widget-view+json": {
       "model_id": "afb419727e2f43abb929e6f6c299c5de",
       "version_major": 2,
       "version_minor": 0
      },
      "text/plain": [
       "  0%|          | Scoring GeneralizingEstimator : 0/1296 [00:00<?,       ?it/s]"
      ]
     },
     "metadata": {},
     "output_type": "display_data"
    },
    {
     "data": {
      "application/vnd.jupyter.widget-view+json": {
       "model_id": "17702836adf647e09b3551aa8a8b9279",
       "version_major": 2,
       "version_minor": 0
      },
      "text/plain": [
       "  0%|          | Fitting GeneralizingEstimator : 0/36 [00:00<?,       ?it/s]"
      ]
     },
     "metadata": {},
     "output_type": "display_data"
    },
    {
     "data": {
      "application/vnd.jupyter.widget-view+json": {
       "model_id": "f320f7d4adb8414db51276a76d722ad1",
       "version_major": 2,
       "version_minor": 0
      },
      "text/plain": [
       "  0%|          | Scoring GeneralizingEstimator : 0/1296 [00:00<?,       ?it/s]"
      ]
     },
     "metadata": {},
     "output_type": "display_data"
    },
    {
     "name": "stderr",
     "output_type": "stream",
     "text": [
      "/home/johnv/anaconda3/envs/agency/lib/python3.10/site-packages/joblib/externals/loky/process_executor.py:702: UserWarning: A worker stopped while some jobs were given to the executor. This can be caused by a too short worker timeout or by a memory leak.\n",
      "  warnings.warn(\n"
     ]
    },
    {
     "data": {
      "application/vnd.jupyter.widget-view+json": {
       "model_id": "a53dce57749444489998686dbd7404ef",
       "version_major": 2,
       "version_minor": 0
      },
      "text/plain": [
       "  0%|          | Fitting GeneralizingEstimator : 0/36 [00:00<?,       ?it/s]"
      ]
     },
     "metadata": {},
     "output_type": "display_data"
    },
    {
     "data": {
      "application/vnd.jupyter.widget-view+json": {
       "model_id": "46eab21bd05248c298063e15d6ec96c9",
       "version_major": 2,
       "version_minor": 0
      },
      "text/plain": [
       "  0%|          | Scoring GeneralizingEstimator : 0/1296 [00:00<?,       ?it/s]"
      ]
     },
     "metadata": {},
     "output_type": "display_data"
    },
    {
     "data": {
      "application/vnd.jupyter.widget-view+json": {
       "model_id": "9f4fbf89ef87442fbb9ec41e9b7dc462",
       "version_major": 2,
       "version_minor": 0
      },
      "text/plain": [
       "  0%|          | Fitting GeneralizingEstimator : 0/36 [00:00<?,       ?it/s]"
      ]
     },
     "metadata": {},
     "output_type": "display_data"
    },
    {
     "data": {
      "application/vnd.jupyter.widget-view+json": {
       "model_id": "9c241fb778f94973a2693b231526c12a",
       "version_major": 2,
       "version_minor": 0
      },
      "text/plain": [
       "  0%|          | Scoring GeneralizingEstimator : 0/1296 [00:00<?,       ?it/s]"
      ]
     },
     "metadata": {},
     "output_type": "display_data"
    },
    {
     "data": {
      "application/vnd.jupyter.widget-view+json": {
       "model_id": "40544a5553af4a4695c50c9164cd5367",
       "version_major": 2,
       "version_minor": 0
      },
      "text/plain": [
       "  0%|          | Fitting GeneralizingEstimator : 0/36 [00:00<?,       ?it/s]"
      ]
     },
     "metadata": {},
     "output_type": "display_data"
    },
    {
     "data": {
      "application/vnd.jupyter.widget-view+json": {
       "model_id": "063213d5f55b42a9a3af6e21f850c37f",
       "version_major": 2,
       "version_minor": 0
      },
      "text/plain": [
       "  0%|          | Scoring GeneralizingEstimator : 0/1296 [00:00<?,       ?it/s]"
      ]
     },
     "metadata": {},
     "output_type": "display_data"
    },
    {
     "data": {
      "application/vnd.jupyter.widget-view+json": {
       "model_id": "5b9ad1f9fadb43a8873b0c8011232337",
       "version_major": 2,
       "version_minor": 0
      },
      "text/plain": [
       "  0%|          | Fitting GeneralizingEstimator : 0/36 [00:00<?,       ?it/s]"
      ]
     },
     "metadata": {},
     "output_type": "display_data"
    },
    {
     "data": {
      "application/vnd.jupyter.widget-view+json": {
       "model_id": "4cea8b72379f46cbaa53ce560e4b5d83",
       "version_major": 2,
       "version_minor": 0
      },
      "text/plain": [
       "  0%|          | Scoring GeneralizingEstimator : 0/1296 [00:00<?,       ?it/s]"
      ]
     },
     "metadata": {},
     "output_type": "display_data"
    },
    {
     "data": {
      "application/vnd.jupyter.widget-view+json": {
       "model_id": "89a868106f454543b2e41108e7db2d2c",
       "version_major": 2,
       "version_minor": 0
      },
      "text/plain": [
       "  0%|          | Fitting GeneralizingEstimator : 0/36 [00:00<?,       ?it/s]"
      ]
     },
     "metadata": {},
     "output_type": "display_data"
    },
    {
     "data": {
      "application/vnd.jupyter.widget-view+json": {
       "model_id": "1035bf1d80e740d3b453c4559293bf0c",
       "version_major": 2,
       "version_minor": 0
      },
      "text/plain": [
       "  0%|          | Scoring GeneralizingEstimator : 0/1296 [00:00<?,       ?it/s]"
      ]
     },
     "metadata": {},
     "output_type": "display_data"
    },
    {
     "data": {
      "application/vnd.jupyter.widget-view+json": {
       "model_id": "68f2d57fdd6a4467a29b2594f7c739be",
       "version_major": 2,
       "version_minor": 0
      },
      "text/plain": [
       "  0%|          | Fitting GeneralizingEstimator : 0/36 [00:00<?,       ?it/s]"
      ]
     },
     "metadata": {},
     "output_type": "display_data"
    },
    {
     "data": {
      "application/vnd.jupyter.widget-view+json": {
       "model_id": "5e2876403f0d43978bf58a4eb47706a7",
       "version_major": 2,
       "version_minor": 0
      },
      "text/plain": [
       "  0%|          | Scoring GeneralizingEstimator : 0/1296 [00:00<?,       ?it/s]"
      ]
     },
     "metadata": {},
     "output_type": "display_data"
    },
    {
     "data": {
      "application/vnd.jupyter.widget-view+json": {
       "model_id": "b81819606dca4c23883994483678434e",
       "version_major": 2,
       "version_minor": 0
      },
      "text/plain": [
       "  0%|          | Fitting GeneralizingEstimator : 0/36 [00:00<?,       ?it/s]"
      ]
     },
     "metadata": {},
     "output_type": "display_data"
    },
    {
     "data": {
      "application/vnd.jupyter.widget-view+json": {
       "model_id": "588b4f3a8fd7426394f14564dadea859",
       "version_major": 2,
       "version_minor": 0
      },
      "text/plain": [
       "  0%|          | Scoring GeneralizingEstimator : 0/1296 [00:00<?,       ?it/s]"
      ]
     },
     "metadata": {},
     "output_type": "display_data"
    },
    {
     "data": {
      "application/vnd.jupyter.widget-view+json": {
       "model_id": "96da07df9fb24002ba284db535b9cf28",
       "version_major": 2,
       "version_minor": 0
      },
      "text/plain": [
       "  0%|          | Fitting GeneralizingEstimator : 0/36 [00:00<?,       ?it/s]"
      ]
     },
     "metadata": {},
     "output_type": "display_data"
    },
    {
     "data": {
      "application/vnd.jupyter.widget-view+json": {
       "model_id": "736283bf7b9a48de9591bf05a4b090e9",
       "version_major": 2,
       "version_minor": 0
      },
      "text/plain": [
       "  0%|          | Scoring GeneralizingEstimator : 0/1296 [00:00<?,       ?it/s]"
      ]
     },
     "metadata": {},
     "output_type": "display_data"
    },
    {
     "data": {
      "application/vnd.jupyter.widget-view+json": {
       "model_id": "77a0d6ed6b2f4cafb3121bcb7cc8f01d",
       "version_major": 2,
       "version_minor": 0
      },
      "text/plain": [
       "  0%|          | Fitting GeneralizingEstimator : 0/36 [00:00<?,       ?it/s]"
      ]
     },
     "metadata": {},
     "output_type": "display_data"
    },
    {
     "data": {
      "application/vnd.jupyter.widget-view+json": {
       "model_id": "bb0b464fa8df44b1839640baead55450",
       "version_major": 2,
       "version_minor": 0
      },
      "text/plain": [
       "  0%|          | Scoring GeneralizingEstimator : 0/1296 [00:00<?,       ?it/s]"
      ]
     },
     "metadata": {},
     "output_type": "display_data"
    },
    {
     "name": "stderr",
     "output_type": "stream",
     "text": [
      "/home/johnv/anaconda3/envs/agency/lib/python3.10/site-packages/joblib/externals/loky/process_executor.py:702: UserWarning: A worker stopped while some jobs were given to the executor. This can be caused by a too short worker timeout or by a memory leak.\n",
      "  warnings.warn(\n"
     ]
    },
    {
     "data": {
      "application/vnd.jupyter.widget-view+json": {
       "model_id": "c9277cd461c84805bb61e7418cf697a2",
       "version_major": 2,
       "version_minor": 0
      },
      "text/plain": [
       "  0%|          | Fitting GeneralizingEstimator : 0/36 [00:00<?,       ?it/s]"
      ]
     },
     "metadata": {},
     "output_type": "display_data"
    },
    {
     "data": {
      "application/vnd.jupyter.widget-view+json": {
       "model_id": "928df7414e5146e69c84f756d51115a1",
       "version_major": 2,
       "version_minor": 0
      },
      "text/plain": [
       "  0%|          | Scoring GeneralizingEstimator : 0/1296 [00:00<?,       ?it/s]"
      ]
     },
     "metadata": {},
     "output_type": "display_data"
    },
    {
     "data": {
      "application/vnd.jupyter.widget-view+json": {
       "model_id": "839e6d894f17451196616b3d4cfaeff8",
       "version_major": 2,
       "version_minor": 0
      },
      "text/plain": [
       "  0%|          | Fitting GeneralizingEstimator : 0/36 [00:00<?,       ?it/s]"
      ]
     },
     "metadata": {},
     "output_type": "display_data"
    },
    {
     "data": {
      "application/vnd.jupyter.widget-view+json": {
       "model_id": "7174766043234e9e8b3d8b7409e36b9a",
       "version_major": 2,
       "version_minor": 0
      },
      "text/plain": [
       "  0%|          | Scoring GeneralizingEstimator : 0/1296 [00:00<?,       ?it/s]"
      ]
     },
     "metadata": {},
     "output_type": "display_data"
    },
    {
     "data": {
      "application/vnd.jupyter.widget-view+json": {
       "model_id": "d07995ce4aaf430489e4c7efd3cfd7b3",
       "version_major": 2,
       "version_minor": 0
      },
      "text/plain": [
       "  0%|          | Fitting GeneralizingEstimator : 0/36 [00:00<?,       ?it/s]"
      ]
     },
     "metadata": {},
     "output_type": "display_data"
    },
    {
     "data": {
      "application/vnd.jupyter.widget-view+json": {
       "model_id": "5b1d787fa50640d0b43fbfb98a76fcbb",
       "version_major": 2,
       "version_minor": 0
      },
      "text/plain": [
       "  0%|          | Scoring GeneralizingEstimator : 0/1296 [00:00<?,       ?it/s]"
      ]
     },
     "metadata": {},
     "output_type": "display_data"
    },
    {
     "data": {
      "application/vnd.jupyter.widget-view+json": {
       "model_id": "fef8819cf46a4ee7b119c0ccbb93c582",
       "version_major": 2,
       "version_minor": 0
      },
      "text/plain": [
       "  0%|          | Fitting GeneralizingEstimator : 0/36 [00:00<?,       ?it/s]"
      ]
     },
     "metadata": {},
     "output_type": "display_data"
    },
    {
     "data": {
      "application/vnd.jupyter.widget-view+json": {
       "model_id": "43216df0b1ab4af5aad034d7307b2f7a",
       "version_major": 2,
       "version_minor": 0
      },
      "text/plain": [
       "  0%|          | Scoring GeneralizingEstimator : 0/1296 [00:00<?,       ?it/s]"
      ]
     },
     "metadata": {},
     "output_type": "display_data"
    },
    {
     "data": {
      "application/vnd.jupyter.widget-view+json": {
       "model_id": "94b5063520064ac4991850e2638a8d1a",
       "version_major": 2,
       "version_minor": 0
      },
      "text/plain": [
       "  0%|          | Fitting GeneralizingEstimator : 0/36 [00:00<?,       ?it/s]"
      ]
     },
     "metadata": {},
     "output_type": "display_data"
    },
    {
     "data": {
      "application/vnd.jupyter.widget-view+json": {
       "model_id": "df68651a3e934ee988e75b243b54fec4",
       "version_major": 2,
       "version_minor": 0
      },
      "text/plain": [
       "  0%|          | Scoring GeneralizingEstimator : 0/1296 [00:00<?,       ?it/s]"
      ]
     },
     "metadata": {},
     "output_type": "display_data"
    },
    {
     "data": {
      "application/vnd.jupyter.widget-view+json": {
       "model_id": "f561ff9027bf4eb89388ad94b29f6eb8",
       "version_major": 2,
       "version_minor": 0
      },
      "text/plain": [
       "  0%|          | Fitting GeneralizingEstimator : 0/36 [00:00<?,       ?it/s]"
      ]
     },
     "metadata": {},
     "output_type": "display_data"
    },
    {
     "data": {
      "application/vnd.jupyter.widget-view+json": {
       "model_id": "aafb72c5f90041ceaa04bfdfaa76e747",
       "version_major": 2,
       "version_minor": 0
      },
      "text/plain": [
       "  0%|          | Scoring GeneralizingEstimator : 0/1296 [00:00<?,       ?it/s]"
      ]
     },
     "metadata": {},
     "output_type": "display_data"
    },
    {
     "data": {
      "application/vnd.jupyter.widget-view+json": {
       "model_id": "4fdf7079090a44e19fda6e15f593bbc0",
       "version_major": 2,
       "version_minor": 0
      },
      "text/plain": [
       "  0%|          | Fitting GeneralizingEstimator : 0/36 [00:00<?,       ?it/s]"
      ]
     },
     "metadata": {},
     "output_type": "display_data"
    },
    {
     "data": {
      "application/vnd.jupyter.widget-view+json": {
       "model_id": "f5ec36f8c31a426c994feeafd4d67eb0",
       "version_major": 2,
       "version_minor": 0
      },
      "text/plain": [
       "  0%|          | Scoring GeneralizingEstimator : 0/1296 [00:00<?,       ?it/s]"
      ]
     },
     "metadata": {},
     "output_type": "display_data"
    },
    {
     "data": {
      "application/vnd.jupyter.widget-view+json": {
       "model_id": "457ae63d72aa443fa14889c88b64a796",
       "version_major": 2,
       "version_minor": 0
      },
      "text/plain": [
       "  0%|          | Fitting GeneralizingEstimator : 0/36 [00:00<?,       ?it/s]"
      ]
     },
     "metadata": {},
     "output_type": "display_data"
    },
    {
     "data": {
      "application/vnd.jupyter.widget-view+json": {
       "model_id": "df697c5dc2b94238acdf26098ead3be5",
       "version_major": 2,
       "version_minor": 0
      },
      "text/plain": [
       "  0%|          | Scoring GeneralizingEstimator : 0/1296 [00:00<?,       ?it/s]"
      ]
     },
     "metadata": {},
     "output_type": "display_data"
    },
    {
     "data": {
      "application/vnd.jupyter.widget-view+json": {
       "model_id": "8044c5c513fc451581db0fa9c74cd48c",
       "version_major": 2,
       "version_minor": 0
      },
      "text/plain": [
       "  0%|          | Fitting GeneralizingEstimator : 0/36 [00:00<?,       ?it/s]"
      ]
     },
     "metadata": {},
     "output_type": "display_data"
    },
    {
     "data": {
      "application/vnd.jupyter.widget-view+json": {
       "model_id": "7d6ae339e61342f1bf5f353e6f34a7ea",
       "version_major": 2,
       "version_minor": 0
      },
      "text/plain": [
       "  0%|          | Scoring GeneralizingEstimator : 0/1296 [00:00<?,       ?it/s]"
      ]
     },
     "metadata": {},
     "output_type": "display_data"
    },
    {
     "name": "stderr",
     "output_type": "stream",
     "text": [
      "/home/johnv/anaconda3/envs/agency/lib/python3.10/site-packages/joblib/externals/loky/process_executor.py:702: UserWarning: A worker stopped while some jobs were given to the executor. This can be caused by a too short worker timeout or by a memory leak.\n",
      "  warnings.warn(\n"
     ]
    },
    {
     "data": {
      "application/vnd.jupyter.widget-view+json": {
       "model_id": "4902561b865142e68264a3bd93d95548",
       "version_major": 2,
       "version_minor": 0
      },
      "text/plain": [
       "  0%|          | Fitting GeneralizingEstimator : 0/36 [00:00<?,       ?it/s]"
      ]
     },
     "metadata": {},
     "output_type": "display_data"
    },
    {
     "data": {
      "application/vnd.jupyter.widget-view+json": {
       "model_id": "3ccde59ed6f54c38b4adc0077a7ca487",
       "version_major": 2,
       "version_minor": 0
      },
      "text/plain": [
       "  0%|          | Scoring GeneralizingEstimator : 0/1296 [00:00<?,       ?it/s]"
      ]
     },
     "metadata": {},
     "output_type": "display_data"
    },
    {
     "data": {
      "application/vnd.jupyter.widget-view+json": {
       "model_id": "7ad5de6fc0154c299482c4e9038672d4",
       "version_major": 2,
       "version_minor": 0
      },
      "text/plain": [
       "  0%|          | Fitting GeneralizingEstimator : 0/36 [00:00<?,       ?it/s]"
      ]
     },
     "metadata": {},
     "output_type": "display_data"
    },
    {
     "data": {
      "application/vnd.jupyter.widget-view+json": {
       "model_id": "74c062d88a96420f99917916ba28b7d4",
       "version_major": 2,
       "version_minor": 0
      },
      "text/plain": [
       "  0%|          | Scoring GeneralizingEstimator : 0/1296 [00:00<?,       ?it/s]"
      ]
     },
     "metadata": {},
     "output_type": "display_data"
    },
    {
     "data": {
      "application/vnd.jupyter.widget-view+json": {
       "model_id": "569a6f8e18ec454d9f7984421d30bee1",
       "version_major": 2,
       "version_minor": 0
      },
      "text/plain": [
       "  0%|          | Fitting GeneralizingEstimator : 0/36 [00:00<?,       ?it/s]"
      ]
     },
     "metadata": {},
     "output_type": "display_data"
    },
    {
     "data": {
      "application/vnd.jupyter.widget-view+json": {
       "model_id": "c8dea32bc5b74f7a83b7978937d1f712",
       "version_major": 2,
       "version_minor": 0
      },
      "text/plain": [
       "  0%|          | Scoring GeneralizingEstimator : 0/1296 [00:00<?,       ?it/s]"
      ]
     },
     "metadata": {},
     "output_type": "display_data"
    },
    {
     "data": {
      "application/vnd.jupyter.widget-view+json": {
       "model_id": "0f1d944f9f124596bb73bb039362f7e5",
       "version_major": 2,
       "version_minor": 0
      },
      "text/plain": [
       "  0%|          | Fitting GeneralizingEstimator : 0/36 [00:00<?,       ?it/s]"
      ]
     },
     "metadata": {},
     "output_type": "display_data"
    },
    {
     "data": {
      "application/vnd.jupyter.widget-view+json": {
       "model_id": "49a78d1d11c6458d86c2a3dbd9755488",
       "version_major": 2,
       "version_minor": 0
      },
      "text/plain": [
       "  0%|          | Scoring GeneralizingEstimator : 0/1296 [00:00<?,       ?it/s]"
      ]
     },
     "metadata": {},
     "output_type": "display_data"
    },
    {
     "data": {
      "application/vnd.jupyter.widget-view+json": {
       "model_id": "1bfd363fccad48adbbdd8b362fac5a59",
       "version_major": 2,
       "version_minor": 0
      },
      "text/plain": [
       "  0%|          | Fitting GeneralizingEstimator : 0/36 [00:00<?,       ?it/s]"
      ]
     },
     "metadata": {},
     "output_type": "display_data"
    },
    {
     "data": {
      "application/vnd.jupyter.widget-view+json": {
       "model_id": "064540965bf948c7b68c1ebbc2df5f65",
       "version_major": 2,
       "version_minor": 0
      },
      "text/plain": [
       "  0%|          | Scoring GeneralizingEstimator : 0/1296 [00:00<?,       ?it/s]"
      ]
     },
     "metadata": {},
     "output_type": "display_data"
    },
    {
     "data": {
      "application/vnd.jupyter.widget-view+json": {
       "model_id": "c5b3199990834ca994ad56abe9315f7e",
       "version_major": 2,
       "version_minor": 0
      },
      "text/plain": [
       "  0%|          | Fitting GeneralizingEstimator : 0/36 [00:00<?,       ?it/s]"
      ]
     },
     "metadata": {},
     "output_type": "display_data"
    },
    {
     "data": {
      "application/vnd.jupyter.widget-view+json": {
       "model_id": "b1f9efe91f474e96b5ec6cc7252db231",
       "version_major": 2,
       "version_minor": 0
      },
      "text/plain": [
       "  0%|          | Scoring GeneralizingEstimator : 0/1296 [00:00<?,       ?it/s]"
      ]
     },
     "metadata": {},
     "output_type": "display_data"
    },
    {
     "name": "stderr",
     "output_type": "stream",
     "text": [
      "/home/johnv/anaconda3/envs/agency/lib/python3.10/site-packages/joblib/externals/loky/process_executor.py:702: UserWarning: A worker stopped while some jobs were given to the executor. This can be caused by a too short worker timeout or by a memory leak.\n",
      "  warnings.warn(\n"
     ]
    },
    {
     "data": {
      "application/vnd.jupyter.widget-view+json": {
       "model_id": "7d7beb7a36d748259a9b4c5fb8a47cd9",
       "version_major": 2,
       "version_minor": 0
      },
      "text/plain": [
       "  0%|          | Fitting GeneralizingEstimator : 0/36 [00:00<?,       ?it/s]"
      ]
     },
     "metadata": {},
     "output_type": "display_data"
    },
    {
     "data": {
      "application/vnd.jupyter.widget-view+json": {
       "model_id": "63c21f3dc6444d4d92f84440bcccaf84",
       "version_major": 2,
       "version_minor": 0
      },
      "text/plain": [
       "  0%|          | Scoring GeneralizingEstimator : 0/1296 [00:00<?,       ?it/s]"
      ]
     },
     "metadata": {},
     "output_type": "display_data"
    },
    {
     "data": {
      "application/vnd.jupyter.widget-view+json": {
       "model_id": "a42372cbdad040879ebbfc2efef1a3af",
       "version_major": 2,
       "version_minor": 0
      },
      "text/plain": [
       "  0%|          | Fitting GeneralizingEstimator : 0/36 [00:00<?,       ?it/s]"
      ]
     },
     "metadata": {},
     "output_type": "display_data"
    },
    {
     "data": {
      "application/vnd.jupyter.widget-view+json": {
       "model_id": "ea944c5091a045c4a6940cd949b472ef",
       "version_major": 2,
       "version_minor": 0
      },
      "text/plain": [
       "  0%|          | Scoring GeneralizingEstimator : 0/1296 [00:00<?,       ?it/s]"
      ]
     },
     "metadata": {},
     "output_type": "display_data"
    },
    {
     "data": {
      "application/vnd.jupyter.widget-view+json": {
       "model_id": "b24f3d329cb74d94a9880e15c12baec6",
       "version_major": 2,
       "version_minor": 0
      },
      "text/plain": [
       "  0%|          | Fitting GeneralizingEstimator : 0/36 [00:00<?,       ?it/s]"
      ]
     },
     "metadata": {},
     "output_type": "display_data"
    },
    {
     "data": {
      "application/vnd.jupyter.widget-view+json": {
       "model_id": "626676988b514152bd63ccab7c7a7ea1",
       "version_major": 2,
       "version_minor": 0
      },
      "text/plain": [
       "  0%|          | Scoring GeneralizingEstimator : 0/1296 [00:00<?,       ?it/s]"
      ]
     },
     "metadata": {},
     "output_type": "display_data"
    },
    {
     "name": "stderr",
     "output_type": "stream",
     "text": [
      "/home/johnv/anaconda3/envs/agency/lib/python3.10/site-packages/joblib/externals/loky/process_executor.py:702: UserWarning: A worker stopped while some jobs were given to the executor. This can be caused by a too short worker timeout or by a memory leak.\n",
      "  warnings.warn(\n"
     ]
    },
    {
     "data": {
      "application/vnd.jupyter.widget-view+json": {
       "model_id": "615a2eebdb594831a643250f058405c7",
       "version_major": 2,
       "version_minor": 0
      },
      "text/plain": [
       "  0%|          | Fitting GeneralizingEstimator : 0/36 [00:00<?,       ?it/s]"
      ]
     },
     "metadata": {},
     "output_type": "display_data"
    },
    {
     "data": {
      "application/vnd.jupyter.widget-view+json": {
       "model_id": "1d87712838df4cdfaf34b8eae1ef8cc0",
       "version_major": 2,
       "version_minor": 0
      },
      "text/plain": [
       "  0%|          | Scoring GeneralizingEstimator : 0/1296 [00:00<?,       ?it/s]"
      ]
     },
     "metadata": {},
     "output_type": "display_data"
    },
    {
     "data": {
      "application/vnd.jupyter.widget-view+json": {
       "model_id": "f30f831b7cb741aa9cd35ce465afbc88",
       "version_major": 2,
       "version_minor": 0
      },
      "text/plain": [
       "  0%|          | Fitting GeneralizingEstimator : 0/36 [00:00<?,       ?it/s]"
      ]
     },
     "metadata": {},
     "output_type": "display_data"
    },
    {
     "data": {
      "application/vnd.jupyter.widget-view+json": {
       "model_id": "eedadfafa001437fa9c453eef9e91c15",
       "version_major": 2,
       "version_minor": 0
      },
      "text/plain": [
       "  0%|          | Scoring GeneralizingEstimator : 0/1296 [00:00<?,       ?it/s]"
      ]
     },
     "metadata": {},
     "output_type": "display_data"
    },
    {
     "data": {
      "application/vnd.jupyter.widget-view+json": {
       "model_id": "7198c480a0094a538dafbaca959c2105",
       "version_major": 2,
       "version_minor": 0
      },
      "text/plain": [
       "  0%|          | Fitting GeneralizingEstimator : 0/36 [00:00<?,       ?it/s]"
      ]
     },
     "metadata": {},
     "output_type": "display_data"
    },
    {
     "data": {
      "application/vnd.jupyter.widget-view+json": {
       "model_id": "c570baa203474076a6c6bc9642351f76",
       "version_major": 2,
       "version_minor": 0
      },
      "text/plain": [
       "  0%|          | Scoring GeneralizingEstimator : 0/1296 [00:00<?,       ?it/s]"
      ]
     },
     "metadata": {},
     "output_type": "display_data"
    },
    {
     "name": "stderr",
     "output_type": "stream",
     "text": [
      "/home/johnv/anaconda3/envs/agency/lib/python3.10/site-packages/joblib/externals/loky/process_executor.py:702: UserWarning: A worker stopped while some jobs were given to the executor. This can be caused by a too short worker timeout or by a memory leak.\n",
      "  warnings.warn(\n"
     ]
    },
    {
     "data": {
      "application/vnd.jupyter.widget-view+json": {
       "model_id": "e6ed53ccf54e4709ab17e5cac19a3cd0",
       "version_major": 2,
       "version_minor": 0
      },
      "text/plain": [
       "  0%|          | Fitting GeneralizingEstimator : 0/36 [00:00<?,       ?it/s]"
      ]
     },
     "metadata": {},
     "output_type": "display_data"
    },
    {
     "data": {
      "application/vnd.jupyter.widget-view+json": {
       "model_id": "8d658e6d156c4af9a907431e546b0dd4",
       "version_major": 2,
       "version_minor": 0
      },
      "text/plain": [
       "  0%|          | Scoring GeneralizingEstimator : 0/1296 [00:00<?,       ?it/s]"
      ]
     },
     "metadata": {},
     "output_type": "display_data"
    },
    {
     "data": {
      "application/vnd.jupyter.widget-view+json": {
       "model_id": "ad87c5470cf04b4c837e4bd90c43200c",
       "version_major": 2,
       "version_minor": 0
      },
      "text/plain": [
       "  0%|          | Fitting GeneralizingEstimator : 0/36 [00:00<?,       ?it/s]"
      ]
     },
     "metadata": {},
     "output_type": "display_data"
    },
    {
     "data": {
      "application/vnd.jupyter.widget-view+json": {
       "model_id": "67184a4c07f449c690e361f17704e040",
       "version_major": 2,
       "version_minor": 0
      },
      "text/plain": [
       "  0%|          | Scoring GeneralizingEstimator : 0/1296 [00:00<?,       ?it/s]"
      ]
     },
     "metadata": {},
     "output_type": "display_data"
    },
    {
     "data": {
      "application/vnd.jupyter.widget-view+json": {
       "model_id": "780c63a1cf1848a6b34b12f65aca9080",
       "version_major": 2,
       "version_minor": 0
      },
      "text/plain": [
       "  0%|          | Fitting GeneralizingEstimator : 0/36 [00:00<?,       ?it/s]"
      ]
     },
     "metadata": {},
     "output_type": "display_data"
    },
    {
     "data": {
      "application/vnd.jupyter.widget-view+json": {
       "model_id": "a5dbeb41bb034c0d8f7d0439bb4c4b6b",
       "version_major": 2,
       "version_minor": 0
      },
      "text/plain": [
       "  0%|          | Scoring GeneralizingEstimator : 0/1296 [00:00<?,       ?it/s]"
      ]
     },
     "metadata": {},
     "output_type": "display_data"
    },
    {
     "name": "stderr",
     "output_type": "stream",
     "text": [
      "/home/johnv/anaconda3/envs/agency/lib/python3.10/site-packages/joblib/externals/loky/process_executor.py:702: UserWarning: A worker stopped while some jobs were given to the executor. This can be caused by a too short worker timeout or by a memory leak.\n",
      "  warnings.warn(\n"
     ]
    },
    {
     "data": {
      "application/vnd.jupyter.widget-view+json": {
       "model_id": "69f85c0106eb49b2b73a8b01a85db4e4",
       "version_major": 2,
       "version_minor": 0
      },
      "text/plain": [
       "  0%|          | Fitting GeneralizingEstimator : 0/36 [00:00<?,       ?it/s]"
      ]
     },
     "metadata": {},
     "output_type": "display_data"
    },
    {
     "data": {
      "application/vnd.jupyter.widget-view+json": {
       "model_id": "981ffa2d9b4c498396eb88ec17668ef5",
       "version_major": 2,
       "version_minor": 0
      },
      "text/plain": [
       "  0%|          | Scoring GeneralizingEstimator : 0/1296 [00:00<?,       ?it/s]"
      ]
     },
     "metadata": {},
     "output_type": "display_data"
    },
    {
     "data": {
      "application/vnd.jupyter.widget-view+json": {
       "model_id": "882d04d86c9c446e88032df3131640e5",
       "version_major": 2,
       "version_minor": 0
      },
      "text/plain": [
       "  0%|          | Fitting GeneralizingEstimator : 0/36 [00:00<?,       ?it/s]"
      ]
     },
     "metadata": {},
     "output_type": "display_data"
    },
    {
     "data": {
      "application/vnd.jupyter.widget-view+json": {
       "model_id": "9b6af3f8334948abbc35e69dff09df4a",
       "version_major": 2,
       "version_minor": 0
      },
      "text/plain": [
       "  0%|          | Scoring GeneralizingEstimator : 0/1296 [00:00<?,       ?it/s]"
      ]
     },
     "metadata": {},
     "output_type": "display_data"
    },
    {
     "data": {
      "application/vnd.jupyter.widget-view+json": {
       "model_id": "beaf89ab90c24a8f84cd5ca8bef816dd",
       "version_major": 2,
       "version_minor": 0
      },
      "text/plain": [
       "  0%|          | Fitting GeneralizingEstimator : 0/36 [00:00<?,       ?it/s]"
      ]
     },
     "metadata": {},
     "output_type": "display_data"
    },
    {
     "data": {
      "application/vnd.jupyter.widget-view+json": {
       "model_id": "3d67bb769e1d475888999c59b3c5a6c6",
       "version_major": 2,
       "version_minor": 0
      },
      "text/plain": [
       "  0%|          | Scoring GeneralizingEstimator : 0/1296 [00:00<?,       ?it/s]"
      ]
     },
     "metadata": {},
     "output_type": "display_data"
    },
    {
     "name": "stderr",
     "output_type": "stream",
     "text": [
      "/home/johnv/anaconda3/envs/agency/lib/python3.10/site-packages/joblib/externals/loky/process_executor.py:702: UserWarning: A worker stopped while some jobs were given to the executor. This can be caused by a too short worker timeout or by a memory leak.\n",
      "  warnings.warn(\n"
     ]
    },
    {
     "data": {
      "application/vnd.jupyter.widget-view+json": {
       "model_id": "5a2b329211b14d51910c05426fbc2cb4",
       "version_major": 2,
       "version_minor": 0
      },
      "text/plain": [
       "  0%|          | Fitting GeneralizingEstimator : 0/36 [00:00<?,       ?it/s]"
      ]
     },
     "metadata": {},
     "output_type": "display_data"
    },
    {
     "data": {
      "application/vnd.jupyter.widget-view+json": {
       "model_id": "836a06e89ebf43bca67dd0bd2f2a50e0",
       "version_major": 2,
       "version_minor": 0
      },
      "text/plain": [
       "  0%|          | Scoring GeneralizingEstimator : 0/1296 [00:00<?,       ?it/s]"
      ]
     },
     "metadata": {},
     "output_type": "display_data"
    },
    {
     "data": {
      "application/vnd.jupyter.widget-view+json": {
       "model_id": "5d473755a47f410d843111e8c766395d",
       "version_major": 2,
       "version_minor": 0
      },
      "text/plain": [
       "  0%|          | Fitting GeneralizingEstimator : 0/36 [00:00<?,       ?it/s]"
      ]
     },
     "metadata": {},
     "output_type": "display_data"
    },
    {
     "data": {
      "application/vnd.jupyter.widget-view+json": {
       "model_id": "053a6be5befd45c0861881523e083803",
       "version_major": 2,
       "version_minor": 0
      },
      "text/plain": [
       "  0%|          | Scoring GeneralizingEstimator : 0/1296 [00:00<?,       ?it/s]"
      ]
     },
     "metadata": {},
     "output_type": "display_data"
    },
    {
     "data": {
      "application/vnd.jupyter.widget-view+json": {
       "model_id": "b57a9df0816442ffa7e4f8ec52bacb5c",
       "version_major": 2,
       "version_minor": 0
      },
      "text/plain": [
       "  0%|          | Fitting GeneralizingEstimator : 0/36 [00:00<?,       ?it/s]"
      ]
     },
     "metadata": {},
     "output_type": "display_data"
    },
    {
     "data": {
      "application/vnd.jupyter.widget-view+json": {
       "model_id": "3c7d5b3d9d2447c6b4af6affac71c836",
       "version_major": 2,
       "version_minor": 0
      },
      "text/plain": [
       "  0%|          | Scoring GeneralizingEstimator : 0/1296 [00:00<?,       ?it/s]"
      ]
     },
     "metadata": {},
     "output_type": "display_data"
    },
    {
     "name": "stderr",
     "output_type": "stream",
     "text": [
      "/home/johnv/anaconda3/envs/agency/lib/python3.10/site-packages/joblib/externals/loky/process_executor.py:702: UserWarning: A worker stopped while some jobs were given to the executor. This can be caused by a too short worker timeout or by a memory leak.\n",
      "  warnings.warn(\n"
     ]
    },
    {
     "data": {
      "application/vnd.jupyter.widget-view+json": {
       "model_id": "5ebf7077a34e4d04815a2249b722c469",
       "version_major": 2,
       "version_minor": 0
      },
      "text/plain": [
       "  0%|          | Fitting GeneralizingEstimator : 0/36 [00:00<?,       ?it/s]"
      ]
     },
     "metadata": {},
     "output_type": "display_data"
    },
    {
     "data": {
      "application/vnd.jupyter.widget-view+json": {
       "model_id": "b72f586736054372996ab7e38394435b",
       "version_major": 2,
       "version_minor": 0
      },
      "text/plain": [
       "  0%|          | Scoring GeneralizingEstimator : 0/1296 [00:00<?,       ?it/s]"
      ]
     },
     "metadata": {},
     "output_type": "display_data"
    },
    {
     "data": {
      "application/vnd.jupyter.widget-view+json": {
       "model_id": "76a9a8bc86f647639226b700fa28fe25",
       "version_major": 2,
       "version_minor": 0
      },
      "text/plain": [
       "  0%|          | Fitting GeneralizingEstimator : 0/36 [00:00<?,       ?it/s]"
      ]
     },
     "metadata": {},
     "output_type": "display_data"
    },
    {
     "data": {
      "application/vnd.jupyter.widget-view+json": {
       "model_id": "a34d964001fb4e1d88370825dc154250",
       "version_major": 2,
       "version_minor": 0
      },
      "text/plain": [
       "  0%|          | Scoring GeneralizingEstimator : 0/1296 [00:00<?,       ?it/s]"
      ]
     },
     "metadata": {},
     "output_type": "display_data"
    },
    {
     "data": {
      "application/vnd.jupyter.widget-view+json": {
       "model_id": "12fd7d1575f94198983a32a44285fb59",
       "version_major": 2,
       "version_minor": 0
      },
      "text/plain": [
       "  0%|          | Fitting GeneralizingEstimator : 0/36 [00:00<?,       ?it/s]"
      ]
     },
     "metadata": {},
     "output_type": "display_data"
    },
    {
     "data": {
      "application/vnd.jupyter.widget-view+json": {
       "model_id": "c1095ca798ea4e6882b533f28ccd9f6e",
       "version_major": 2,
       "version_minor": 0
      },
      "text/plain": [
       "  0%|          | Scoring GeneralizingEstimator : 0/1296 [00:00<?,       ?it/s]"
      ]
     },
     "metadata": {},
     "output_type": "display_data"
    },
    {
     "name": "stderr",
     "output_type": "stream",
     "text": [
      "/home/johnv/anaconda3/envs/agency/lib/python3.10/site-packages/joblib/externals/loky/process_executor.py:702: UserWarning: A worker stopped while some jobs were given to the executor. This can be caused by a too short worker timeout or by a memory leak.\n",
      "  warnings.warn(\n"
     ]
    },
    {
     "data": {
      "application/vnd.jupyter.widget-view+json": {
       "model_id": "5f7d6c825f8e4295b70e584d6cac68fe",
       "version_major": 2,
       "version_minor": 0
      },
      "text/plain": [
       "  0%|          | Fitting GeneralizingEstimator : 0/36 [00:00<?,       ?it/s]"
      ]
     },
     "metadata": {},
     "output_type": "display_data"
    },
    {
     "data": {
      "application/vnd.jupyter.widget-view+json": {
       "model_id": "2255c17635d045fc8f2c942f69cdaa40",
       "version_major": 2,
       "version_minor": 0
      },
      "text/plain": [
       "  0%|          | Scoring GeneralizingEstimator : 0/1296 [00:00<?,       ?it/s]"
      ]
     },
     "metadata": {},
     "output_type": "display_data"
    },
    {
     "data": {
      "application/vnd.jupyter.widget-view+json": {
       "model_id": "d45233a674874a08baeeefc87a326d04",
       "version_major": 2,
       "version_minor": 0
      },
      "text/plain": [
       "  0%|          | Fitting GeneralizingEstimator : 0/36 [00:00<?,       ?it/s]"
      ]
     },
     "metadata": {},
     "output_type": "display_data"
    },
    {
     "data": {
      "application/vnd.jupyter.widget-view+json": {
       "model_id": "2a16435ac3de42fd9de2a2f11b31fcd0",
       "version_major": 2,
       "version_minor": 0
      },
      "text/plain": [
       "  0%|          | Scoring GeneralizingEstimator : 0/1296 [00:00<?,       ?it/s]"
      ]
     },
     "metadata": {},
     "output_type": "display_data"
    },
    {
     "data": {
      "application/vnd.jupyter.widget-view+json": {
       "model_id": "4ae95fc923f249588f59023c2501db34",
       "version_major": 2,
       "version_minor": 0
      },
      "text/plain": [
       "  0%|          | Fitting GeneralizingEstimator : 0/36 [00:00<?,       ?it/s]"
      ]
     },
     "metadata": {},
     "output_type": "display_data"
    },
    {
     "data": {
      "application/vnd.jupyter.widget-view+json": {
       "model_id": "dc458bde4f6d4c719af4955f04a1b4f7",
       "version_major": 2,
       "version_minor": 0
      },
      "text/plain": [
       "  0%|          | Scoring GeneralizingEstimator : 0/1296 [00:00<?,       ?it/s]"
      ]
     },
     "metadata": {},
     "output_type": "display_data"
    },
    {
     "name": "stderr",
     "output_type": "stream",
     "text": [
      "/home/johnv/anaconda3/envs/agency/lib/python3.10/site-packages/joblib/externals/loky/process_executor.py:702: UserWarning: A worker stopped while some jobs were given to the executor. This can be caused by a too short worker timeout or by a memory leak.\n",
      "  warnings.warn(\n"
     ]
    },
    {
     "data": {
      "application/vnd.jupyter.widget-view+json": {
       "model_id": "9a9bf05dcb6847f3b7e2464d13ed676f",
       "version_major": 2,
       "version_minor": 0
      },
      "text/plain": [
       "  0%|          | Fitting GeneralizingEstimator : 0/36 [00:00<?,       ?it/s]"
      ]
     },
     "metadata": {},
     "output_type": "display_data"
    },
    {
     "data": {
      "application/vnd.jupyter.widget-view+json": {
       "model_id": "4b05fdbd5e144a9fa935bda7232bdb97",
       "version_major": 2,
       "version_minor": 0
      },
      "text/plain": [
       "  0%|          | Scoring GeneralizingEstimator : 0/1296 [00:00<?,       ?it/s]"
      ]
     },
     "metadata": {},
     "output_type": "display_data"
    },
    {
     "data": {
      "application/vnd.jupyter.widget-view+json": {
       "model_id": "b5d6e64ae0e6444d8f363ca806b9d959",
       "version_major": 2,
       "version_minor": 0
      },
      "text/plain": [
       "  0%|          | Fitting GeneralizingEstimator : 0/36 [00:00<?,       ?it/s]"
      ]
     },
     "metadata": {},
     "output_type": "display_data"
    },
    {
     "data": {
      "application/vnd.jupyter.widget-view+json": {
       "model_id": "211f4c385fd3483595cbd5652c77ef8a",
       "version_major": 2,
       "version_minor": 0
      },
      "text/plain": [
       "  0%|          | Scoring GeneralizingEstimator : 0/1296 [00:00<?,       ?it/s]"
      ]
     },
     "metadata": {},
     "output_type": "display_data"
    },
    {
     "data": {
      "application/vnd.jupyter.widget-view+json": {
       "model_id": "9177efbf63d9427e8ead030a12946f11",
       "version_major": 2,
       "version_minor": 0
      },
      "text/plain": [
       "  0%|          | Fitting GeneralizingEstimator : 0/36 [00:00<?,       ?it/s]"
      ]
     },
     "metadata": {},
     "output_type": "display_data"
    },
    {
     "data": {
      "application/vnd.jupyter.widget-view+json": {
       "model_id": "3854de53cdb64ffa889b52b0cf1f4c0c",
       "version_major": 2,
       "version_minor": 0
      },
      "text/plain": [
       "  0%|          | Scoring GeneralizingEstimator : 0/1296 [00:00<?,       ?it/s]"
      ]
     },
     "metadata": {},
     "output_type": "display_data"
    },
    {
     "data": {
      "application/vnd.jupyter.widget-view+json": {
       "model_id": "ff5fb8a322234716a492827cbf7a7e2f",
       "version_major": 2,
       "version_minor": 0
      },
      "text/plain": [
       "  0%|          | Fitting GeneralizingEstimator : 0/36 [00:00<?,       ?it/s]"
      ]
     },
     "metadata": {},
     "output_type": "display_data"
    },
    {
     "data": {
      "application/vnd.jupyter.widget-view+json": {
       "model_id": "54354bbb843a4df7b62d9fd5b92f84d8",
       "version_major": 2,
       "version_minor": 0
      },
      "text/plain": [
       "  0%|          | Scoring GeneralizingEstimator : 0/1296 [00:00<?,       ?it/s]"
      ]
     },
     "metadata": {},
     "output_type": "display_data"
    },
    {
     "data": {
      "application/vnd.jupyter.widget-view+json": {
       "model_id": "fbd93263be1042b9b636fe7669fdceb6",
       "version_major": 2,
       "version_minor": 0
      },
      "text/plain": [
       "  0%|          | Fitting GeneralizingEstimator : 0/36 [00:00<?,       ?it/s]"
      ]
     },
     "metadata": {},
     "output_type": "display_data"
    },
    {
     "data": {
      "application/vnd.jupyter.widget-view+json": {
       "model_id": "d0dc0ddfdd094e7f9086d3911f6072de",
       "version_major": 2,
       "version_minor": 0
      },
      "text/plain": [
       "  0%|          | Scoring GeneralizingEstimator : 0/1296 [00:00<?,       ?it/s]"
      ]
     },
     "metadata": {},
     "output_type": "display_data"
    },
    {
     "data": {
      "application/vnd.jupyter.widget-view+json": {
       "model_id": "5fe4a20c91ef4c3bbb3090c4569bfbba",
       "version_major": 2,
       "version_minor": 0
      },
      "text/plain": [
       "  0%|          | Fitting GeneralizingEstimator : 0/36 [00:00<?,       ?it/s]"
      ]
     },
     "metadata": {},
     "output_type": "display_data"
    },
    {
     "data": {
      "application/vnd.jupyter.widget-view+json": {
       "model_id": "84486c5391dc4dd982438eceb9e2dc73",
       "version_major": 2,
       "version_minor": 0
      },
      "text/plain": [
       "  0%|          | Scoring GeneralizingEstimator : 0/1296 [00:00<?,       ?it/s]"
      ]
     },
     "metadata": {},
     "output_type": "display_data"
    },
    {
     "name": "stderr",
     "output_type": "stream",
     "text": [
      "/home/johnv/anaconda3/envs/agency/lib/python3.10/site-packages/joblib/externals/loky/process_executor.py:702: UserWarning: A worker stopped while some jobs were given to the executor. This can be caused by a too short worker timeout or by a memory leak.\n",
      "  warnings.warn(\n"
     ]
    },
    {
     "data": {
      "application/vnd.jupyter.widget-view+json": {
       "model_id": "1a1aac12043146e6b0395624078cda63",
       "version_major": 2,
       "version_minor": 0
      },
      "text/plain": [
       "  0%|          | Fitting GeneralizingEstimator : 0/36 [00:00<?,       ?it/s]"
      ]
     },
     "metadata": {},
     "output_type": "display_data"
    },
    {
     "data": {
      "application/vnd.jupyter.widget-view+json": {
       "model_id": "d2031fc7bcca4404ab53ad31c528aff0",
       "version_major": 2,
       "version_minor": 0
      },
      "text/plain": [
       "  0%|          | Scoring GeneralizingEstimator : 0/1296 [00:00<?,       ?it/s]"
      ]
     },
     "metadata": {},
     "output_type": "display_data"
    },
    {
     "data": {
      "application/vnd.jupyter.widget-view+json": {
       "model_id": "b58bb19004eb41028a71e48beb1ff290",
       "version_major": 2,
       "version_minor": 0
      },
      "text/plain": [
       "  0%|          | Fitting GeneralizingEstimator : 0/36 [00:00<?,       ?it/s]"
      ]
     },
     "metadata": {},
     "output_type": "display_data"
    },
    {
     "data": {
      "application/vnd.jupyter.widget-view+json": {
       "model_id": "c7ac2015da154f479834b395ede9fc24",
       "version_major": 2,
       "version_minor": 0
      },
      "text/plain": [
       "  0%|          | Scoring GeneralizingEstimator : 0/1296 [00:00<?,       ?it/s]"
      ]
     },
     "metadata": {},
     "output_type": "display_data"
    },
    {
     "data": {
      "application/vnd.jupyter.widget-view+json": {
       "model_id": "1dd38d5de11c48859d0dff35a436c2a4",
       "version_major": 2,
       "version_minor": 0
      },
      "text/plain": [
       "  0%|          | Fitting GeneralizingEstimator : 0/36 [00:00<?,       ?it/s]"
      ]
     },
     "metadata": {},
     "output_type": "display_data"
    },
    {
     "data": {
      "application/vnd.jupyter.widget-view+json": {
       "model_id": "50695c28018743b1ba2ca382eaa4edf1",
       "version_major": 2,
       "version_minor": 0
      },
      "text/plain": [
       "  0%|          | Scoring GeneralizingEstimator : 0/1296 [00:00<?,       ?it/s]"
      ]
     },
     "metadata": {},
     "output_type": "display_data"
    },
    {
     "data": {
      "application/vnd.jupyter.widget-view+json": {
       "model_id": "c03f49a0c5764b3fad678a9303e49def",
       "version_major": 2,
       "version_minor": 0
      },
      "text/plain": [
       "  0%|          | Fitting GeneralizingEstimator : 0/36 [00:00<?,       ?it/s]"
      ]
     },
     "metadata": {},
     "output_type": "display_data"
    },
    {
     "data": {
      "application/vnd.jupyter.widget-view+json": {
       "model_id": "10b51117bec24987863162d497946ce4",
       "version_major": 2,
       "version_minor": 0
      },
      "text/plain": [
       "  0%|          | Scoring GeneralizingEstimator : 0/1296 [00:00<?,       ?it/s]"
      ]
     },
     "metadata": {},
     "output_type": "display_data"
    },
    {
     "data": {
      "application/vnd.jupyter.widget-view+json": {
       "model_id": "0fe3701e52144ee29ebdc49de5ae416b",
       "version_major": 2,
       "version_minor": 0
      },
      "text/plain": [
       "  0%|          | Fitting GeneralizingEstimator : 0/36 [00:00<?,       ?it/s]"
      ]
     },
     "metadata": {},
     "output_type": "display_data"
    },
    {
     "data": {
      "application/vnd.jupyter.widget-view+json": {
       "model_id": "76414ae29eb1417992209082e5ac6765",
       "version_major": 2,
       "version_minor": 0
      },
      "text/plain": [
       "  0%|          | Scoring GeneralizingEstimator : 0/1296 [00:00<?,       ?it/s]"
      ]
     },
     "metadata": {},
     "output_type": "display_data"
    },
    {
     "data": {
      "application/vnd.jupyter.widget-view+json": {
       "model_id": "b70ab19618b14b8bb93247370b0a91f7",
       "version_major": 2,
       "version_minor": 0
      },
      "text/plain": [
       "  0%|          | Fitting GeneralizingEstimator : 0/36 [00:00<?,       ?it/s]"
      ]
     },
     "metadata": {},
     "output_type": "display_data"
    },
    {
     "data": {
      "application/vnd.jupyter.widget-view+json": {
       "model_id": "1d1a71b4db334da09905a217669ec3d9",
       "version_major": 2,
       "version_minor": 0
      },
      "text/plain": [
       "  0%|          | Scoring GeneralizingEstimator : 0/1296 [00:00<?,       ?it/s]"
      ]
     },
     "metadata": {},
     "output_type": "display_data"
    },
    {
     "name": "stderr",
     "output_type": "stream",
     "text": [
      "/home/johnv/anaconda3/envs/agency/lib/python3.10/site-packages/joblib/externals/loky/process_executor.py:702: UserWarning: A worker stopped while some jobs were given to the executor. This can be caused by a too short worker timeout or by a memory leak.\n",
      "  warnings.warn(\n"
     ]
    },
    {
     "data": {
      "application/vnd.jupyter.widget-view+json": {
       "model_id": "efc701adbf5e4fe3a1ade2217eb3d87d",
       "version_major": 2,
       "version_minor": 0
      },
      "text/plain": [
       "  0%|          | Fitting GeneralizingEstimator : 0/36 [00:00<?,       ?it/s]"
      ]
     },
     "metadata": {},
     "output_type": "display_data"
    },
    {
     "data": {
      "application/vnd.jupyter.widget-view+json": {
       "model_id": "8eb5c8ae99284e7a89c89df7bb13fa39",
       "version_major": 2,
       "version_minor": 0
      },
      "text/plain": [
       "  0%|          | Scoring GeneralizingEstimator : 0/1296 [00:00<?,       ?it/s]"
      ]
     },
     "metadata": {},
     "output_type": "display_data"
    }
   ],
   "source": [
    "# perform cross-validation across subjects\n",
    "cv_methds = [StratifiedGroupKFold(10, shuffle = True, random_state = i) for i in range(10)]\n",
    "optim_params = dict(maxiter = 100, first_dep_update = 20, params_niter = 10)\n",
    "scores = [cross_val_multiscore(\n",
    "    time_decod, \n",
    "    X, y, sub_ids,\n",
    "    fit_params = dict(groups = sub_ids, **optim_params),\n",
    "    n_jobs = 1,\n",
    "    cv = cv) for cv in cv_methds\n",
    "]"
   ]
  },
  {
   "cell_type": "code",
   "execution_count": 7,
   "id": "4da2f444",
   "metadata": {},
   "outputs": [
    {
     "data": {
      "application/vnd.jupyter.widget-view+json": {
       "model_id": "52811c2f5e1d4027bba40ad1e89db9ff",
       "version_major": 2,
       "version_minor": 0
      },
      "text/plain": [
       "  0%|          | Fitting GeneralizingEstimator : 0/36 [00:00<?,       ?it/s]"
      ]
     },
     "metadata": {},
     "output_type": "display_data"
    }
   ],
   "source": [
    "# train final model for visualization\n",
    "time_decod.fit(X, y, groups = sub_ids)\n",
    "# extract \"patterns,\" not model weights, see Haufe et al. (2014)\n",
    "pat = get_coef(time_decod, 'patterns_') \n",
    "patterns = mne.EvokedArray(pat, epochs.info, tmin = epochs.times[0])\n",
    "patterns.nave = None"
   ]
  },
  {
   "cell_type": "code",
   "execution_count": 8,
   "id": "7b524ef3",
   "metadata": {},
   "outputs": [
    {
     "name": "stderr",
     "output_type": "stream",
     "text": [
      "/home/johnv/anaconda3/envs/agency/lib/python3.10/site-packages/mne_ari/ari/parametric.py:62: UserWarning: \n",
      "Parametric ARI assumes that the p-values of individual tests are valid when\n",
      "calculating the true positive proprtion. If this isn't likely true (e.g.\n",
      "you're using a parametric test on M/EEG data), you may want to consider using\n",
      "permutation-based ARI instead.\n",
      "\n",
      "  warnings.warn(\n"
     ]
    }
   ],
   "source": [
    "def ttest_1samp_corrected(scores, chance = .5):\n",
    "    '''\n",
    "    Performs one-sample t-test using the variance correction\n",
    "    proposed by [1] to correct for the issues caused by \n",
    "    overlapping training/test sets across folds (violating \n",
    "    independence assumption of a t-test [2]). Recommended \n",
    "    cross-validation procedure for good replicability is\n",
    "    10 times 10-fold cross-validation [3], but the test \n",
    "    should be conservative for other r x k-fold schemes.\n",
    "    \n",
    "    Input: list of r (k, n_tests) arrays of scores obtained from\n",
    "            a series of r different k-fold cross validation splits\n",
    "            \n",
    "    Output: t-values, p-values, and standard errors from \n",
    "            a kx2 t-test for classification metrics with null\n",
    "            hypothesis that metric == 0.5. These are all\n",
    "            (n_tests,) arrays. Corrected t-stat derived \n",
    "            in [1] and described more readably, with a \n",
    "            k-fold formulation given in [3]\n",
    "            \n",
    "    References\n",
    "    ----------\n",
    "    [1] Nadeau, C., & Bengio, Y. (1999). Inference for the \n",
    "        generalization error. Advances in neural information \n",
    "        processing systems, 12.\n",
    "    [2] Dietterich T.G. (1998) Approximate Statistical Tests for \n",
    "        Comparing Supervised Classification Learning Algorithms.\n",
    "        Neural Comput 10:1895–1923\n",
    "    [3] Bouckaert, R. R., & Frank, E. (2004, May). \n",
    "        Evaluating the replicability of significance tests for \n",
    "        comparing learning algorithms. In Pacific-Asia conference on \n",
    "        knowledge discovery and data mining (pp. 3-12). \n",
    "        Springer, Berlin, Heidelberg.\n",
    "    '''\n",
    "    from scipy.stats import t as t_dist\n",
    "    r = len(scores) # number of cross-validation runs\n",
    "    k = scores[0].shape[0] # number of cross-validation folds\n",
    "    test_train_ratio = 1/(k - 1)\n",
    "    scrs = np.concatenate(scores)\n",
    "    above_chance = scrs - chance\n",
    "    mean_scr = above_chance.mean(axis = 0)\n",
    "    var_scr = above_chance.var(axis = 0)\n",
    "    se_corrected = np.sqrt((1/(k*r) + test_train_ratio) * var_scr)\n",
    "    t = mean_scr / se_corrected\n",
    "    p = t_dist.sf(t, df = r*k - 1) # one-sided p-value \n",
    "    return t, p, mean_scr + chance, se_corrected\n",
    "\n",
    "# evaluate statistical significance of CV results\n",
    "alpha = .05\n",
    "_, p, obs_scores, se = ttest_1samp_corrected(scores)\n",
    "# and correct for multiple comparisons \n",
    "_, tdp, clusters = all_resolutions_inference(\n",
    "    p[np.newaxis, :], alpha, \n",
    "    statfun = lambda x: np.squeeze(x), \n",
    "    ari_type = 'parametric',\n",
    "    thresholds = 'all'\n",
    ")"
   ]
  },
  {
   "cell_type": "code",
   "execution_count": 9,
   "id": "60175c59",
   "metadata": {},
   "outputs": [
    {
     "name": "stderr",
     "output_type": "stream",
     "text": [
      "/tmp/ipykernel_432070/609673913.py:31: RuntimeWarning: `mask` is None, not masking the plot ...\n",
      "  im, _ = _plot_masked_image(\n",
      "/tmp/ipykernel_432070/609673913.py:31: RuntimeWarning: `mask` is None, not adding contour to the plot ...\n",
      "  im, _ = _plot_masked_image(\n"
     ]
    },
    {
     "data": {
      "image/png": "[encoded data removed]",
      "text/plain": [
       "<Figure size 1200x500 with 4 Axes>"
      ]
     },
     "metadata": {},
     "output_type": "display_data"
    }
   ],
   "source": [
    "## plot time-by-time generalization results\n",
    "mm = np.min(obs_scores[:]), np.max(obs_scores[:])\n",
    "delta = np.abs(.5 - np.max(mm))\n",
    "fig, ax = plt.subplots(1, 2, figsize = (12, 5))\n",
    "im, _ = _plot_masked_image(\n",
    "    ax[0], \n",
    "    obs_scores, \n",
    "    times = epochs.times, \n",
    "    yvals = epochs.times,\n",
    "    mask = np.any(np.stack(clusters), axis = 0),\n",
    "    mask_alpha = 1.,\n",
    "    mask_cmap = 'RdBu_r',\n",
    "    vmin = .5 - delta, vmax = .5 + delta\n",
    ")\n",
    "ax[0].set_xlabel('Testing Time (s)')\n",
    "ax[0].set_ylabel('Training Time (s)')\n",
    "#ax[0].set_title('Temporal generalization')\n",
    "ax[0].axvline(0, color = 'k')\n",
    "ax[0].axhline(0, color = 'k')\n",
    "ax[0].axline(\n",
    "    (0, 0), slope = 1, \n",
    "    color = 'k', \n",
    "    linestyle = '--', \n",
    "    linewidth = .5\n",
    ")\n",
    "ax[0].text(-0.2, .5, 'a', size=20, weight = 'bold')\n",
    "cbar = plt.colorbar(im, ax = ax[0])\n",
    "cbar.set_label('ROC-AUC')\n",
    "\n",
    "tdp_cmap = 'cividis'\n",
    "im, _ = _plot_masked_image(\n",
    "    ax[1], \n",
    "    tdp, \n",
    "    times = epochs.times, \n",
    "    yvals = epochs.times,\n",
    "    cmap = tdp_cmap,\n",
    "    #mask = p < .05,\n",
    "    #mask_alpha = 0.1,\n",
    "    #mask_cmap = tdp_cmap,\n",
    "    vmin = 0., vmax = 1.\n",
    ")\n",
    "ax[1].set_xlabel('Testing Time (s)')\n",
    "#ax[1].set_title('True discovery proportion')\n",
    "ax[1].axvline(0, color = 'k')\n",
    "ax[1].axhline(0, color = 'k')\n",
    "ax[1].axline(\n",
    "    (0, 0), slope = 1, \n",
    "    color = 'k', \n",
    "    linestyle = '--', \n",
    "    linewidth = .5\n",
    ")\n",
    "ax[1].text(-0.2, .5, 'b', size = 20, weight = 'bold')\n",
    "cbar = plt.colorbar(im, ax = ax[1])\n",
    "cbar.set_label('True positive proportion')\n",
    "\n",
    "plt.savefig('decoding.png', dpi = 500)\n",
    "plt.show()"
   ]
  },
  {
   "cell_type": "code",
   "execution_count": 10,
   "id": "8e7ba69a",
   "metadata": {},
   "outputs": [
    {
     "name": "stdout",
     "output_type": "stream",
     "text": [
      "No projector specified for this dataset. Please consider the method self.add_proj.\n"
     ]
    },
    {
     "data": {
      "image/png": "[encoded data removed]",
      "text/plain": [
       "<Figure size 640x480 with 11 Axes>"
      ]
     },
     "metadata": {},
     "output_type": "display_data"
    },
    {
     "name": "stdout",
     "output_type": "stream",
     "text": [
      "Cluster 1: 83 to 83 ms, observed score = 0.568, p <= 4.507729496711771e-06\n",
      "Cluster 2: 133 to 133 ms, observed score = 0.573, p <= 2.0303885269128608e-05\n",
      "Cluster 3: 167 to 167 ms, observed score = 0.587, p <= 5.510948326881322e-06\n",
      "Cluster 4: 250 to 300 ms, observed score = 0.565, p <= 0.0030790643521726208\n",
      "Cluster 5: 417 to 417 ms, observed score = 0.555, p <= 3.3039961576385906e-05\n",
      "Cluster 6: 450 to 450 ms, observed score = 0.559, p <= 0.00019054230223170842\n"
     ]
    }
   ],
   "source": [
    "## plot time-by-time decoding results\n",
    "scores_1d = np.diag(obs_scores)\n",
    "se_1d = np.diag(se)\n",
    "# find training times that pass ARI correction at some test time\n",
    "mask = np.any(np.stack(clusters), axis = 0)\n",
    "mask_1d = np.any(mask, axis = 1)\n",
    "clusters_1d, _ = _find_clusters(mask_1d, threshold = .95, tail = 1)\n",
    "clusters_1d = _cluster_indices_to_mask(clusters_1d, mask_1d.size)\n",
    "# get p-val for best test performance for each training time\n",
    "t_idxs = np.arange(obs_scores.shape[0])\n",
    "max_idx = np.argmax(obs_scores, axis = 1)\n",
    "p_1d = p[t_idxs, max_idx]\n",
    "max_scores = obs_scores[t_idxs, max_idx]\n",
    "\n",
    "# determine which times to highlight \n",
    "fs = epochs.info['sfreq']\n",
    "t_start = []\n",
    "t_end = []\n",
    "t = []\n",
    "for i, clust in enumerate(clusters_1d):\n",
    "    times = epochs.times[clust]\n",
    "    t_start.append(min(times))\n",
    "    t_end.append(max(times))\n",
    "    t.append((t_start[i] + t_end[i])/2)\n",
    "\n",
    "# build axes\n",
    "n_maps = len(t)\n",
    "fig = plt.figure(figsize = None)\n",
    "pat_ax = fig.add_subplot(312)\n",
    "ts = n_maps + 2\n",
    "map_ax = [plt.subplot(6, ts, x + 2 + ts) for x in range(n_maps)]\n",
    "cbar_ax = plt.subplot(6, 5 * (ts + 1), 10 * (ts + 1))\n",
    "auc_ax = fig.add_subplot(313)\n",
    "\n",
    "# plot patterns\n",
    "fig = patterns.plot_joint(\n",
    "    t, \n",
    "    show = False, \n",
    "    title = ' ',\n",
    "    ts_args = dict(axes = pat_ax),\n",
    "    topomap_args = dict(\n",
    "        axes = map_ax + [cbar_ax]\n",
    "    )\n",
    ")\n",
    "pat_ax.set_ylabel('patterns (µV)')\n",
    "\n",
    "# plot decoding performance\n",
    "z = norm.ppf(1 - alpha)\n",
    "auc_ax.set_xlim(pat_ax.get_xlim())\n",
    "auc_ax.plot(epochs.times, scores_1d, color = 'blue', label = 'observed')\n",
    "auc_ax.axhline(.5, color = 'black', linestyle = '--', label = 'chance')\n",
    "upper = scores_1d + z*se_1d\n",
    "lower = scores_1d - z*se_1d\n",
    "auc_ax.fill_between(\n",
    "    epochs.times, \n",
    "    upper, lower, \n",
    "    color = 'lightsteelblue', \n",
    "    alpha = .7, \n",
    "    label = '90% CI'\n",
    ")\n",
    "auc_ax.set_xlabel('training time (seconds)')\n",
    "auc_ax.set_ylabel('ROC-AUC')\n",
    "auc_ax.legend(loc = 'upper left')\n",
    "\n",
    "\n",
    "for i, clust in enumerate(clusters_1d):\n",
    "    pat_ax.axvspan(t_start[i] - .5/fs, t_end[i]+ .25/fs, \n",
    "               alpha = .5, color = 'gold', zorder = 0)\n",
    "    auc_ax.axvspan(t_start[i] - .5/fs, t_end[i]+ .25/fs, \n",
    "               alpha = .5, color = 'gold', zorder = 0)\n",
    "    \n",
    "\n",
    "pat_ax.text(-0.2, 5, 'a', size = 20, weight = 'bold') \n",
    "auc_ax.text(-0.2, .6, 'b', size = 20, weight = 'bold') \n",
    "    \n",
    "plt.savefig('patterns.png', dpi = 500, bbox_inches = 'tight')#, pad_inches = 1)\n",
    "plt.show()\n",
    "\n",
    "# print adjusted alphas for cluster inclusion\n",
    "for i, clust in enumerate(clusters_1d):\n",
    "    scr = max_scores[clust].mean() # average within cluster \n",
    "    print(\n",
    "        'Cluster {:d}: {:.0f} to {:.0f} ms, observed score = {:.3f},'.format(\n",
    "            i + 1, 1e3*t_start[i], 1e3*t_end[i], scr\n",
    "        ) + ' p <= ' + str(p_1d[clust].max())\n",
    "    )"
   ]
  },
  {
   "cell_type": "code",
   "execution_count": 11,
   "id": "36de60d3",
   "metadata": {},
   "outputs": [
    {
     "name": "stderr",
     "output_type": "stream",
     "text": [
      "/home/johnv/anaconda3/envs/agency/lib/python3.10/site-packages/statsmodels/base/model.py:1889: FutureWarning: The behavior of wald_test will change after 0.14 to returning scalar test statistic values. To get the future behavior now, set scalar to True. To silence this message while retaining the legacy behavior, set scalar to False.\n",
      "  warnings.warn(\n"
     ]
    },
    {
     "name": "stdout",
     "output_type": "stream",
     "text": [
      "FDR-adjusted alpha: 0.00091\n",
      "\n",
      "Intervals for C electrodes:\n",
      "100 to 133 ms\n",
      "\n",
      "Intervals for CP electrodes:\n",
      "167 to 167 ms\n",
      "\n",
      "Intervals for F electrodes:\n",
      "100 to 100 ms\n",
      "467 to 467 ms\n",
      "\n",
      "Intervals for FC electrodes:\n",
      "83 to 100 ms\n",
      "350 to 350 ms\n",
      "433 to 433 ms\n",
      "\n",
      "Intervals for FT electrodes:\n",
      "100 to 100 ms\n",
      "\n",
      "Intervals for P electrodes:\n",
      "133 to 133 ms\n",
      "483 to 483 ms\n",
      "\n",
      "Intervals for PO electrodes:\n",
      "200 to 200 ms\n",
      "\n",
      "Intervals for T electrodes:\n",
      "183 to 183 ms\n"
     ]
    }
   ],
   "source": [
    "## explore model predictors using Wald's test\n",
    "\n",
    "ch_names = epochs.info.ch_names\n",
    "areas = np.array([re.findall('\\D+', ch)[0] for ch in ch_names])\n",
    "area_ps = {}\n",
    "unique_areas = np.unique(areas)\n",
    "for a in unique_areas:\n",
    "    chs = (areas == a)\n",
    "    aps = [lm.model.wald_test(chs)[1] for lm in time_decod.estimators_]\n",
    "    area_ps[a] = np.array(aps)\n",
    "\n",
    "all_ps = np.stack([area_ps[area] for area in unique_areas])\n",
    "reject, _ = mne.stats.fdr_correction(all_ps)\n",
    "print('FDR-adjusted alpha: ' + str(all_ps[reject].max().round(5)))\n",
    "t = []\n",
    "for i, area in enumerate(unique_areas):\n",
    "    if np.any(reject[i]):\n",
    "        print('\\nIntervals for %s electrodes:'%area)\n",
    "        clusts, _ = _find_clusters(reject[i], threshold = .95, tail = 1)\n",
    "        clusts = _cluster_indices_to_mask(clusts, reject[i].size)\n",
    "        for clust in clusts:\n",
    "            ts = epochs.times[clust]\n",
    "            t_start = ts.min() * 1e3\n",
    "            t_end = ts.max() * 1e3\n",
    "            t.append((t_start + t_end)/2 * 1e-3)\n",
    "            print('{:.0f} to {:.0f} ms'.format(t_start, t_end))\n",
    "t.sort()\n",
    "            \n",
    "area_mask = np.zeros_like(pat) # ch x time\n",
    "for i, area in enumerate(unique_areas):\n",
    "    chs = (areas == area)\n",
    "    area_mask[chs] = reject[i]"
   ]
  },
  {
   "cell_type": "markdown",
   "id": "f38212bf",
   "metadata": {},
   "source": [
    "## Fractal dimension decoding (sensor-by-sensor)"
   ]
  },
  {
   "cell_type": "code",
   "execution_count": 12,
   "id": "6a2efdf1",
   "metadata": {},
   "outputs": [
    {
     "name": "stdout",
     "output_type": "stream",
     "text": [
      "Could not find a adjacency matrix for the data. Computing adjacency based on Delaunay triangulations.\n",
      "-- number of adjacent vertices : 62\n",
      "Fitted sphere radius:         95.1 mm\n",
      "Origin head coordinates:      -0.8 14.1 44.8 mm\n",
      "Origin device coordinates:    -0.8 14.1 44.8 mm\n",
      "Could not find a adjacency matrix for the data. Computing adjacency based on Delaunay triangulations.\n",
      "-- number of adjacent vertices : 62\n",
      "Fitted sphere radius:         95.1 mm\n",
      "Origin head coordinates:      -0.8 14.1 44.8 mm\n",
      "Origin device coordinates:    -0.8 14.1 44.8 mm\n",
      "Could not find a adjacency matrix for the data. Computing adjacency based on Delaunay triangulations.\n",
      "-- number of adjacent vertices : 62\n",
      "Fitted sphere radius:         95.1 mm\n",
      "Origin head coordinates:      -0.8 14.1 44.8 mm\n",
      "Origin device coordinates:    -0.8 14.1 44.8 mm\n",
      "Could not find a adjacency matrix for the data. Computing adjacency based on Delaunay triangulations.\n",
      "-- number of adjacent vertices : 62\n",
      "Fitted sphere radius:         95.1 mm\n",
      "Origin head coordinates:      -0.8 14.1 44.8 mm\n",
      "Origin device coordinates:    -0.8 14.1 44.8 mm\n",
      "Could not find a adjacency matrix for the data. Computing adjacency based on Delaunay triangulations.\n",
      "-- number of adjacent vertices : 62\n",
      "Fitted sphere radius:         95.1 mm\n",
      "Origin head coordinates:      -0.8 14.1 44.8 mm\n",
      "Origin device coordinates:    -0.8 14.1 44.8 mm\n",
      "Could not find a adjacency matrix for the data. Computing adjacency based on Delaunay triangulations.\n",
      "-- number of adjacent vertices : 62\n",
      "Fitted sphere radius:         95.1 mm\n",
      "Origin head coordinates:      -0.8 14.1 44.8 mm\n",
      "Origin device coordinates:    -0.8 14.1 44.8 mm\n",
      "Could not find a adjacency matrix for the data. Computing adjacency based on Delaunay triangulations.\n",
      "-- number of adjacent vertices : 62\n",
      "Fitted sphere radius:         95.1 mm\n",
      "Origin head coordinates:      -0.8 14.1 44.8 mm\n",
      "Origin device coordinates:    -0.8 14.1 44.8 mm\n",
      "Could not find a adjacency matrix for the data. Computing adjacency based on Delaunay triangulations.\n",
      "-- number of adjacent vertices : 62\n",
      "Fitted sphere radius:         95.1 mm\n",
      "Origin head coordinates:      -0.8 14.1 44.8 mm\n",
      "Origin device coordinates:    -0.8 14.1 44.8 mm\n",
      "Could not find a adjacency matrix for the data. Computing adjacency based on Delaunay triangulations.\n",
      "-- number of adjacent vertices : 62\n",
      "Fitted sphere radius:         95.1 mm\n",
      "Origin head coordinates:      -0.8 14.1 44.8 mm\n",
      "Origin device coordinates:    -0.8 14.1 44.8 mm\n",
      "Could not find a adjacency matrix for the data. Computing adjacency based on Delaunay triangulations.\n",
      "-- number of adjacent vertices : 62\n",
      "Fitted sphere radius:         95.1 mm\n",
      "Origin head coordinates:      -0.8 14.1 44.8 mm\n",
      "Origin device coordinates:    -0.8 14.1 44.8 mm\n",
      "Could not find a adjacency matrix for the data. Computing adjacency based on Delaunay triangulations.\n",
      "-- number of adjacent vertices : 62\n",
      "Fitted sphere radius:         95.1 mm\n",
      "Origin head coordinates:      -0.8 14.1 44.8 mm\n",
      "Origin device coordinates:    -0.8 14.1 44.8 mm\n",
      "Could not find a adjacency matrix for the data. Computing adjacency based on Delaunay triangulations.\n",
      "-- number of adjacent vertices : 62\n",
      "Fitted sphere radius:         95.1 mm\n",
      "Origin head coordinates:      -0.8 14.1 44.8 mm\n",
      "Origin device coordinates:    -0.8 14.1 44.8 mm\n",
      "Could not find a adjacency matrix for the data. Computing adjacency based on Delaunay triangulations.\n",
      "-- number of adjacent vertices : 62\n",
      "Fitted sphere radius:         95.1 mm\n",
      "Origin head coordinates:      -0.8 14.1 44.8 mm\n",
      "Origin device coordinates:    -0.8 14.1 44.8 mm\n",
      "Could not find a adjacency matrix for the data. Computing adjacency based on Delaunay triangulations.\n",
      "-- number of adjacent vertices : 62\n",
      "Fitted sphere radius:         95.1 mm\n",
      "Origin head coordinates:      -0.8 14.1 44.8 mm\n",
      "Origin device coordinates:    -0.8 14.1 44.8 mm\n",
      "Could not find a adjacency matrix for the data. Computing adjacency based on Delaunay triangulations.\n",
      "-- number of adjacent vertices : 62\n",
      "Fitted sphere radius:         95.1 mm\n",
      "Origin head coordinates:      -0.8 14.1 44.8 mm\n",
      "Origin device coordinates:    -0.8 14.1 44.8 mm\n",
      "Could not find a adjacency matrix for the data. Computing adjacency based on Delaunay triangulations.\n",
      "-- number of adjacent vertices : 62\n",
      "Fitted sphere radius:         95.1 mm\n",
      "Origin head coordinates:      -0.8 14.1 44.8 mm\n",
      "Origin device coordinates:    -0.8 14.1 44.8 mm\n",
      "Could not find a adjacency matrix for the data. Computing adjacency based on Delaunay triangulations.\n",
      "-- number of adjacent vertices : 62\n",
      "Fitted sphere radius:         95.1 mm\n",
      "Origin head coordinates:      -0.8 14.1 44.8 mm\n",
      "Origin device coordinates:    -0.8 14.1 44.8 mm\n",
      "Could not find a adjacency matrix for the data. Computing adjacency based on Delaunay triangulations.\n",
      "-- number of adjacent vertices : 62\n",
      "Fitted sphere radius:         95.1 mm\n",
      "Origin head coordinates:      -0.8 14.1 44.8 mm\n",
      "Origin device coordinates:    -0.8 14.1 44.8 mm\n",
      "Could not find a adjacency matrix for the data. Computing adjacency based on Delaunay triangulations.\n",
      "-- number of adjacent vertices : 62\n",
      "Fitted sphere radius:         95.1 mm\n",
      "Origin head coordinates:      -0.8 14.1 44.8 mm\n",
      "Origin device coordinates:    -0.8 14.1 44.8 mm\n",
      "Could not find a adjacency matrix for the data. Computing adjacency based on Delaunay triangulations.\n",
      "-- number of adjacent vertices : 62\n",
      "Fitted sphere radius:         95.1 mm\n",
      "Origin head coordinates:      -0.8 14.1 44.8 mm\n",
      "Origin device coordinates:    -0.8 14.1 44.8 mm\n",
      "Could not find a adjacency matrix for the data. Computing adjacency based on Delaunay triangulations.\n",
      "-- number of adjacent vertices : 62\n",
      "Fitted sphere radius:         95.1 mm\n",
      "Origin head coordinates:      -0.8 14.1 44.8 mm\n",
      "Origin device coordinates:    -0.8 14.1 44.8 mm\n",
      "Could not find a adjacency matrix for the data. Computing adjacency based on Delaunay triangulations.\n",
      "-- number of adjacent vertices : 62\n",
      "Fitted sphere radius:         95.1 mm\n",
      "Origin head coordinates:      -0.8 14.1 44.8 mm\n",
      "Origin device coordinates:    -0.8 14.1 44.8 mm\n",
      "Could not find a adjacency matrix for the data. Computing adjacency based on Delaunay triangulations.\n",
      "-- number of adjacent vertices : 62\n",
      "Fitted sphere radius:         95.1 mm\n",
      "Origin head coordinates:      -0.8 14.1 44.8 mm\n",
      "Origin device coordinates:    -0.8 14.1 44.8 mm\n"
     ]
    }
   ],
   "source": [
    "# load data for multivariate decoding\n",
    "X, y, sub_ids, epochs, adj = load_data(70., csd = True)"
   ]
  },
  {
   "cell_type": "code",
   "execution_count": 13,
   "id": "b74f1ec5",
   "metadata": {},
   "outputs": [],
   "source": [
    "# estimate fractal dimension for each epoch x sensor \n",
    "fe = FeatureExtractor(epochs.info['sfreq'], ['higuchi_fd'], n_jobs = -1)\n",
    "hfd = fe.fit_transform(X[..., epochs.times > .00])"
   ]
  },
  {
   "cell_type": "code",
   "execution_count": 14,
   "id": "1152ec91",
   "metadata": {},
   "outputs": [],
   "source": [
    "def compute_auc_fractal(x, y, sub_ids):\n",
    "    auc = []\n",
    "    for sub in np.unique(sub_ids):\n",
    "        # compute ROC-AUC for each subject\n",
    "        X_sub = x[sub == sub_ids]\n",
    "        y_sub = y[sub == sub_ids]\n",
    "        compute_auc = lambda _x: roc_auc_score(y_sub, _x)\n",
    "        auc_sub = np.apply_along_axis(compute_auc, 0, X_sub)\n",
    "        auc.append(auc_sub)\n",
    "    auc = np.stack(auc)\n",
    "    return auc\n",
    "\n",
    "auc = compute_auc_fractal(hfd, y, sub_ids)"
   ]
  },
  {
   "cell_type": "code",
   "execution_count": 15,
   "id": "016b5649",
   "metadata": {},
   "outputs": [
    {
     "name": "stderr",
     "output_type": "stream",
     "text": [
      "/home/johnv/anaconda3/envs/agency/lib/python3.10/site-packages/mne_ari/ari/parametric.py:62: UserWarning: \n",
      "Parametric ARI assumes that the p-values of individual tests are valid when\n",
      "calculating the true positive proprtion. If this isn't likely true (e.g.\n",
      "you're using a parametric test on M/EEG data), you may want to consider using\n",
      "permutation-based ARI instead.\n",
      "\n",
      "  warnings.warn(\n"
     ]
    }
   ],
   "source": [
    "def ttest_statfun(x, H0 = .5):\n",
    "    from scipy.stats import ttest_1samp\n",
    "    res = ttest_1samp(x, popmean = H0, axis = 0, alternative = 'greater')\n",
    "    return res.pvalue\n",
    "\n",
    "p_vals, tdp, clusters = all_resolutions_inference(\n",
    "    auc, .05, \n",
    "    ari_type = 'parametric', \n",
    "    adjacency = adj,\n",
    "    statfun = ttest_statfun\n",
    ")"
   ]
  },
  {
   "cell_type": "code",
   "execution_count": 16,
   "id": "6e0fac60",
   "metadata": {},
   "outputs": [
    {
     "data": {
      "image/png": "[encoded data removed]",
      "text/plain": [
       "<Figure size 640x480 with 2 Axes>"
      ]
     },
     "metadata": {},
     "output_type": "display_data"
    }
   ],
   "source": [
    "def plot_cluster_topo(auc, clusters, info):\n",
    "    from mne.viz import plot_topomap\n",
    "    mx = auc.mean(0).max() - .5\n",
    "    mn = .5 - auc.mean(0).min()\n",
    "    lim = np.max((mx, mn))\n",
    "    clust_mask = np.any(np.stack(clusters), axis = 0)[:, np.newaxis]\n",
    "    img, _ = plot_topomap(\n",
    "        auc.mean(0), \n",
    "        epochs.info,\n",
    "        ch_type = 'eeg',\n",
    "        cmap = 'RdBu_r',\n",
    "        vmin = .5 - lim,\n",
    "        vmax = .5 + lim,\n",
    "        mask = clust_mask,\n",
    "        mask_params = {'markersize': 5},\n",
    "        show = False\n",
    "    )\n",
    "    plt.colorbar(img, label = 'ROC-AUC')\n",
    "    return img\n",
    "    \n",
    "plot_cluster_topo(auc, clusters, epochs.info)\n",
    "plt.show()"
   ]
  },
  {
   "cell_type": "code",
   "execution_count": 17,
   "id": "5379eb43",
   "metadata": {},
   "outputs": [
    {
     "name": "stdout",
     "output_type": "stream",
     "text": [
      "p < 0.013376 in cluster 1,\n",
      "ROC-AUC reaches 0.614336 at channel C1.\n",
      "\n"
     ]
    }
   ],
   "source": [
    "for i, clust in enumerate(clusters):\n",
    "    p_adj = p_vals[np.squeeze(clust)].max()\n",
    "    print('p < %f in cluster %d,'%(p_adj, i + 1))\n",
    "    auc_clust = auc.mean(0)[clust]\n",
    "    ch_names_clust = np.array(epochs.ch_names)[clust]\n",
    "    max_idx = np.argmax(auc_clust)\n",
    "    max_ch = ch_names_clust[max_idx]\n",
    "    max_auc = auc_clust[max_idx]\n",
    "    print('ROC-AUC reaches %f at channel %s.\\n'%(max_auc, max_ch))"
   ]
  },
  {
   "cell_type": "markdown",
   "id": "d764d601",
   "metadata": {},
   "source": [
    "To be sure that the fractal dimension is accounted for by the brain _response_ to the stimulation, rather than (a) background brain activity that may preceed stimulus onset or (b) something about the stimulation artifact (e.g. skin conductance changes result in stimulation artifact propogating differently), which would occur well before 50 ms relative to the stimulation."
   ]
  },
  {
   "cell_type": "code",
   "execution_count": 18,
   "id": "babc0618",
   "metadata": {},
   "outputs": [
    {
     "name": "stderr",
     "output_type": "stream",
     "text": [
      "/home/johnv/anaconda3/envs/agency/lib/python3.10/site-packages/mne_ari/ari/parametric.py:62: UserWarning: \n",
      "Parametric ARI assumes that the p-values of individual tests are valid when\n",
      "calculating the true positive proprtion. If this isn't likely true (e.g.\n",
      "you're using a parametric test on M/EEG data), you may want to consider using\n",
      "permutation-based ARI instead.\n",
      "\n",
      "  warnings.warn(\n"
     ]
    },
    {
     "name": "stdout",
     "output_type": "stream",
     "text": [
      "0 clusters found before 50 ms.\n"
     ]
    }
   ],
   "source": [
    "t_crop = .050\n",
    "_hfd = fe.fit_transform(X[..., epochs.times < t_crop])\n",
    "_auc = compute_auc_fractal(_hfd, y, sub_ids)\n",
    "_, _, _clusters = all_resolutions_inference(\n",
    "    _auc, .05, \n",
    "    ari_type = 'parametric', \n",
    "    adjacency = adj,\n",
    "    statfun = ttest_statfun\n",
    ")\n",
    "print('%d clusters found before %d ms.'%(len(_clusters), t_crop * 1000))"
   ]
  },
  {
   "cell_type": "code",
   "execution_count": null,
   "id": "08e1534e",
   "metadata": {},
   "outputs": [],
   "source": []
  }
 ],
 "metadata": {
  "kernelspec": {
   "display_name": "Python 3 (ipykernel)",
   "language": "python",
   "name": "python3"
  },
  "language_info": {
   "codemirror_mode": {
    "name": "ipython",
    "version": 3
   },
   "file_extension": ".py",
   "mimetype": "text/x-python",
   "name": "python",
   "nbconvert_exporter": "python",
   "pygments_lexer": "ipython3",
   "version": "3.10.6"
  }
 },
 "nbformat": 4,
 "nbformat_minor": 5
}
