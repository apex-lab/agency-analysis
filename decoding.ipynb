{
 "cells": [
  {
   "cell_type": "code",
   "execution_count": 1,
   "id": "b9aafe72",
   "metadata": {},
   "outputs": [],
   "source": [
    "import matplotlib.pyplot as plt\n",
    "from scipy.stats import norm\n",
    "import numpy as np\n",
    "import pandas as pd\n",
    "import os \n",
    "import re\n",
    "\n",
    "from bids import BIDSLayout\n",
    "\n",
    "from sklearn.model_selection import cross_val_score, StratifiedGroupKFold\n",
    "from sklearn.preprocessing import LabelEncoder\n",
    "\n",
    "from util.decoding.gee import GEEEstimator\n",
    "from mne_ari import all_resolutions_inference\n",
    "from mne.decoding import (\n",
    "    cross_val_multiscore, \n",
    "    LinearModel,                  \n",
    "    SlidingEstimator, \n",
    "    GeneralizingEstimator,\n",
    "    get_coef\n",
    ")\n",
    "from mne.viz.utils import _plot_masked_image\n",
    "from mne import set_config\n",
    "from mne.stats.cluster_level import _find_clusters, _cluster_indices_to_mask\n",
    "set_config('MNE_MEMMAP_MIN_SIZE', '1M')\n",
    "set_config('MNE_CACHE_DIR', '.tmp')\n",
    "import mne"
   ]
  },
  {
   "cell_type": "code",
   "execution_count": 2,
   "id": "d4e43b35",
   "metadata": {},
   "outputs": [],
   "source": [
    "# hard-coded values\n",
    "BIDS_ROOT = 'bids_dataset'\n",
    "DERIV_ROOT = os.path.join(BIDS_ROOT, 'derivatives')"
   ]
  },
  {
   "cell_type": "code",
   "execution_count": 3,
   "id": "1b1bb749",
   "metadata": {},
   "outputs": [
    {
     "name": "stderr",
     "output_type": "stream",
     "text": [
      "/home/johnv/anaconda3/envs/agency/lib/python3.10/site-packages/bids/layout/validation.py:156: UserWarning: The PipelineDescription field was superseded by GeneratedBy in BIDS 1.4.0. You can use ``pybids upgrade`` to update your derivative dataset.\n",
      "  warnings.warn(\"The PipelineDescription field was superseded \"\n"
     ]
    }
   ],
   "source": [
    "layout = BIDSLayout(BIDS_ROOT, derivatives = True)\n",
    "subjects = layout.get_subjects(scope = 'preprocessing')\n",
    "subjects.sort()\n",
    "task = layout.get_tasks()[0]"
   ]
  },
  {
   "cell_type": "code",
   "execution_count": 4,
   "id": "991b94f5",
   "metadata": {},
   "outputs": [],
   "source": [
    "def load_subj_data(layout, sub):\n",
    "    \n",
    "    epochs_fpath = layout.get(\n",
    "        scope = 'preprocessing', \n",
    "        subject = sub, \n",
    "        suffix = 'epo', \n",
    "        extension = 'fif.gz', \n",
    "        return_type = 'filename')[0]\n",
    "    epochs = mne.read_epochs(epochs_fpath, preload = True, verbose = False)\n",
    "    X = epochs.get_data() \n",
    "    y = epochs.events[:, 2] \n",
    "    \n",
    "    return X, y, epochs\n"
   ]
  },
  {
   "cell_type": "code",
   "execution_count": 5,
   "id": "bbb82858",
   "metadata": {},
   "outputs": [],
   "source": [
    "X = []\n",
    "y = []\n",
    "sub_ids = []\n",
    "for sub in subjects:\n",
    "    sub_num = int(sub)\n",
    "    _X, _y, epochs = load_subj_data(layout, sub)\n",
    "    X.append(_X)\n",
    "    y.append(_y)\n",
    "    sub_ids.append(np.full_like(_y, sub_num))\n",
    "X = np.concatenate(X)\n",
    "y = np.concatenate(y)\n",
    "sub_ids = np.concatenate(sub_ids)"
   ]
  },
  {
   "cell_type": "code",
   "execution_count": 6,
   "id": "e40240f9",
   "metadata": {},
   "outputs": [],
   "source": [
    "# define classification pipeline\n",
    "logistic_reg = GEEEstimator(family = 'binomial', cov_type = 'naive')\n",
    "clf = LinearModel(logistic_reg)\n",
    "time_decod = GeneralizingEstimator(clf, n_jobs = 5, scoring = 'roc_auc', verbose = True)"
   ]
  },
  {
   "cell_type": "code",
   "execution_count": 7,
   "id": "c972c02f",
   "metadata": {},
   "outputs": [
    {
     "data": {
      "application/vnd.jupyter.widget-view+json": {
       "model_id": "febc5dc6ce66435f882a96f2ba3bf069",
       "version_major": 2,
       "version_minor": 0
      },
      "text/plain": [
       "  0%|          | Fitting GeneralizingEstimator : 0/36 [00:00<?,       ?it/s]"
      ]
     },
     "metadata": {},
     "output_type": "display_data"
    },
    {
     "data": {
      "application/vnd.jupyter.widget-view+json": {
       "model_id": "0725399972354236bff56c0e0db00495",
       "version_major": 2,
       "version_minor": 0
      },
      "text/plain": [
       "  0%|          | Scoring GeneralizingEstimator : 0/1296 [00:00<?,       ?it/s]"
      ]
     },
     "metadata": {},
     "output_type": "display_data"
    },
    {
     "data": {
      "application/vnd.jupyter.widget-view+json": {
       "model_id": "cf6a8d4d5f954cf280e81d5ff17ec745",
       "version_major": 2,
       "version_minor": 0
      },
      "text/plain": [
       "  0%|          | Fitting GeneralizingEstimator : 0/36 [00:00<?,       ?it/s]"
      ]
     },
     "metadata": {},
     "output_type": "display_data"
    },
    {
     "data": {
      "application/vnd.jupyter.widget-view+json": {
       "model_id": "a6b3761f6cdd4e77bada4493e6ee992f",
       "version_major": 2,
       "version_minor": 0
      },
      "text/plain": [
       "  0%|          | Scoring GeneralizingEstimator : 0/1296 [00:00<?,       ?it/s]"
      ]
     },
     "metadata": {},
     "output_type": "display_data"
    },
    {
     "data": {
      "application/vnd.jupyter.widget-view+json": {
       "model_id": "afcecc4829784fd38c7119f401c903e8",
       "version_major": 2,
       "version_minor": 0
      },
      "text/plain": [
       "  0%|          | Fitting GeneralizingEstimator : 0/36 [00:00<?,       ?it/s]"
      ]
     },
     "metadata": {},
     "output_type": "display_data"
    },
    {
     "data": {
      "application/vnd.jupyter.widget-view+json": {
       "model_id": "352bac442caa46fe8af228b191f45ec7",
       "version_major": 2,
       "version_minor": 0
      },
      "text/plain": [
       "  0%|          | Scoring GeneralizingEstimator : 0/1296 [00:00<?,       ?it/s]"
      ]
     },
     "metadata": {},
     "output_type": "display_data"
    },
    {
     "data": {
      "application/vnd.jupyter.widget-view+json": {
       "model_id": "3566ce0a9b854a48b626720cfe25f8fe",
       "version_major": 2,
       "version_minor": 0
      },
      "text/plain": [
       "  0%|          | Fitting GeneralizingEstimator : 0/36 [00:00<?,       ?it/s]"
      ]
     },
     "metadata": {},
     "output_type": "display_data"
    },
    {
     "data": {
      "application/vnd.jupyter.widget-view+json": {
       "model_id": "a49feab80e7d448da8551a1288b40a4a",
       "version_major": 2,
       "version_minor": 0
      },
      "text/plain": [
       "  0%|          | Scoring GeneralizingEstimator : 0/1296 [00:00<?,       ?it/s]"
      ]
     },
     "metadata": {},
     "output_type": "display_data"
    },
    {
     "data": {
      "application/vnd.jupyter.widget-view+json": {
       "model_id": "d0d5738325294a8e8bb019bed2166080",
       "version_major": 2,
       "version_minor": 0
      },
      "text/plain": [
       "  0%|          | Fitting GeneralizingEstimator : 0/36 [00:00<?,       ?it/s]"
      ]
     },
     "metadata": {},
     "output_type": "display_data"
    },
    {
     "data": {
      "application/vnd.jupyter.widget-view+json": {
       "model_id": "603c604429d84b20b5b55d8edb6bd30f",
       "version_major": 2,
       "version_minor": 0
      },
      "text/plain": [
       "  0%|          | Scoring GeneralizingEstimator : 0/1296 [00:00<?,       ?it/s]"
      ]
     },
     "metadata": {},
     "output_type": "display_data"
    },
    {
     "data": {
      "application/vnd.jupyter.widget-view+json": {
       "model_id": "2731083dcd1a42669556478c0c750cbf",
       "version_major": 2,
       "version_minor": 0
      },
      "text/plain": [
       "  0%|          | Fitting GeneralizingEstimator : 0/36 [00:00<?,       ?it/s]"
      ]
     },
     "metadata": {},
     "output_type": "display_data"
    },
    {
     "data": {
      "application/vnd.jupyter.widget-view+json": {
       "model_id": "3b257093b57a4c8aa763dc981be8da99",
       "version_major": 2,
       "version_minor": 0
      },
      "text/plain": [
       "  0%|          | Scoring GeneralizingEstimator : 0/1296 [00:00<?,       ?it/s]"
      ]
     },
     "metadata": {},
     "output_type": "display_data"
    },
    {
     "name": "stderr",
     "output_type": "stream",
     "text": [
      "/home/johnv/anaconda3/envs/agency/lib/python3.10/site-packages/joblib/externals/loky/process_executor.py:702: UserWarning: A worker stopped while some jobs were given to the executor. This can be caused by a too short worker timeout or by a memory leak.\n",
      "  warnings.warn(\n"
     ]
    },
    {
     "data": {
      "application/vnd.jupyter.widget-view+json": {
       "model_id": "d0bcfdfedc6942419e2104b844388fa7",
       "version_major": 2,
       "version_minor": 0
      },
      "text/plain": [
       "  0%|          | Fitting GeneralizingEstimator : 0/36 [00:00<?,       ?it/s]"
      ]
     },
     "metadata": {},
     "output_type": "display_data"
    },
    {
     "data": {
      "application/vnd.jupyter.widget-view+json": {
       "model_id": "7db7c243356d4151a2f59731aeee3cbb",
       "version_major": 2,
       "version_minor": 0
      },
      "text/plain": [
       "  0%|          | Scoring GeneralizingEstimator : 0/1296 [00:00<?,       ?it/s]"
      ]
     },
     "metadata": {},
     "output_type": "display_data"
    },
    {
     "data": {
      "application/vnd.jupyter.widget-view+json": {
       "model_id": "d82ae53e8db14319a476173116993073",
       "version_major": 2,
       "version_minor": 0
      },
      "text/plain": [
       "  0%|          | Fitting GeneralizingEstimator : 0/36 [00:00<?,       ?it/s]"
      ]
     },
     "metadata": {},
     "output_type": "display_data"
    },
    {
     "data": {
      "application/vnd.jupyter.widget-view+json": {
       "model_id": "c15633c6fc244d909d64a0513dfd827b",
       "version_major": 2,
       "version_minor": 0
      },
      "text/plain": [
       "  0%|          | Scoring GeneralizingEstimator : 0/1296 [00:00<?,       ?it/s]"
      ]
     },
     "metadata": {},
     "output_type": "display_data"
    },
    {
     "data": {
      "application/vnd.jupyter.widget-view+json": {
       "model_id": "b0d196ea32bd4ac880009d7c9e317167",
       "version_major": 2,
       "version_minor": 0
      },
      "text/plain": [
       "  0%|          | Fitting GeneralizingEstimator : 0/36 [00:00<?,       ?it/s]"
      ]
     },
     "metadata": {},
     "output_type": "display_data"
    },
    {
     "data": {
      "application/vnd.jupyter.widget-view+json": {
       "model_id": "6bf34b6fa372452bad6afb86b5252fad",
       "version_major": 2,
       "version_minor": 0
      },
      "text/plain": [
       "  0%|          | Scoring GeneralizingEstimator : 0/1296 [00:00<?,       ?it/s]"
      ]
     },
     "metadata": {},
     "output_type": "display_data"
    },
    {
     "name": "stderr",
     "output_type": "stream",
     "text": [
      "/home/johnv/anaconda3/envs/agency/lib/python3.10/site-packages/joblib/externals/loky/process_executor.py:702: UserWarning: A worker stopped while some jobs were given to the executor. This can be caused by a too short worker timeout or by a memory leak.\n",
      "  warnings.warn(\n"
     ]
    },
    {
     "data": {
      "application/vnd.jupyter.widget-view+json": {
       "model_id": "17998d3afb1e4699a27d9870db799551",
       "version_major": 2,
       "version_minor": 0
      },
      "text/plain": [
       "  0%|          | Fitting GeneralizingEstimator : 0/36 [00:00<?,       ?it/s]"
      ]
     },
     "metadata": {},
     "output_type": "display_data"
    },
    {
     "data": {
      "application/vnd.jupyter.widget-view+json": {
       "model_id": "1ffd4e13c8fc4749bc68f76017110d12",
       "version_major": 2,
       "version_minor": 0
      },
      "text/plain": [
       "  0%|          | Scoring GeneralizingEstimator : 0/1296 [00:00<?,       ?it/s]"
      ]
     },
     "metadata": {},
     "output_type": "display_data"
    },
    {
     "data": {
      "application/vnd.jupyter.widget-view+json": {
       "model_id": "eeb755c5586042fdb9ddefc40c298fbb",
       "version_major": 2,
       "version_minor": 0
      },
      "text/plain": [
       "  0%|          | Fitting GeneralizingEstimator : 0/36 [00:00<?,       ?it/s]"
      ]
     },
     "metadata": {},
     "output_type": "display_data"
    },
    {
     "data": {
      "application/vnd.jupyter.widget-view+json": {
       "model_id": "f2179d960e0f4cf58116cab9fb10ae84",
       "version_major": 2,
       "version_minor": 0
      },
      "text/plain": [
       "  0%|          | Scoring GeneralizingEstimator : 0/1296 [00:00<?,       ?it/s]"
      ]
     },
     "metadata": {},
     "output_type": "display_data"
    },
    {
     "data": {
      "application/vnd.jupyter.widget-view+json": {
       "model_id": "0e81daf92d364d9787b51e0b90b9982d",
       "version_major": 2,
       "version_minor": 0
      },
      "text/plain": [
       "  0%|          | Fitting GeneralizingEstimator : 0/36 [00:00<?,       ?it/s]"
      ]
     },
     "metadata": {},
     "output_type": "display_data"
    },
    {
     "data": {
      "application/vnd.jupyter.widget-view+json": {
       "model_id": "edc3e0e82b0e47ba992529ba296a646e",
       "version_major": 2,
       "version_minor": 0
      },
      "text/plain": [
       "  0%|          | Scoring GeneralizingEstimator : 0/1296 [00:00<?,       ?it/s]"
      ]
     },
     "metadata": {},
     "output_type": "display_data"
    },
    {
     "data": {
      "application/vnd.jupyter.widget-view+json": {
       "model_id": "bda15828b58e4a7cba36c14b7956aaf4",
       "version_major": 2,
       "version_minor": 0
      },
      "text/plain": [
       "  0%|          | Fitting GeneralizingEstimator : 0/36 [00:00<?,       ?it/s]"
      ]
     },
     "metadata": {},
     "output_type": "display_data"
    },
    {
     "data": {
      "application/vnd.jupyter.widget-view+json": {
       "model_id": "00ebcd2bfdbc4db18ae15f85557b4f6c",
       "version_major": 2,
       "version_minor": 0
      },
      "text/plain": [
       "  0%|          | Scoring GeneralizingEstimator : 0/1296 [00:00<?,       ?it/s]"
      ]
     },
     "metadata": {},
     "output_type": "display_data"
    },
    {
     "data": {
      "application/vnd.jupyter.widget-view+json": {
       "model_id": "40de8468fa1c4cd3b6f08d25b11cdd92",
       "version_major": 2,
       "version_minor": 0
      },
      "text/plain": [
       "  0%|          | Fitting GeneralizingEstimator : 0/36 [00:00<?,       ?it/s]"
      ]
     },
     "metadata": {},
     "output_type": "display_data"
    },
    {
     "data": {
      "application/vnd.jupyter.widget-view+json": {
       "model_id": "29f7df167b4140468e4a53bf8399d8d9",
       "version_major": 2,
       "version_minor": 0
      },
      "text/plain": [
       "  0%|          | Scoring GeneralizingEstimator : 0/1296 [00:00<?,       ?it/s]"
      ]
     },
     "metadata": {},
     "output_type": "display_data"
    },
    {
     "data": {
      "application/vnd.jupyter.widget-view+json": {
       "model_id": "c623e2f97ac3455fb0316ee3ed8e55a4",
       "version_major": 2,
       "version_minor": 0
      },
      "text/plain": [
       "  0%|          | Fitting GeneralizingEstimator : 0/36 [00:00<?,       ?it/s]"
      ]
     },
     "metadata": {},
     "output_type": "display_data"
    },
    {
     "data": {
      "application/vnd.jupyter.widget-view+json": {
       "model_id": "0144c04ac73c4b5b8c5bdf906be7fddf",
       "version_major": 2,
       "version_minor": 0
      },
      "text/plain": [
       "  0%|          | Scoring GeneralizingEstimator : 0/1296 [00:00<?,       ?it/s]"
      ]
     },
     "metadata": {},
     "output_type": "display_data"
    },
    {
     "name": "stderr",
     "output_type": "stream",
     "text": [
      "/home/johnv/anaconda3/envs/agency/lib/python3.10/site-packages/joblib/externals/loky/process_executor.py:702: UserWarning: A worker stopped while some jobs were given to the executor. This can be caused by a too short worker timeout or by a memory leak.\n",
      "  warnings.warn(\n"
     ]
    },
    {
     "data": {
      "application/vnd.jupyter.widget-view+json": {
       "model_id": "1cb9669b7dbd4b399d609962a3bcd772",
       "version_major": 2,
       "version_minor": 0
      },
      "text/plain": [
       "  0%|          | Fitting GeneralizingEstimator : 0/36 [00:00<?,       ?it/s]"
      ]
     },
     "metadata": {},
     "output_type": "display_data"
    },
    {
     "data": {
      "application/vnd.jupyter.widget-view+json": {
       "model_id": "6ef0ad025515401bb7d36e85e78ab721",
       "version_major": 2,
       "version_minor": 0
      },
      "text/plain": [
       "  0%|          | Scoring GeneralizingEstimator : 0/1296 [00:00<?,       ?it/s]"
      ]
     },
     "metadata": {},
     "output_type": "display_data"
    },
    {
     "data": {
      "application/vnd.jupyter.widget-view+json": {
       "model_id": "50b03009dfc04759982a7777cc4b28ac",
       "version_major": 2,
       "version_minor": 0
      },
      "text/plain": [
       "  0%|          | Fitting GeneralizingEstimator : 0/36 [00:00<?,       ?it/s]"
      ]
     },
     "metadata": {},
     "output_type": "display_data"
    },
    {
     "data": {
      "application/vnd.jupyter.widget-view+json": {
       "model_id": "41b356ef982d4660a7b83989204017b8",
       "version_major": 2,
       "version_minor": 0
      },
      "text/plain": [
       "  0%|          | Scoring GeneralizingEstimator : 0/1296 [00:00<?,       ?it/s]"
      ]
     },
     "metadata": {},
     "output_type": "display_data"
    },
    {
     "data": {
      "application/vnd.jupyter.widget-view+json": {
       "model_id": "5702ed85f2904f7a96393053f4f991a6",
       "version_major": 2,
       "version_minor": 0
      },
      "text/plain": [
       "  0%|          | Fitting GeneralizingEstimator : 0/36 [00:00<?,       ?it/s]"
      ]
     },
     "metadata": {},
     "output_type": "display_data"
    },
    {
     "data": {
      "application/vnd.jupyter.widget-view+json": {
       "model_id": "f6593f13072e44f3b3adc9ac346172e5",
       "version_major": 2,
       "version_minor": 0
      },
      "text/plain": [
       "  0%|          | Scoring GeneralizingEstimator : 0/1296 [00:00<?,       ?it/s]"
      ]
     },
     "metadata": {},
     "output_type": "display_data"
    },
    {
     "data": {
      "application/vnd.jupyter.widget-view+json": {
       "model_id": "4cb38bea631b45329c5a1469fd60a78e",
       "version_major": 2,
       "version_minor": 0
      },
      "text/plain": [
       "  0%|          | Fitting GeneralizingEstimator : 0/36 [00:00<?,       ?it/s]"
      ]
     },
     "metadata": {},
     "output_type": "display_data"
    },
    {
     "data": {
      "application/vnd.jupyter.widget-view+json": {
       "model_id": "aaccf7eddba04e3c93c259964dbcffa4",
       "version_major": 2,
       "version_minor": 0
      },
      "text/plain": [
       "  0%|          | Scoring GeneralizingEstimator : 0/1296 [00:00<?,       ?it/s]"
      ]
     },
     "metadata": {},
     "output_type": "display_data"
    },
    {
     "data": {
      "application/vnd.jupyter.widget-view+json": {
       "model_id": "727b459888f84e01a0cd5d5981d8651b",
       "version_major": 2,
       "version_minor": 0
      },
      "text/plain": [
       "  0%|          | Fitting GeneralizingEstimator : 0/36 [00:00<?,       ?it/s]"
      ]
     },
     "metadata": {},
     "output_type": "display_data"
    },
    {
     "data": {
      "application/vnd.jupyter.widget-view+json": {
       "model_id": "748f799a5f9f4af4ac191185056d3e76",
       "version_major": 2,
       "version_minor": 0
      },
      "text/plain": [
       "  0%|          | Scoring GeneralizingEstimator : 0/1296 [00:00<?,       ?it/s]"
      ]
     },
     "metadata": {},
     "output_type": "display_data"
    },
    {
     "data": {
      "application/vnd.jupyter.widget-view+json": {
       "model_id": "672c51e40e3a48fabd9fd6e29d2274a3",
       "version_major": 2,
       "version_minor": 0
      },
      "text/plain": [
       "  0%|          | Fitting GeneralizingEstimator : 0/36 [00:00<?,       ?it/s]"
      ]
     },
     "metadata": {},
     "output_type": "display_data"
    },
    {
     "data": {
      "application/vnd.jupyter.widget-view+json": {
       "model_id": "cfcd64209f004c65bb85bbd579b91e5b",
       "version_major": 2,
       "version_minor": 0
      },
      "text/plain": [
       "  0%|          | Scoring GeneralizingEstimator : 0/1296 [00:00<?,       ?it/s]"
      ]
     },
     "metadata": {},
     "output_type": "display_data"
    },
    {
     "name": "stderr",
     "output_type": "stream",
     "text": [
      "/home/johnv/anaconda3/envs/agency/lib/python3.10/site-packages/joblib/externals/loky/process_executor.py:702: UserWarning: A worker stopped while some jobs were given to the executor. This can be caused by a too short worker timeout or by a memory leak.\n",
      "  warnings.warn(\n"
     ]
    },
    {
     "data": {
      "application/vnd.jupyter.widget-view+json": {
       "model_id": "eb71c933861a4451b3b5bff8083b4d55",
       "version_major": 2,
       "version_minor": 0
      },
      "text/plain": [
       "  0%|          | Fitting GeneralizingEstimator : 0/36 [00:00<?,       ?it/s]"
      ]
     },
     "metadata": {},
     "output_type": "display_data"
    },
    {
     "data": {
      "application/vnd.jupyter.widget-view+json": {
       "model_id": "8141005121a04fd4a86cbd5c4bae5da1",
       "version_major": 2,
       "version_minor": 0
      },
      "text/plain": [
       "  0%|          | Scoring GeneralizingEstimator : 0/1296 [00:00<?,       ?it/s]"
      ]
     },
     "metadata": {},
     "output_type": "display_data"
    },
    {
     "data": {
      "application/vnd.jupyter.widget-view+json": {
       "model_id": "42fc794d6e1b41e6a68498cb183fec00",
       "version_major": 2,
       "version_minor": 0
      },
      "text/plain": [
       "  0%|          | Fitting GeneralizingEstimator : 0/36 [00:00<?,       ?it/s]"
      ]
     },
     "metadata": {},
     "output_type": "display_data"
    },
    {
     "data": {
      "application/vnd.jupyter.widget-view+json": {
       "model_id": "e0cd92723c9b452c9a47cd77f06b8e5a",
       "version_major": 2,
       "version_minor": 0
      },
      "text/plain": [
       "  0%|          | Scoring GeneralizingEstimator : 0/1296 [00:00<?,       ?it/s]"
      ]
     },
     "metadata": {},
     "output_type": "display_data"
    },
    {
     "data": {
      "application/vnd.jupyter.widget-view+json": {
       "model_id": "aa32bf22156b428090198e3469d4fed3",
       "version_major": 2,
       "version_minor": 0
      },
      "text/plain": [
       "  0%|          | Fitting GeneralizingEstimator : 0/36 [00:00<?,       ?it/s]"
      ]
     },
     "metadata": {},
     "output_type": "display_data"
    },
    {
     "data": {
      "application/vnd.jupyter.widget-view+json": {
       "model_id": "4348ebd246e942b581eb7fc88f932b53",
       "version_major": 2,
       "version_minor": 0
      },
      "text/plain": [
       "  0%|          | Scoring GeneralizingEstimator : 0/1296 [00:00<?,       ?it/s]"
      ]
     },
     "metadata": {},
     "output_type": "display_data"
    },
    {
     "name": "stderr",
     "output_type": "stream",
     "text": [
      "/home/johnv/anaconda3/envs/agency/lib/python3.10/site-packages/joblib/externals/loky/process_executor.py:702: UserWarning: A worker stopped while some jobs were given to the executor. This can be caused by a too short worker timeout or by a memory leak.\n",
      "  warnings.warn(\n"
     ]
    },
    {
     "data": {
      "application/vnd.jupyter.widget-view+json": {
       "model_id": "64bac3c9906b45c2842f2fe39409f92f",
       "version_major": 2,
       "version_minor": 0
      },
      "text/plain": [
       "  0%|          | Fitting GeneralizingEstimator : 0/36 [00:00<?,       ?it/s]"
      ]
     },
     "metadata": {},
     "output_type": "display_data"
    },
    {
     "data": {
      "application/vnd.jupyter.widget-view+json": {
       "model_id": "f45a097602a54ed1afaf4b1607b673c6",
       "version_major": 2,
       "version_minor": 0
      },
      "text/plain": [
       "  0%|          | Scoring GeneralizingEstimator : 0/1296 [00:00<?,       ?it/s]"
      ]
     },
     "metadata": {},
     "output_type": "display_data"
    },
    {
     "data": {
      "application/vnd.jupyter.widget-view+json": {
       "model_id": "530426a68c8d4d91888d3a0dbce1f016",
       "version_major": 2,
       "version_minor": 0
      },
      "text/plain": [
       "  0%|          | Fitting GeneralizingEstimator : 0/36 [00:00<?,       ?it/s]"
      ]
     },
     "metadata": {},
     "output_type": "display_data"
    },
    {
     "data": {
      "application/vnd.jupyter.widget-view+json": {
       "model_id": "201610714e0147a8b3b534ba6f97f8c3",
       "version_major": 2,
       "version_minor": 0
      },
      "text/plain": [
       "  0%|          | Scoring GeneralizingEstimator : 0/1296 [00:00<?,       ?it/s]"
      ]
     },
     "metadata": {},
     "output_type": "display_data"
    },
    {
     "data": {
      "application/vnd.jupyter.widget-view+json": {
       "model_id": "330e812acdbf47a39a7330042431eafe",
       "version_major": 2,
       "version_minor": 0
      },
      "text/plain": [
       "  0%|          | Fitting GeneralizingEstimator : 0/36 [00:00<?,       ?it/s]"
      ]
     },
     "metadata": {},
     "output_type": "display_data"
    },
    {
     "data": {
      "application/vnd.jupyter.widget-view+json": {
       "model_id": "a152124319164b3188b6c0700cb28d29",
       "version_major": 2,
       "version_minor": 0
      },
      "text/plain": [
       "  0%|          | Scoring GeneralizingEstimator : 0/1296 [00:00<?,       ?it/s]"
      ]
     },
     "metadata": {},
     "output_type": "display_data"
    },
    {
     "name": "stderr",
     "output_type": "stream",
     "text": [
      "/home/johnv/anaconda3/envs/agency/lib/python3.10/site-packages/joblib/externals/loky/process_executor.py:702: UserWarning: A worker stopped while some jobs were given to the executor. This can be caused by a too short worker timeout or by a memory leak.\n",
      "  warnings.warn(\n"
     ]
    },
    {
     "data": {
      "application/vnd.jupyter.widget-view+json": {
       "model_id": "eb92b1c9a3ae4f9a986f3f8a1a52e9c1",
       "version_major": 2,
       "version_minor": 0
      },
      "text/plain": [
       "  0%|          | Fitting GeneralizingEstimator : 0/36 [00:00<?,       ?it/s]"
      ]
     },
     "metadata": {},
     "output_type": "display_data"
    },
    {
     "data": {
      "application/vnd.jupyter.widget-view+json": {
       "model_id": "5ff86a417b774052a5a06ea85c135234",
       "version_major": 2,
       "version_minor": 0
      },
      "text/plain": [
       "  0%|          | Scoring GeneralizingEstimator : 0/1296 [00:00<?,       ?it/s]"
      ]
     },
     "metadata": {},
     "output_type": "display_data"
    },
    {
     "data": {
      "application/vnd.jupyter.widget-view+json": {
       "model_id": "c93f0b97c4d44703a7b1a655fee2bf32",
       "version_major": 2,
       "version_minor": 0
      },
      "text/plain": [
       "  0%|          | Fitting GeneralizingEstimator : 0/36 [00:00<?,       ?it/s]"
      ]
     },
     "metadata": {},
     "output_type": "display_data"
    },
    {
     "data": {
      "application/vnd.jupyter.widget-view+json": {
       "model_id": "916b5d1f9ca94b80a001cceb9dccb436",
       "version_major": 2,
       "version_minor": 0
      },
      "text/plain": [
       "  0%|          | Scoring GeneralizingEstimator : 0/1296 [00:00<?,       ?it/s]"
      ]
     },
     "metadata": {},
     "output_type": "display_data"
    },
    {
     "data": {
      "application/vnd.jupyter.widget-view+json": {
       "model_id": "01e5d9c3adbf4806a8d1ede87dd7eeb3",
       "version_major": 2,
       "version_minor": 0
      },
      "text/plain": [
       "  0%|          | Fitting GeneralizingEstimator : 0/36 [00:00<?,       ?it/s]"
      ]
     },
     "metadata": {},
     "output_type": "display_data"
    },
    {
     "data": {
      "application/vnd.jupyter.widget-view+json": {
       "model_id": "efab891796344f7f8eb6edc114a89ef4",
       "version_major": 2,
       "version_minor": 0
      },
      "text/plain": [
       "  0%|          | Scoring GeneralizingEstimator : 0/1296 [00:00<?,       ?it/s]"
      ]
     },
     "metadata": {},
     "output_type": "display_data"
    },
    {
     "name": "stderr",
     "output_type": "stream",
     "text": [
      "/home/johnv/anaconda3/envs/agency/lib/python3.10/site-packages/joblib/externals/loky/process_executor.py:702: UserWarning: A worker stopped while some jobs were given to the executor. This can be caused by a too short worker timeout or by a memory leak.\n",
      "  warnings.warn(\n"
     ]
    },
    {
     "data": {
      "application/vnd.jupyter.widget-view+json": {
       "model_id": "7d3e03473c2e4a698160b7c45105afd2",
       "version_major": 2,
       "version_minor": 0
      },
      "text/plain": [
       "  0%|          | Fitting GeneralizingEstimator : 0/36 [00:00<?,       ?it/s]"
      ]
     },
     "metadata": {},
     "output_type": "display_data"
    },
    {
     "data": {
      "application/vnd.jupyter.widget-view+json": {
       "model_id": "ee914ea795a442c79e2d4bc84a7d1bbb",
       "version_major": 2,
       "version_minor": 0
      },
      "text/plain": [
       "  0%|          | Scoring GeneralizingEstimator : 0/1296 [00:00<?,       ?it/s]"
      ]
     },
     "metadata": {},
     "output_type": "display_data"
    },
    {
     "data": {
      "application/vnd.jupyter.widget-view+json": {
       "model_id": "c5c3a86aac074a8d8dcf84b6e3e83f7e",
       "version_major": 2,
       "version_minor": 0
      },
      "text/plain": [
       "  0%|          | Fitting GeneralizingEstimator : 0/36 [00:00<?,       ?it/s]"
      ]
     },
     "metadata": {},
     "output_type": "display_data"
    },
    {
     "data": {
      "application/vnd.jupyter.widget-view+json": {
       "model_id": "52fcfa82e69d40e8b9402d9839a2041b",
       "version_major": 2,
       "version_minor": 0
      },
      "text/plain": [
       "  0%|          | Scoring GeneralizingEstimator : 0/1296 [00:00<?,       ?it/s]"
      ]
     },
     "metadata": {},
     "output_type": "display_data"
    },
    {
     "data": {
      "application/vnd.jupyter.widget-view+json": {
       "model_id": "672cc9c5cf864bee9b729918365562c0",
       "version_major": 2,
       "version_minor": 0
      },
      "text/plain": [
       "  0%|          | Fitting GeneralizingEstimator : 0/36 [00:00<?,       ?it/s]"
      ]
     },
     "metadata": {},
     "output_type": "display_data"
    },
    {
     "data": {
      "application/vnd.jupyter.widget-view+json": {
       "model_id": "658812d2f7544d698c2cfa49bca10cc6",
       "version_major": 2,
       "version_minor": 0
      },
      "text/plain": [
       "  0%|          | Scoring GeneralizingEstimator : 0/1296 [00:00<?,       ?it/s]"
      ]
     },
     "metadata": {},
     "output_type": "display_data"
    },
    {
     "name": "stderr",
     "output_type": "stream",
     "text": [
      "/home/johnv/anaconda3/envs/agency/lib/python3.10/site-packages/joblib/externals/loky/process_executor.py:702: UserWarning: A worker stopped while some jobs were given to the executor. This can be caused by a too short worker timeout or by a memory leak.\n",
      "  warnings.warn(\n"
     ]
    },
    {
     "data": {
      "application/vnd.jupyter.widget-view+json": {
       "model_id": "5005d0e21239424c8922b8ab6a5c5015",
       "version_major": 2,
       "version_minor": 0
      },
      "text/plain": [
       "  0%|          | Fitting GeneralizingEstimator : 0/36 [00:00<?,       ?it/s]"
      ]
     },
     "metadata": {},
     "output_type": "display_data"
    },
    {
     "data": {
      "application/vnd.jupyter.widget-view+json": {
       "model_id": "d910274e192340108da9cca8069d5f58",
       "version_major": 2,
       "version_minor": 0
      },
      "text/plain": [
       "  0%|          | Scoring GeneralizingEstimator : 0/1296 [00:00<?,       ?it/s]"
      ]
     },
     "metadata": {},
     "output_type": "display_data"
    },
    {
     "data": {
      "application/vnd.jupyter.widget-view+json": {
       "model_id": "7faf4b62eaac4833a209d3264dab2ae6",
       "version_major": 2,
       "version_minor": 0
      },
      "text/plain": [
       "  0%|          | Fitting GeneralizingEstimator : 0/36 [00:00<?,       ?it/s]"
      ]
     },
     "metadata": {},
     "output_type": "display_data"
    },
    {
     "data": {
      "application/vnd.jupyter.widget-view+json": {
       "model_id": "dc620b8f0ebe403a8f8fd8094aaf91ce",
       "version_major": 2,
       "version_minor": 0
      },
      "text/plain": [
       "  0%|          | Scoring GeneralizingEstimator : 0/1296 [00:00<?,       ?it/s]"
      ]
     },
     "metadata": {},
     "output_type": "display_data"
    },
    {
     "data": {
      "application/vnd.jupyter.widget-view+json": {
       "model_id": "ada0259063534f719cb4b351d1ae3ab4",
       "version_major": 2,
       "version_minor": 0
      },
      "text/plain": [
       "  0%|          | Fitting GeneralizingEstimator : 0/36 [00:00<?,       ?it/s]"
      ]
     },
     "metadata": {},
     "output_type": "display_data"
    },
    {
     "data": {
      "application/vnd.jupyter.widget-view+json": {
       "model_id": "4e079ddd958e4ea1a762ee2ba1d23be2",
       "version_major": 2,
       "version_minor": 0
      },
      "text/plain": [
       "  0%|          | Scoring GeneralizingEstimator : 0/1296 [00:00<?,       ?it/s]"
      ]
     },
     "metadata": {},
     "output_type": "display_data"
    },
    {
     "name": "stderr",
     "output_type": "stream",
     "text": [
      "/home/johnv/anaconda3/envs/agency/lib/python3.10/site-packages/joblib/externals/loky/process_executor.py:702: UserWarning: A worker stopped while some jobs were given to the executor. This can be caused by a too short worker timeout or by a memory leak.\n",
      "  warnings.warn(\n"
     ]
    },
    {
     "data": {
      "application/vnd.jupyter.widget-view+json": {
       "model_id": "6238a95e59194e2e907d8a78bf7fc579",
       "version_major": 2,
       "version_minor": 0
      },
      "text/plain": [
       "  0%|          | Fitting GeneralizingEstimator : 0/36 [00:00<?,       ?it/s]"
      ]
     },
     "metadata": {},
     "output_type": "display_data"
    },
    {
     "data": {
      "application/vnd.jupyter.widget-view+json": {
       "model_id": "4165e478fe444891bc86a7fbf8642b53",
       "version_major": 2,
       "version_minor": 0
      },
      "text/plain": [
       "  0%|          | Scoring GeneralizingEstimator : 0/1296 [00:00<?,       ?it/s]"
      ]
     },
     "metadata": {},
     "output_type": "display_data"
    },
    {
     "data": {
      "application/vnd.jupyter.widget-view+json": {
       "model_id": "b4f8c23fcb444a8780bf32f37c75e112",
       "version_major": 2,
       "version_minor": 0
      },
      "text/plain": [
       "  0%|          | Fitting GeneralizingEstimator : 0/36 [00:00<?,       ?it/s]"
      ]
     },
     "metadata": {},
     "output_type": "display_data"
    },
    {
     "data": {
      "application/vnd.jupyter.widget-view+json": {
       "model_id": "fa02827a0ee04bf298e8ef4e23b6d954",
       "version_major": 2,
       "version_minor": 0
      },
      "text/plain": [
       "  0%|          | Scoring GeneralizingEstimator : 0/1296 [00:00<?,       ?it/s]"
      ]
     },
     "metadata": {},
     "output_type": "display_data"
    },
    {
     "data": {
      "application/vnd.jupyter.widget-view+json": {
       "model_id": "5d7f8f55fd984149ab0cda3069c65780",
       "version_major": 2,
       "version_minor": 0
      },
      "text/plain": [
       "  0%|          | Fitting GeneralizingEstimator : 0/36 [00:00<?,       ?it/s]"
      ]
     },
     "metadata": {},
     "output_type": "display_data"
    },
    {
     "data": {
      "application/vnd.jupyter.widget-view+json": {
       "model_id": "b398379d5ed84baaaa1fc7f9d492f2ca",
       "version_major": 2,
       "version_minor": 0
      },
      "text/plain": [
       "  0%|          | Scoring GeneralizingEstimator : 0/1296 [00:00<?,       ?it/s]"
      ]
     },
     "metadata": {},
     "output_type": "display_data"
    },
    {
     "name": "stderr",
     "output_type": "stream",
     "text": [
      "/home/johnv/anaconda3/envs/agency/lib/python3.10/site-packages/joblib/externals/loky/process_executor.py:702: UserWarning: A worker stopped while some jobs were given to the executor. This can be caused by a too short worker timeout or by a memory leak.\n",
      "  warnings.warn(\n"
     ]
    },
    {
     "data": {
      "application/vnd.jupyter.widget-view+json": {
       "model_id": "a74977888d8e4b86b202bf634c282d03",
       "version_major": 2,
       "version_minor": 0
      },
      "text/plain": [
       "  0%|          | Fitting GeneralizingEstimator : 0/36 [00:00<?,       ?it/s]"
      ]
     },
     "metadata": {},
     "output_type": "display_data"
    },
    {
     "data": {
      "application/vnd.jupyter.widget-view+json": {
       "model_id": "74c0920b207c4cfe88f4f83cdff0154f",
       "version_major": 2,
       "version_minor": 0
      },
      "text/plain": [
       "  0%|          | Scoring GeneralizingEstimator : 0/1296 [00:00<?,       ?it/s]"
      ]
     },
     "metadata": {},
     "output_type": "display_data"
    },
    {
     "data": {
      "application/vnd.jupyter.widget-view+json": {
       "model_id": "db1550e8bbd143379c660ef39b69002a",
       "version_major": 2,
       "version_minor": 0
      },
      "text/plain": [
       "  0%|          | Fitting GeneralizingEstimator : 0/36 [00:00<?,       ?it/s]"
      ]
     },
     "metadata": {},
     "output_type": "display_data"
    },
    {
     "data": {
      "application/vnd.jupyter.widget-view+json": {
       "model_id": "aa03bdc95e6447c8bc2269083267a724",
       "version_major": 2,
       "version_minor": 0
      },
      "text/plain": [
       "  0%|          | Scoring GeneralizingEstimator : 0/1296 [00:00<?,       ?it/s]"
      ]
     },
     "metadata": {},
     "output_type": "display_data"
    },
    {
     "data": {
      "application/vnd.jupyter.widget-view+json": {
       "model_id": "631f71b306ef46b5867b5cb3cd086aac",
       "version_major": 2,
       "version_minor": 0
      },
      "text/plain": [
       "  0%|          | Fitting GeneralizingEstimator : 0/36 [00:00<?,       ?it/s]"
      ]
     },
     "metadata": {},
     "output_type": "display_data"
    },
    {
     "data": {
      "application/vnd.jupyter.widget-view+json": {
       "model_id": "994ceaac18034560b244bc2b0f0c9e0d",
       "version_major": 2,
       "version_minor": 0
      },
      "text/plain": [
       "  0%|          | Scoring GeneralizingEstimator : 0/1296 [00:00<?,       ?it/s]"
      ]
     },
     "metadata": {},
     "output_type": "display_data"
    },
    {
     "name": "stderr",
     "output_type": "stream",
     "text": [
      "/home/johnv/anaconda3/envs/agency/lib/python3.10/site-packages/joblib/externals/loky/process_executor.py:702: UserWarning: A worker stopped while some jobs were given to the executor. This can be caused by a too short worker timeout or by a memory leak.\n",
      "  warnings.warn(\n"
     ]
    },
    {
     "data": {
      "application/vnd.jupyter.widget-view+json": {
       "model_id": "67b1cfd74a80454a80373b96bca0f457",
       "version_major": 2,
       "version_minor": 0
      },
      "text/plain": [
       "  0%|          | Fitting GeneralizingEstimator : 0/36 [00:00<?,       ?it/s]"
      ]
     },
     "metadata": {},
     "output_type": "display_data"
    },
    {
     "data": {
      "application/vnd.jupyter.widget-view+json": {
       "model_id": "509b8f3b3ecc4bb9ad76ae92df902fa1",
       "version_major": 2,
       "version_minor": 0
      },
      "text/plain": [
       "  0%|          | Scoring GeneralizingEstimator : 0/1296 [00:00<?,       ?it/s]"
      ]
     },
     "metadata": {},
     "output_type": "display_data"
    },
    {
     "data": {
      "application/vnd.jupyter.widget-view+json": {
       "model_id": "de3c59b3c0944893a69233a9411c6c81",
       "version_major": 2,
       "version_minor": 0
      },
      "text/plain": [
       "  0%|          | Fitting GeneralizingEstimator : 0/36 [00:00<?,       ?it/s]"
      ]
     },
     "metadata": {},
     "output_type": "display_data"
    },
    {
     "data": {
      "application/vnd.jupyter.widget-view+json": {
       "model_id": "818250b8220c4663bbebcf477494a496",
       "version_major": 2,
       "version_minor": 0
      },
      "text/plain": [
       "  0%|          | Scoring GeneralizingEstimator : 0/1296 [00:00<?,       ?it/s]"
      ]
     },
     "metadata": {},
     "output_type": "display_data"
    },
    {
     "data": {
      "application/vnd.jupyter.widget-view+json": {
       "model_id": "0efa7c77457c4a65a0e699cf06feea3f",
       "version_major": 2,
       "version_minor": 0
      },
      "text/plain": [
       "  0%|          | Fitting GeneralizingEstimator : 0/36 [00:00<?,       ?it/s]"
      ]
     },
     "metadata": {},
     "output_type": "display_data"
    },
    {
     "data": {
      "application/vnd.jupyter.widget-view+json": {
       "model_id": "053a329e77924de48e341127e797fea0",
       "version_major": 2,
       "version_minor": 0
      },
      "text/plain": [
       "  0%|          | Scoring GeneralizingEstimator : 0/1296 [00:00<?,       ?it/s]"
      ]
     },
     "metadata": {},
     "output_type": "display_data"
    },
    {
     "name": "stderr",
     "output_type": "stream",
     "text": [
      "/home/johnv/anaconda3/envs/agency/lib/python3.10/site-packages/joblib/externals/loky/process_executor.py:702: UserWarning: A worker stopped while some jobs were given to the executor. This can be caused by a too short worker timeout or by a memory leak.\n",
      "  warnings.warn(\n"
     ]
    },
    {
     "data": {
      "application/vnd.jupyter.widget-view+json": {
       "model_id": "d3c95de560f641738e6c91e6787249f5",
       "version_major": 2,
       "version_minor": 0
      },
      "text/plain": [
       "  0%|          | Fitting GeneralizingEstimator : 0/36 [00:00<?,       ?it/s]"
      ]
     },
     "metadata": {},
     "output_type": "display_data"
    },
    {
     "data": {
      "application/vnd.jupyter.widget-view+json": {
       "model_id": "3d1aa97c1b944555bbee58bfb1ed17f8",
       "version_major": 2,
       "version_minor": 0
      },
      "text/plain": [
       "  0%|          | Scoring GeneralizingEstimator : 0/1296 [00:00<?,       ?it/s]"
      ]
     },
     "metadata": {},
     "output_type": "display_data"
    },
    {
     "data": {
      "application/vnd.jupyter.widget-view+json": {
       "model_id": "e8888139e050472baecbca20b1c4ae67",
       "version_major": 2,
       "version_minor": 0
      },
      "text/plain": [
       "  0%|          | Fitting GeneralizingEstimator : 0/36 [00:00<?,       ?it/s]"
      ]
     },
     "metadata": {},
     "output_type": "display_data"
    },
    {
     "data": {
      "application/vnd.jupyter.widget-view+json": {
       "model_id": "b5fadbce8a3f4ee7836ab3e028efbfa5",
       "version_major": 2,
       "version_minor": 0
      },
      "text/plain": [
       "  0%|          | Scoring GeneralizingEstimator : 0/1296 [00:00<?,       ?it/s]"
      ]
     },
     "metadata": {},
     "output_type": "display_data"
    },
    {
     "data": {
      "application/vnd.jupyter.widget-view+json": {
       "model_id": "1de1fb63fdd146b6bafb764fca05dc90",
       "version_major": 2,
       "version_minor": 0
      },
      "text/plain": [
       "  0%|          | Fitting GeneralizingEstimator : 0/36 [00:00<?,       ?it/s]"
      ]
     },
     "metadata": {},
     "output_type": "display_data"
    },
    {
     "data": {
      "application/vnd.jupyter.widget-view+json": {
       "model_id": "2773f8673e5149a2900752813d1b04b6",
       "version_major": 2,
       "version_minor": 0
      },
      "text/plain": [
       "  0%|          | Scoring GeneralizingEstimator : 0/1296 [00:00<?,       ?it/s]"
      ]
     },
     "metadata": {},
     "output_type": "display_data"
    },
    {
     "name": "stderr",
     "output_type": "stream",
     "text": [
      "/home/johnv/anaconda3/envs/agency/lib/python3.10/site-packages/joblib/externals/loky/process_executor.py:702: UserWarning: A worker stopped while some jobs were given to the executor. This can be caused by a too short worker timeout or by a memory leak.\n",
      "  warnings.warn(\n"
     ]
    },
    {
     "data": {
      "application/vnd.jupyter.widget-view+json": {
       "model_id": "d728d5a1ae494a2084fb12acbae89d4c",
       "version_major": 2,
       "version_minor": 0
      },
      "text/plain": [
       "  0%|          | Fitting GeneralizingEstimator : 0/36 [00:00<?,       ?it/s]"
      ]
     },
     "metadata": {},
     "output_type": "display_data"
    },
    {
     "data": {
      "application/vnd.jupyter.widget-view+json": {
       "model_id": "c873a49d592c4403b223b3a76b8e9a31",
       "version_major": 2,
       "version_minor": 0
      },
      "text/plain": [
       "  0%|          | Scoring GeneralizingEstimator : 0/1296 [00:00<?,       ?it/s]"
      ]
     },
     "metadata": {},
     "output_type": "display_data"
    },
    {
     "data": {
      "application/vnd.jupyter.widget-view+json": {
       "model_id": "60e8953b936b413b90922537ee1c8028",
       "version_major": 2,
       "version_minor": 0
      },
      "text/plain": [
       "  0%|          | Fitting GeneralizingEstimator : 0/36 [00:00<?,       ?it/s]"
      ]
     },
     "metadata": {},
     "output_type": "display_data"
    },
    {
     "data": {
      "application/vnd.jupyter.widget-view+json": {
       "model_id": "7af0f5c320d046b9b3634719465b8199",
       "version_major": 2,
       "version_minor": 0
      },
      "text/plain": [
       "  0%|          | Scoring GeneralizingEstimator : 0/1296 [00:00<?,       ?it/s]"
      ]
     },
     "metadata": {},
     "output_type": "display_data"
    },
    {
     "data": {
      "application/vnd.jupyter.widget-view+json": {
       "model_id": "a22f879ca1e049e39aa047c2252ecada",
       "version_major": 2,
       "version_minor": 0
      },
      "text/plain": [
       "  0%|          | Fitting GeneralizingEstimator : 0/36 [00:00<?,       ?it/s]"
      ]
     },
     "metadata": {},
     "output_type": "display_data"
    },
    {
     "data": {
      "application/vnd.jupyter.widget-view+json": {
       "model_id": "62c25fabadc241a8ad487cbfdd621732",
       "version_major": 2,
       "version_minor": 0
      },
      "text/plain": [
       "  0%|          | Scoring GeneralizingEstimator : 0/1296 [00:00<?,       ?it/s]"
      ]
     },
     "metadata": {},
     "output_type": "display_data"
    },
    {
     "name": "stderr",
     "output_type": "stream",
     "text": [
      "/home/johnv/anaconda3/envs/agency/lib/python3.10/site-packages/joblib/externals/loky/process_executor.py:702: UserWarning: A worker stopped while some jobs were given to the executor. This can be caused by a too short worker timeout or by a memory leak.\n",
      "  warnings.warn(\n"
     ]
    },
    {
     "data": {
      "application/vnd.jupyter.widget-view+json": {
       "model_id": "30a9527090a34f1caa81bdbae07f5664",
       "version_major": 2,
       "version_minor": 0
      },
      "text/plain": [
       "  0%|          | Fitting GeneralizingEstimator : 0/36 [00:00<?,       ?it/s]"
      ]
     },
     "metadata": {},
     "output_type": "display_data"
    },
    {
     "data": {
      "application/vnd.jupyter.widget-view+json": {
       "model_id": "0a28321ad9f14c3b9ad1a5eae691e85f",
       "version_major": 2,
       "version_minor": 0
      },
      "text/plain": [
       "  0%|          | Scoring GeneralizingEstimator : 0/1296 [00:00<?,       ?it/s]"
      ]
     },
     "metadata": {},
     "output_type": "display_data"
    },
    {
     "data": {
      "application/vnd.jupyter.widget-view+json": {
       "model_id": "2204bcaad4264bb4abf0051ebac652bb",
       "version_major": 2,
       "version_minor": 0
      },
      "text/plain": [
       "  0%|          | Fitting GeneralizingEstimator : 0/36 [00:00<?,       ?it/s]"
      ]
     },
     "metadata": {},
     "output_type": "display_data"
    },
    {
     "data": {
      "application/vnd.jupyter.widget-view+json": {
       "model_id": "a806a324c0ef4ab9ac54ec5518592236",
       "version_major": 2,
       "version_minor": 0
      },
      "text/plain": [
       "  0%|          | Scoring GeneralizingEstimator : 0/1296 [00:00<?,       ?it/s]"
      ]
     },
     "metadata": {},
     "output_type": "display_data"
    },
    {
     "data": {
      "application/vnd.jupyter.widget-view+json": {
       "model_id": "86b04a6151124154aa40bca97cc7f3e5",
       "version_major": 2,
       "version_minor": 0
      },
      "text/plain": [
       "  0%|          | Fitting GeneralizingEstimator : 0/36 [00:00<?,       ?it/s]"
      ]
     },
     "metadata": {},
     "output_type": "display_data"
    },
    {
     "data": {
      "application/vnd.jupyter.widget-view+json": {
       "model_id": "3a7aa9b9816243cda3b31b76326608bf",
       "version_major": 2,
       "version_minor": 0
      },
      "text/plain": [
       "  0%|          | Scoring GeneralizingEstimator : 0/1296 [00:00<?,       ?it/s]"
      ]
     },
     "metadata": {},
     "output_type": "display_data"
    },
    {
     "name": "stderr",
     "output_type": "stream",
     "text": [
      "/home/johnv/anaconda3/envs/agency/lib/python3.10/site-packages/joblib/externals/loky/process_executor.py:702: UserWarning: A worker stopped while some jobs were given to the executor. This can be caused by a too short worker timeout or by a memory leak.\n",
      "  warnings.warn(\n"
     ]
    },
    {
     "data": {
      "application/vnd.jupyter.widget-view+json": {
       "model_id": "ab40f392e0224b2a83e264f33a79dad7",
       "version_major": 2,
       "version_minor": 0
      },
      "text/plain": [
       "  0%|          | Fitting GeneralizingEstimator : 0/36 [00:00<?,       ?it/s]"
      ]
     },
     "metadata": {},
     "output_type": "display_data"
    },
    {
     "data": {
      "application/vnd.jupyter.widget-view+json": {
       "model_id": "50013f25399d49f2b2c41b49b8c3b370",
       "version_major": 2,
       "version_minor": 0
      },
      "text/plain": [
       "  0%|          | Scoring GeneralizingEstimator : 0/1296 [00:00<?,       ?it/s]"
      ]
     },
     "metadata": {},
     "output_type": "display_data"
    },
    {
     "data": {
      "application/vnd.jupyter.widget-view+json": {
       "model_id": "c99a864418f64141b614a11cc7a288f8",
       "version_major": 2,
       "version_minor": 0
      },
      "text/plain": [
       "  0%|          | Fitting GeneralizingEstimator : 0/36 [00:00<?,       ?it/s]"
      ]
     },
     "metadata": {},
     "output_type": "display_data"
    },
    {
     "data": {
      "application/vnd.jupyter.widget-view+json": {
       "model_id": "50d91ea02c5a4dc6814f23038dc8a285",
       "version_major": 2,
       "version_minor": 0
      },
      "text/plain": [
       "  0%|          | Scoring GeneralizingEstimator : 0/1296 [00:00<?,       ?it/s]"
      ]
     },
     "metadata": {},
     "output_type": "display_data"
    },
    {
     "data": {
      "application/vnd.jupyter.widget-view+json": {
       "model_id": "d76ccee092a94fdaabd062bc627ff0c1",
       "version_major": 2,
       "version_minor": 0
      },
      "text/plain": [
       "  0%|          | Fitting GeneralizingEstimator : 0/36 [00:00<?,       ?it/s]"
      ]
     },
     "metadata": {},
     "output_type": "display_data"
    },
    {
     "data": {
      "application/vnd.jupyter.widget-view+json": {
       "model_id": "9cf615d854c14e8ba3230c2c9d3adaf8",
       "version_major": 2,
       "version_minor": 0
      },
      "text/plain": [
       "  0%|          | Scoring GeneralizingEstimator : 0/1296 [00:00<?,       ?it/s]"
      ]
     },
     "metadata": {},
     "output_type": "display_data"
    },
    {
     "name": "stderr",
     "output_type": "stream",
     "text": [
      "/home/johnv/anaconda3/envs/agency/lib/python3.10/site-packages/joblib/externals/loky/process_executor.py:702: UserWarning: A worker stopped while some jobs were given to the executor. This can be caused by a too short worker timeout or by a memory leak.\n",
      "  warnings.warn(\n"
     ]
    },
    {
     "data": {
      "application/vnd.jupyter.widget-view+json": {
       "model_id": "b4a9fcc6cb47418eb135a88d93d34315",
       "version_major": 2,
       "version_minor": 0
      },
      "text/plain": [
       "  0%|          | Fitting GeneralizingEstimator : 0/36 [00:00<?,       ?it/s]"
      ]
     },
     "metadata": {},
     "output_type": "display_data"
    },
    {
     "data": {
      "application/vnd.jupyter.widget-view+json": {
       "model_id": "5fd8541d7d3b41e9b7eed8c3897eb1c1",
       "version_major": 2,
       "version_minor": 0
      },
      "text/plain": [
       "  0%|          | Scoring GeneralizingEstimator : 0/1296 [00:00<?,       ?it/s]"
      ]
     },
     "metadata": {},
     "output_type": "display_data"
    },
    {
     "data": {
      "application/vnd.jupyter.widget-view+json": {
       "model_id": "61b14da223d644f393f983823ae0aa6f",
       "version_major": 2,
       "version_minor": 0
      },
      "text/plain": [
       "  0%|          | Fitting GeneralizingEstimator : 0/36 [00:00<?,       ?it/s]"
      ]
     },
     "metadata": {},
     "output_type": "display_data"
    },
    {
     "data": {
      "application/vnd.jupyter.widget-view+json": {
       "model_id": "4b7db0c1604d43118981d08b5b3ed9f2",
       "version_major": 2,
       "version_minor": 0
      },
      "text/plain": [
       "  0%|          | Scoring GeneralizingEstimator : 0/1296 [00:00<?,       ?it/s]"
      ]
     },
     "metadata": {},
     "output_type": "display_data"
    },
    {
     "data": {
      "application/vnd.jupyter.widget-view+json": {
       "model_id": "f9c84e21cea24fd99cd55fe3285f09f9",
       "version_major": 2,
       "version_minor": 0
      },
      "text/plain": [
       "  0%|          | Fitting GeneralizingEstimator : 0/36 [00:00<?,       ?it/s]"
      ]
     },
     "metadata": {},
     "output_type": "display_data"
    },
    {
     "data": {
      "application/vnd.jupyter.widget-view+json": {
       "model_id": "80a34c6bf9b4438297235f439c3af8a9",
       "version_major": 2,
       "version_minor": 0
      },
      "text/plain": [
       "  0%|          | Scoring GeneralizingEstimator : 0/1296 [00:00<?,       ?it/s]"
      ]
     },
     "metadata": {},
     "output_type": "display_data"
    },
    {
     "data": {
      "application/vnd.jupyter.widget-view+json": {
       "model_id": "f973253e709549cd8c03a3b7aa90c212",
       "version_major": 2,
       "version_minor": 0
      },
      "text/plain": [
       "  0%|          | Fitting GeneralizingEstimator : 0/36 [00:00<?,       ?it/s]"
      ]
     },
     "metadata": {},
     "output_type": "display_data"
    },
    {
     "data": {
      "application/vnd.jupyter.widget-view+json": {
       "model_id": "5a95179a28964ef28129e002b78b9121",
       "version_major": 2,
       "version_minor": 0
      },
      "text/plain": [
       "  0%|          | Scoring GeneralizingEstimator : 0/1296 [00:00<?,       ?it/s]"
      ]
     },
     "metadata": {},
     "output_type": "display_data"
    },
    {
     "data": {
      "application/vnd.jupyter.widget-view+json": {
       "model_id": "6830212763234d1eb7e368dc992da230",
       "version_major": 2,
       "version_minor": 0
      },
      "text/plain": [
       "  0%|          | Fitting GeneralizingEstimator : 0/36 [00:00<?,       ?it/s]"
      ]
     },
     "metadata": {},
     "output_type": "display_data"
    },
    {
     "data": {
      "application/vnd.jupyter.widget-view+json": {
       "model_id": "36bcce4a6a6b45779105bf062a98dccc",
       "version_major": 2,
       "version_minor": 0
      },
      "text/plain": [
       "  0%|          | Scoring GeneralizingEstimator : 0/1296 [00:00<?,       ?it/s]"
      ]
     },
     "metadata": {},
     "output_type": "display_data"
    },
    {
     "data": {
      "application/vnd.jupyter.widget-view+json": {
       "model_id": "3ae31deb2ff84e878dbd53653d2e275d",
       "version_major": 2,
       "version_minor": 0
      },
      "text/plain": [
       "  0%|          | Fitting GeneralizingEstimator : 0/36 [00:00<?,       ?it/s]"
      ]
     },
     "metadata": {},
     "output_type": "display_data"
    },
    {
     "data": {
      "application/vnd.jupyter.widget-view+json": {
       "model_id": "2c812b3226674014ab1e332581f65576",
       "version_major": 2,
       "version_minor": 0
      },
      "text/plain": [
       "  0%|          | Scoring GeneralizingEstimator : 0/1296 [00:00<?,       ?it/s]"
      ]
     },
     "metadata": {},
     "output_type": "display_data"
    },
    {
     "name": "stderr",
     "output_type": "stream",
     "text": [
      "/home/johnv/anaconda3/envs/agency/lib/python3.10/site-packages/joblib/externals/loky/process_executor.py:702: UserWarning: A worker stopped while some jobs were given to the executor. This can be caused by a too short worker timeout or by a memory leak.\n",
      "  warnings.warn(\n"
     ]
    },
    {
     "data": {
      "application/vnd.jupyter.widget-view+json": {
       "model_id": "8c03d9a343574d918fda43a210d36aaa",
       "version_major": 2,
       "version_minor": 0
      },
      "text/plain": [
       "  0%|          | Fitting GeneralizingEstimator : 0/36 [00:00<?,       ?it/s]"
      ]
     },
     "metadata": {},
     "output_type": "display_data"
    },
    {
     "data": {
      "application/vnd.jupyter.widget-view+json": {
       "model_id": "587083f1613843e3ab0ed58e1afa856b",
       "version_major": 2,
       "version_minor": 0
      },
      "text/plain": [
       "  0%|          | Scoring GeneralizingEstimator : 0/1296 [00:00<?,       ?it/s]"
      ]
     },
     "metadata": {},
     "output_type": "display_data"
    },
    {
     "data": {
      "application/vnd.jupyter.widget-view+json": {
       "model_id": "1dace7a15e7946b3a549e05d64fcde1d",
       "version_major": 2,
       "version_minor": 0
      },
      "text/plain": [
       "  0%|          | Fitting GeneralizingEstimator : 0/36 [00:00<?,       ?it/s]"
      ]
     },
     "metadata": {},
     "output_type": "display_data"
    },
    {
     "data": {
      "application/vnd.jupyter.widget-view+json": {
       "model_id": "c48a7247c454419f97ad28ffd5b41779",
       "version_major": 2,
       "version_minor": 0
      },
      "text/plain": [
       "  0%|          | Scoring GeneralizingEstimator : 0/1296 [00:00<?,       ?it/s]"
      ]
     },
     "metadata": {},
     "output_type": "display_data"
    },
    {
     "data": {
      "application/vnd.jupyter.widget-view+json": {
       "model_id": "ef7bbb2798b64c11ae34053f6a7db3ae",
       "version_major": 2,
       "version_minor": 0
      },
      "text/plain": [
       "  0%|          | Fitting GeneralizingEstimator : 0/36 [00:00<?,       ?it/s]"
      ]
     },
     "metadata": {},
     "output_type": "display_data"
    },
    {
     "data": {
      "application/vnd.jupyter.widget-view+json": {
       "model_id": "1790db6b441044af8020d27343945c97",
       "version_major": 2,
       "version_minor": 0
      },
      "text/plain": [
       "  0%|          | Scoring GeneralizingEstimator : 0/1296 [00:00<?,       ?it/s]"
      ]
     },
     "metadata": {},
     "output_type": "display_data"
    },
    {
     "name": "stderr",
     "output_type": "stream",
     "text": [
      "/home/johnv/anaconda3/envs/agency/lib/python3.10/site-packages/joblib/externals/loky/process_executor.py:702: UserWarning: A worker stopped while some jobs were given to the executor. This can be caused by a too short worker timeout or by a memory leak.\n",
      "  warnings.warn(\n"
     ]
    },
    {
     "data": {
      "application/vnd.jupyter.widget-view+json": {
       "model_id": "0fd931a64f8843f0b6f159a85bcb558a",
       "version_major": 2,
       "version_minor": 0
      },
      "text/plain": [
       "  0%|          | Fitting GeneralizingEstimator : 0/36 [00:00<?,       ?it/s]"
      ]
     },
     "metadata": {},
     "output_type": "display_data"
    },
    {
     "data": {
      "application/vnd.jupyter.widget-view+json": {
       "model_id": "8f8d4d31b1694db09c223ad839ea8d64",
       "version_major": 2,
       "version_minor": 0
      },
      "text/plain": [
       "  0%|          | Scoring GeneralizingEstimator : 0/1296 [00:00<?,       ?it/s]"
      ]
     },
     "metadata": {},
     "output_type": "display_data"
    },
    {
     "data": {
      "application/vnd.jupyter.widget-view+json": {
       "model_id": "916c276f75c8460a97611510e8d906d1",
       "version_major": 2,
       "version_minor": 0
      },
      "text/plain": [
       "  0%|          | Fitting GeneralizingEstimator : 0/36 [00:00<?,       ?it/s]"
      ]
     },
     "metadata": {},
     "output_type": "display_data"
    },
    {
     "data": {
      "application/vnd.jupyter.widget-view+json": {
       "model_id": "3d5b1767b9dd4b81ac4d73bf63256429",
       "version_major": 2,
       "version_minor": 0
      },
      "text/plain": [
       "  0%|          | Scoring GeneralizingEstimator : 0/1296 [00:00<?,       ?it/s]"
      ]
     },
     "metadata": {},
     "output_type": "display_data"
    },
    {
     "data": {
      "application/vnd.jupyter.widget-view+json": {
       "model_id": "3c32771502be4d828c0f3a2259e80553",
       "version_major": 2,
       "version_minor": 0
      },
      "text/plain": [
       "  0%|          | Fitting GeneralizingEstimator : 0/36 [00:00<?,       ?it/s]"
      ]
     },
     "metadata": {},
     "output_type": "display_data"
    },
    {
     "data": {
      "application/vnd.jupyter.widget-view+json": {
       "model_id": "ff11387f53524079a82fa7f29c94ff22",
       "version_major": 2,
       "version_minor": 0
      },
      "text/plain": [
       "  0%|          | Scoring GeneralizingEstimator : 0/1296 [00:00<?,       ?it/s]"
      ]
     },
     "metadata": {},
     "output_type": "display_data"
    },
    {
     "name": "stderr",
     "output_type": "stream",
     "text": [
      "/home/johnv/anaconda3/envs/agency/lib/python3.10/site-packages/joblib/externals/loky/process_executor.py:702: UserWarning: A worker stopped while some jobs were given to the executor. This can be caused by a too short worker timeout or by a memory leak.\n",
      "  warnings.warn(\n"
     ]
    },
    {
     "data": {
      "application/vnd.jupyter.widget-view+json": {
       "model_id": "a22b13fda25c400ab097bbb711421f43",
       "version_major": 2,
       "version_minor": 0
      },
      "text/plain": [
       "  0%|          | Fitting GeneralizingEstimator : 0/36 [00:00<?,       ?it/s]"
      ]
     },
     "metadata": {},
     "output_type": "display_data"
    },
    {
     "data": {
      "application/vnd.jupyter.widget-view+json": {
       "model_id": "672b97881807440cb14052679fac0ead",
       "version_major": 2,
       "version_minor": 0
      },
      "text/plain": [
       "  0%|          | Scoring GeneralizingEstimator : 0/1296 [00:00<?,       ?it/s]"
      ]
     },
     "metadata": {},
     "output_type": "display_data"
    },
    {
     "data": {
      "application/vnd.jupyter.widget-view+json": {
       "model_id": "238fb98ccd1646ae954e56f3a1ee97d6",
       "version_major": 2,
       "version_minor": 0
      },
      "text/plain": [
       "  0%|          | Fitting GeneralizingEstimator : 0/36 [00:00<?,       ?it/s]"
      ]
     },
     "metadata": {},
     "output_type": "display_data"
    },
    {
     "data": {
      "application/vnd.jupyter.widget-view+json": {
       "model_id": "ff4a3d3d07e64ac1a027cccbd6aa0008",
       "version_major": 2,
       "version_minor": 0
      },
      "text/plain": [
       "  0%|          | Scoring GeneralizingEstimator : 0/1296 [00:00<?,       ?it/s]"
      ]
     },
     "metadata": {},
     "output_type": "display_data"
    },
    {
     "data": {
      "application/vnd.jupyter.widget-view+json": {
       "model_id": "1f4137a187364c19b38935bee32d773c",
       "version_major": 2,
       "version_minor": 0
      },
      "text/plain": [
       "  0%|          | Fitting GeneralizingEstimator : 0/36 [00:00<?,       ?it/s]"
      ]
     },
     "metadata": {},
     "output_type": "display_data"
    },
    {
     "data": {
      "application/vnd.jupyter.widget-view+json": {
       "model_id": "a5b8b911854649ad915f126c09be5c4a",
       "version_major": 2,
       "version_minor": 0
      },
      "text/plain": [
       "  0%|          | Scoring GeneralizingEstimator : 0/1296 [00:00<?,       ?it/s]"
      ]
     },
     "metadata": {},
     "output_type": "display_data"
    },
    {
     "name": "stderr",
     "output_type": "stream",
     "text": [
      "/home/johnv/anaconda3/envs/agency/lib/python3.10/site-packages/joblib/externals/loky/process_executor.py:702: UserWarning: A worker stopped while some jobs were given to the executor. This can be caused by a too short worker timeout or by a memory leak.\n",
      "  warnings.warn(\n"
     ]
    },
    {
     "data": {
      "application/vnd.jupyter.widget-view+json": {
       "model_id": "7aafeb15e7954a95a717a19d96cfb9dc",
       "version_major": 2,
       "version_minor": 0
      },
      "text/plain": [
       "  0%|          | Fitting GeneralizingEstimator : 0/36 [00:00<?,       ?it/s]"
      ]
     },
     "metadata": {},
     "output_type": "display_data"
    },
    {
     "data": {
      "application/vnd.jupyter.widget-view+json": {
       "model_id": "fbfc1208debf40359b4b3b31dad6535c",
       "version_major": 2,
       "version_minor": 0
      },
      "text/plain": [
       "  0%|          | Scoring GeneralizingEstimator : 0/1296 [00:00<?,       ?it/s]"
      ]
     },
     "metadata": {},
     "output_type": "display_data"
    },
    {
     "data": {
      "application/vnd.jupyter.widget-view+json": {
       "model_id": "dfe82d92d6324a5ebb3efaaded457d61",
       "version_major": 2,
       "version_minor": 0
      },
      "text/plain": [
       "  0%|          | Fitting GeneralizingEstimator : 0/36 [00:00<?,       ?it/s]"
      ]
     },
     "metadata": {},
     "output_type": "display_data"
    },
    {
     "data": {
      "application/vnd.jupyter.widget-view+json": {
       "model_id": "76ea95c4fdfc42a1a4161f80f735f942",
       "version_major": 2,
       "version_minor": 0
      },
      "text/plain": [
       "  0%|          | Scoring GeneralizingEstimator : 0/1296 [00:00<?,       ?it/s]"
      ]
     },
     "metadata": {},
     "output_type": "display_data"
    },
    {
     "data": {
      "application/vnd.jupyter.widget-view+json": {
       "model_id": "bc200fa00b544056bdcea5e0ba032628",
       "version_major": 2,
       "version_minor": 0
      },
      "text/plain": [
       "  0%|          | Fitting GeneralizingEstimator : 0/36 [00:00<?,       ?it/s]"
      ]
     },
     "metadata": {},
     "output_type": "display_data"
    },
    {
     "data": {
      "application/vnd.jupyter.widget-view+json": {
       "model_id": "6f9c3db34bfa45a09d680034a257955b",
       "version_major": 2,
       "version_minor": 0
      },
      "text/plain": [
       "  0%|          | Scoring GeneralizingEstimator : 0/1296 [00:00<?,       ?it/s]"
      ]
     },
     "metadata": {},
     "output_type": "display_data"
    },
    {
     "name": "stderr",
     "output_type": "stream",
     "text": [
      "/home/johnv/anaconda3/envs/agency/lib/python3.10/site-packages/joblib/externals/loky/process_executor.py:702: UserWarning: A worker stopped while some jobs were given to the executor. This can be caused by a too short worker timeout or by a memory leak.\n",
      "  warnings.warn(\n"
     ]
    },
    {
     "data": {
      "application/vnd.jupyter.widget-view+json": {
       "model_id": "13b24f1e7e6c4266a8cf97c5971d06fc",
       "version_major": 2,
       "version_minor": 0
      },
      "text/plain": [
       "  0%|          | Fitting GeneralizingEstimator : 0/36 [00:00<?,       ?it/s]"
      ]
     },
     "metadata": {},
     "output_type": "display_data"
    },
    {
     "data": {
      "application/vnd.jupyter.widget-view+json": {
       "model_id": "e089bafc3d14433aa5430063b9786e0c",
       "version_major": 2,
       "version_minor": 0
      },
      "text/plain": [
       "  0%|          | Scoring GeneralizingEstimator : 0/1296 [00:00<?,       ?it/s]"
      ]
     },
     "metadata": {},
     "output_type": "display_data"
    },
    {
     "data": {
      "application/vnd.jupyter.widget-view+json": {
       "model_id": "6ee732dd97f94527a68e976bced4aaca",
       "version_major": 2,
       "version_minor": 0
      },
      "text/plain": [
       "  0%|          | Fitting GeneralizingEstimator : 0/36 [00:00<?,       ?it/s]"
      ]
     },
     "metadata": {},
     "output_type": "display_data"
    },
    {
     "data": {
      "application/vnd.jupyter.widget-view+json": {
       "model_id": "2326c7076bcd43c2b1aa4f1457481d27",
       "version_major": 2,
       "version_minor": 0
      },
      "text/plain": [
       "  0%|          | Scoring GeneralizingEstimator : 0/1296 [00:00<?,       ?it/s]"
      ]
     },
     "metadata": {},
     "output_type": "display_data"
    },
    {
     "data": {
      "application/vnd.jupyter.widget-view+json": {
       "model_id": "1c3d98f5bb4e4851bc6276cfa7606569",
       "version_major": 2,
       "version_minor": 0
      },
      "text/plain": [
       "  0%|          | Fitting GeneralizingEstimator : 0/36 [00:00<?,       ?it/s]"
      ]
     },
     "metadata": {},
     "output_type": "display_data"
    },
    {
     "data": {
      "application/vnd.jupyter.widget-view+json": {
       "model_id": "153676d460d44db4aaad9c5740b45d0d",
       "version_major": 2,
       "version_minor": 0
      },
      "text/plain": [
       "  0%|          | Scoring GeneralizingEstimator : 0/1296 [00:00<?,       ?it/s]"
      ]
     },
     "metadata": {},
     "output_type": "display_data"
    },
    {
     "name": "stderr",
     "output_type": "stream",
     "text": [
      "/home/johnv/anaconda3/envs/agency/lib/python3.10/site-packages/joblib/externals/loky/process_executor.py:702: UserWarning: A worker stopped while some jobs were given to the executor. This can be caused by a too short worker timeout or by a memory leak.\n",
      "  warnings.warn(\n"
     ]
    },
    {
     "data": {
      "application/vnd.jupyter.widget-view+json": {
       "model_id": "bfb2076bc62443a1892768e996bb2e52",
       "version_major": 2,
       "version_minor": 0
      },
      "text/plain": [
       "  0%|          | Fitting GeneralizingEstimator : 0/36 [00:00<?,       ?it/s]"
      ]
     },
     "metadata": {},
     "output_type": "display_data"
    },
    {
     "data": {
      "application/vnd.jupyter.widget-view+json": {
       "model_id": "869437b66aa145b39e20904752bba839",
       "version_major": 2,
       "version_minor": 0
      },
      "text/plain": [
       "  0%|          | Scoring GeneralizingEstimator : 0/1296 [00:00<?,       ?it/s]"
      ]
     },
     "metadata": {},
     "output_type": "display_data"
    },
    {
     "data": {
      "application/vnd.jupyter.widget-view+json": {
       "model_id": "eebb75f104f142e08bfb555fe6a77492",
       "version_major": 2,
       "version_minor": 0
      },
      "text/plain": [
       "  0%|          | Fitting GeneralizingEstimator : 0/36 [00:00<?,       ?it/s]"
      ]
     },
     "metadata": {},
     "output_type": "display_data"
    },
    {
     "data": {
      "application/vnd.jupyter.widget-view+json": {
       "model_id": "bfb67d1338c54152b9abfa452dfed152",
       "version_major": 2,
       "version_minor": 0
      },
      "text/plain": [
       "  0%|          | Scoring GeneralizingEstimator : 0/1296 [00:00<?,       ?it/s]"
      ]
     },
     "metadata": {},
     "output_type": "display_data"
    },
    {
     "data": {
      "application/vnd.jupyter.widget-view+json": {
       "model_id": "419ef8dca60f4cc4bf21778b9d3819eb",
       "version_major": 2,
       "version_minor": 0
      },
      "text/plain": [
       "  0%|          | Fitting GeneralizingEstimator : 0/36 [00:00<?,       ?it/s]"
      ]
     },
     "metadata": {},
     "output_type": "display_data"
    },
    {
     "data": {
      "application/vnd.jupyter.widget-view+json": {
       "model_id": "cfb6788eeec347709100d9d398629451",
       "version_major": 2,
       "version_minor": 0
      },
      "text/plain": [
       "  0%|          | Scoring GeneralizingEstimator : 0/1296 [00:00<?,       ?it/s]"
      ]
     },
     "metadata": {},
     "output_type": "display_data"
    },
    {
     "data": {
      "application/vnd.jupyter.widget-view+json": {
       "model_id": "ed35190405d2432d810d3cc2ec962744",
       "version_major": 2,
       "version_minor": 0
      },
      "text/plain": [
       "  0%|          | Fitting GeneralizingEstimator : 0/36 [00:00<?,       ?it/s]"
      ]
     },
     "metadata": {},
     "output_type": "display_data"
    },
    {
     "data": {
      "application/vnd.jupyter.widget-view+json": {
       "model_id": "9c9507fe8c244e36b3aaea6072edc1d2",
       "version_major": 2,
       "version_minor": 0
      },
      "text/plain": [
       "  0%|          | Scoring GeneralizingEstimator : 0/1296 [00:00<?,       ?it/s]"
      ]
     },
     "metadata": {},
     "output_type": "display_data"
    },
    {
     "data": {
      "application/vnd.jupyter.widget-view+json": {
       "model_id": "c1a081fa5c9a4c55b5caaa63aa4891c9",
       "version_major": 2,
       "version_minor": 0
      },
      "text/plain": [
       "  0%|          | Fitting GeneralizingEstimator : 0/36 [00:00<?,       ?it/s]"
      ]
     },
     "metadata": {},
     "output_type": "display_data"
    },
    {
     "data": {
      "application/vnd.jupyter.widget-view+json": {
       "model_id": "94033370c9b345d3a1dbcf11309f8065",
       "version_major": 2,
       "version_minor": 0
      },
      "text/plain": [
       "  0%|          | Scoring GeneralizingEstimator : 0/1296 [00:00<?,       ?it/s]"
      ]
     },
     "metadata": {},
     "output_type": "display_data"
    },
    {
     "data": {
      "application/vnd.jupyter.widget-view+json": {
       "model_id": "d090e4de20554661a3044588a1bd5c2b",
       "version_major": 2,
       "version_minor": 0
      },
      "text/plain": [
       "  0%|          | Fitting GeneralizingEstimator : 0/36 [00:00<?,       ?it/s]"
      ]
     },
     "metadata": {},
     "output_type": "display_data"
    },
    {
     "data": {
      "application/vnd.jupyter.widget-view+json": {
       "model_id": "cc9a130beb3a401482284de8a4e536ad",
       "version_major": 2,
       "version_minor": 0
      },
      "text/plain": [
       "  0%|          | Scoring GeneralizingEstimator : 0/1296 [00:00<?,       ?it/s]"
      ]
     },
     "metadata": {},
     "output_type": "display_data"
    },
    {
     "name": "stderr",
     "output_type": "stream",
     "text": [
      "/home/johnv/anaconda3/envs/agency/lib/python3.10/site-packages/joblib/externals/loky/process_executor.py:702: UserWarning: A worker stopped while some jobs were given to the executor. This can be caused by a too short worker timeout or by a memory leak.\n",
      "  warnings.warn(\n"
     ]
    },
    {
     "data": {
      "application/vnd.jupyter.widget-view+json": {
       "model_id": "a1f59bbab5f6457db726c55acce8f6da",
       "version_major": 2,
       "version_minor": 0
      },
      "text/plain": [
       "  0%|          | Fitting GeneralizingEstimator : 0/36 [00:00<?,       ?it/s]"
      ]
     },
     "metadata": {},
     "output_type": "display_data"
    },
    {
     "data": {
      "application/vnd.jupyter.widget-view+json": {
       "model_id": "3c4d43236b6f487fb8ee1841b21f1eb9",
       "version_major": 2,
       "version_minor": 0
      },
      "text/plain": [
       "  0%|          | Scoring GeneralizingEstimator : 0/1296 [00:00<?,       ?it/s]"
      ]
     },
     "metadata": {},
     "output_type": "display_data"
    },
    {
     "data": {
      "application/vnd.jupyter.widget-view+json": {
       "model_id": "fc4af8a7e12241a1ae00b7cebbf8e884",
       "version_major": 2,
       "version_minor": 0
      },
      "text/plain": [
       "  0%|          | Fitting GeneralizingEstimator : 0/36 [00:00<?,       ?it/s]"
      ]
     },
     "metadata": {},
     "output_type": "display_data"
    },
    {
     "data": {
      "application/vnd.jupyter.widget-view+json": {
       "model_id": "4e8f96b976494dc28c087e6e672eeb44",
       "version_major": 2,
       "version_minor": 0
      },
      "text/plain": [
       "  0%|          | Scoring GeneralizingEstimator : 0/1296 [00:00<?,       ?it/s]"
      ]
     },
     "metadata": {},
     "output_type": "display_data"
    },
    {
     "data": {
      "application/vnd.jupyter.widget-view+json": {
       "model_id": "f9aa8a8c7745417eb802fc487aed8f49",
       "version_major": 2,
       "version_minor": 0
      },
      "text/plain": [
       "  0%|          | Fitting GeneralizingEstimator : 0/36 [00:00<?,       ?it/s]"
      ]
     },
     "metadata": {},
     "output_type": "display_data"
    },
    {
     "data": {
      "application/vnd.jupyter.widget-view+json": {
       "model_id": "a94f688f57894eaf87a7aec1247837a2",
       "version_major": 2,
       "version_minor": 0
      },
      "text/plain": [
       "  0%|          | Scoring GeneralizingEstimator : 0/1296 [00:00<?,       ?it/s]"
      ]
     },
     "metadata": {},
     "output_type": "display_data"
    },
    {
     "name": "stderr",
     "output_type": "stream",
     "text": [
      "/home/johnv/anaconda3/envs/agency/lib/python3.10/site-packages/joblib/externals/loky/process_executor.py:702: UserWarning: A worker stopped while some jobs were given to the executor. This can be caused by a too short worker timeout or by a memory leak.\n",
      "  warnings.warn(\n"
     ]
    },
    {
     "data": {
      "application/vnd.jupyter.widget-view+json": {
       "model_id": "3ec1c6940aab4364acbbf4294ba06de5",
       "version_major": 2,
       "version_minor": 0
      },
      "text/plain": [
       "  0%|          | Fitting GeneralizingEstimator : 0/36 [00:00<?,       ?it/s]"
      ]
     },
     "metadata": {},
     "output_type": "display_data"
    },
    {
     "data": {
      "application/vnd.jupyter.widget-view+json": {
       "model_id": "9a980828c9a642359e1e8dd36445efc5",
       "version_major": 2,
       "version_minor": 0
      },
      "text/plain": [
       "  0%|          | Scoring GeneralizingEstimator : 0/1296 [00:00<?,       ?it/s]"
      ]
     },
     "metadata": {},
     "output_type": "display_data"
    },
    {
     "data": {
      "application/vnd.jupyter.widget-view+json": {
       "model_id": "f03e25055d4c4b91a98be75d9210164d",
       "version_major": 2,
       "version_minor": 0
      },
      "text/plain": [
       "  0%|          | Fitting GeneralizingEstimator : 0/36 [00:00<?,       ?it/s]"
      ]
     },
     "metadata": {},
     "output_type": "display_data"
    },
    {
     "data": {
      "application/vnd.jupyter.widget-view+json": {
       "model_id": "ae78398803524af98d23b1a122afdb54",
       "version_major": 2,
       "version_minor": 0
      },
      "text/plain": [
       "  0%|          | Scoring GeneralizingEstimator : 0/1296 [00:00<?,       ?it/s]"
      ]
     },
     "metadata": {},
     "output_type": "display_data"
    },
    {
     "data": {
      "application/vnd.jupyter.widget-view+json": {
       "model_id": "20033e76f5e14fd08d66c114c618b436",
       "version_major": 2,
       "version_minor": 0
      },
      "text/plain": [
       "  0%|          | Fitting GeneralizingEstimator : 0/36 [00:00<?,       ?it/s]"
      ]
     },
     "metadata": {},
     "output_type": "display_data"
    },
    {
     "data": {
      "application/vnd.jupyter.widget-view+json": {
       "model_id": "0828aed1f5184feea8f4f59b12b00eaf",
       "version_major": 2,
       "version_minor": 0
      },
      "text/plain": [
       "  0%|          | Scoring GeneralizingEstimator : 0/1296 [00:00<?,       ?it/s]"
      ]
     },
     "metadata": {},
     "output_type": "display_data"
    },
    {
     "name": "stderr",
     "output_type": "stream",
     "text": [
      "/home/johnv/anaconda3/envs/agency/lib/python3.10/site-packages/joblib/externals/loky/process_executor.py:702: UserWarning: A worker stopped while some jobs were given to the executor. This can be caused by a too short worker timeout or by a memory leak.\n",
      "  warnings.warn(\n"
     ]
    },
    {
     "data": {
      "application/vnd.jupyter.widget-view+json": {
       "model_id": "d9c0dbd45aba46fbb6d56a27a14b0023",
       "version_major": 2,
       "version_minor": 0
      },
      "text/plain": [
       "  0%|          | Fitting GeneralizingEstimator : 0/36 [00:00<?,       ?it/s]"
      ]
     },
     "metadata": {},
     "output_type": "display_data"
    },
    {
     "data": {
      "application/vnd.jupyter.widget-view+json": {
       "model_id": "533b243bd0074137a9507ff2f0048da4",
       "version_major": 2,
       "version_minor": 0
      },
      "text/plain": [
       "  0%|          | Scoring GeneralizingEstimator : 0/1296 [00:00<?,       ?it/s]"
      ]
     },
     "metadata": {},
     "output_type": "display_data"
    },
    {
     "data": {
      "application/vnd.jupyter.widget-view+json": {
       "model_id": "cec9f58855314349bba48b3629b6b182",
       "version_major": 2,
       "version_minor": 0
      },
      "text/plain": [
       "  0%|          | Fitting GeneralizingEstimator : 0/36 [00:00<?,       ?it/s]"
      ]
     },
     "metadata": {},
     "output_type": "display_data"
    },
    {
     "data": {
      "application/vnd.jupyter.widget-view+json": {
       "model_id": "126a559b066c4239a420fb73e42c35de",
       "version_major": 2,
       "version_minor": 0
      },
      "text/plain": [
       "  0%|          | Scoring GeneralizingEstimator : 0/1296 [00:00<?,       ?it/s]"
      ]
     },
     "metadata": {},
     "output_type": "display_data"
    },
    {
     "data": {
      "application/vnd.jupyter.widget-view+json": {
       "model_id": "cd6d754d9e4b4db1bd33dbcf6d296bf6",
       "version_major": 2,
       "version_minor": 0
      },
      "text/plain": [
       "  0%|          | Fitting GeneralizingEstimator : 0/36 [00:00<?,       ?it/s]"
      ]
     },
     "metadata": {},
     "output_type": "display_data"
    },
    {
     "data": {
      "application/vnd.jupyter.widget-view+json": {
       "model_id": "a2e28789759e40598893a4c451730437",
       "version_major": 2,
       "version_minor": 0
      },
      "text/plain": [
       "  0%|          | Scoring GeneralizingEstimator : 0/1296 [00:00<?,       ?it/s]"
      ]
     },
     "metadata": {},
     "output_type": "display_data"
    },
    {
     "name": "stderr",
     "output_type": "stream",
     "text": [
      "/home/johnv/anaconda3/envs/agency/lib/python3.10/site-packages/joblib/externals/loky/process_executor.py:702: UserWarning: A worker stopped while some jobs were given to the executor. This can be caused by a too short worker timeout or by a memory leak.\n",
      "  warnings.warn(\n"
     ]
    },
    {
     "data": {
      "application/vnd.jupyter.widget-view+json": {
       "model_id": "33b698ae792b4611b1d442fb445a5cdb",
       "version_major": 2,
       "version_minor": 0
      },
      "text/plain": [
       "  0%|          | Fitting GeneralizingEstimator : 0/36 [00:00<?,       ?it/s]"
      ]
     },
     "metadata": {},
     "output_type": "display_data"
    },
    {
     "data": {
      "application/vnd.jupyter.widget-view+json": {
       "model_id": "a166119cdacb466c975250ce42e1ee46",
       "version_major": 2,
       "version_minor": 0
      },
      "text/plain": [
       "  0%|          | Scoring GeneralizingEstimator : 0/1296 [00:00<?,       ?it/s]"
      ]
     },
     "metadata": {},
     "output_type": "display_data"
    },
    {
     "data": {
      "application/vnd.jupyter.widget-view+json": {
       "model_id": "e4f84b7a3d8b4b2cb9611b68b85cf9ff",
       "version_major": 2,
       "version_minor": 0
      },
      "text/plain": [
       "  0%|          | Fitting GeneralizingEstimator : 0/36 [00:00<?,       ?it/s]"
      ]
     },
     "metadata": {},
     "output_type": "display_data"
    },
    {
     "data": {
      "application/vnd.jupyter.widget-view+json": {
       "model_id": "4b4c098f39d94f08bddae4620d763268",
       "version_major": 2,
       "version_minor": 0
      },
      "text/plain": [
       "  0%|          | Scoring GeneralizingEstimator : 0/1296 [00:00<?,       ?it/s]"
      ]
     },
     "metadata": {},
     "output_type": "display_data"
    },
    {
     "data": {
      "application/vnd.jupyter.widget-view+json": {
       "model_id": "bfc983d3052241e6b1727f041ddbc2c8",
       "version_major": 2,
       "version_minor": 0
      },
      "text/plain": [
       "  0%|          | Fitting GeneralizingEstimator : 0/36 [00:00<?,       ?it/s]"
      ]
     },
     "metadata": {},
     "output_type": "display_data"
    },
    {
     "data": {
      "application/vnd.jupyter.widget-view+json": {
       "model_id": "70f479ac25bc4515b8c237d57f5b8a74",
       "version_major": 2,
       "version_minor": 0
      },
      "text/plain": [
       "  0%|          | Scoring GeneralizingEstimator : 0/1296 [00:00<?,       ?it/s]"
      ]
     },
     "metadata": {},
     "output_type": "display_data"
    },
    {
     "name": "stderr",
     "output_type": "stream",
     "text": [
      "/home/johnv/anaconda3/envs/agency/lib/python3.10/site-packages/joblib/externals/loky/process_executor.py:702: UserWarning: A worker stopped while some jobs were given to the executor. This can be caused by a too short worker timeout or by a memory leak.\n",
      "  warnings.warn(\n"
     ]
    },
    {
     "data": {
      "application/vnd.jupyter.widget-view+json": {
       "model_id": "3c0a7eaa57db45e6b55bc4d43cdd462a",
       "version_major": 2,
       "version_minor": 0
      },
      "text/plain": [
       "  0%|          | Fitting GeneralizingEstimator : 0/36 [00:00<?,       ?it/s]"
      ]
     },
     "metadata": {},
     "output_type": "display_data"
    },
    {
     "data": {
      "application/vnd.jupyter.widget-view+json": {
       "model_id": "75b9a641219643829efa5bb61ea66e5b",
       "version_major": 2,
       "version_minor": 0
      },
      "text/plain": [
       "  0%|          | Scoring GeneralizingEstimator : 0/1296 [00:00<?,       ?it/s]"
      ]
     },
     "metadata": {},
     "output_type": "display_data"
    },
    {
     "data": {
      "application/vnd.jupyter.widget-view+json": {
       "model_id": "709a1563b65c4256a4f846cf3c37f2e1",
       "version_major": 2,
       "version_minor": 0
      },
      "text/plain": [
       "  0%|          | Fitting GeneralizingEstimator : 0/36 [00:00<?,       ?it/s]"
      ]
     },
     "metadata": {},
     "output_type": "display_data"
    },
    {
     "data": {
      "application/vnd.jupyter.widget-view+json": {
       "model_id": "e1fdaac7d823440081f4ca100f9b943d",
       "version_major": 2,
       "version_minor": 0
      },
      "text/plain": [
       "  0%|          | Scoring GeneralizingEstimator : 0/1296 [00:00<?,       ?it/s]"
      ]
     },
     "metadata": {},
     "output_type": "display_data"
    },
    {
     "data": {
      "application/vnd.jupyter.widget-view+json": {
       "model_id": "9b7ceb283dc243fea1626e93d9158f9b",
       "version_major": 2,
       "version_minor": 0
      },
      "text/plain": [
       "  0%|          | Fitting GeneralizingEstimator : 0/36 [00:00<?,       ?it/s]"
      ]
     },
     "metadata": {},
     "output_type": "display_data"
    },
    {
     "data": {
      "application/vnd.jupyter.widget-view+json": {
       "model_id": "e454d7a594924ddc8389c835c71cc793",
       "version_major": 2,
       "version_minor": 0
      },
      "text/plain": [
       "  0%|          | Scoring GeneralizingEstimator : 0/1296 [00:00<?,       ?it/s]"
      ]
     },
     "metadata": {},
     "output_type": "display_data"
    },
    {
     "data": {
      "application/vnd.jupyter.widget-view+json": {
       "model_id": "993d0bda5632459182318fc0d8787de7",
       "version_major": 2,
       "version_minor": 0
      },
      "text/plain": [
       "  0%|          | Fitting GeneralizingEstimator : 0/36 [00:00<?,       ?it/s]"
      ]
     },
     "metadata": {},
     "output_type": "display_data"
    },
    {
     "data": {
      "application/vnd.jupyter.widget-view+json": {
       "model_id": "57990da14d9b45af9012434a30612de2",
       "version_major": 2,
       "version_minor": 0
      },
      "text/plain": [
       "  0%|          | Scoring GeneralizingEstimator : 0/1296 [00:00<?,       ?it/s]"
      ]
     },
     "metadata": {},
     "output_type": "display_data"
    }
   ],
   "source": [
    "# perform cross-validation across subjects\n",
    "cv_methds = [StratifiedGroupKFold(10, shuffle = True, random_state = i) for i in range(10)]\n",
    "optim_params = dict(maxiter = 100, first_dep_update = 20, params_niter = 10)\n",
    "scores = [cross_val_multiscore(\n",
    "    time_decod, \n",
    "    X, y, sub_ids,\n",
    "    fit_params = dict(groups = sub_ids, **optim_params),\n",
    "    n_jobs = 1,\n",
    "    cv = cv) for cv in cv_methds\n",
    "]"
   ]
  },
  {
   "cell_type": "code",
   "execution_count": 8,
   "id": "4da2f444",
   "metadata": {},
   "outputs": [
    {
     "data": {
      "application/vnd.jupyter.widget-view+json": {
       "model_id": "20fa6642184d443b808db25c2cc070b6",
       "version_major": 2,
       "version_minor": 0
      },
      "text/plain": [
       "  0%|          | Fitting GeneralizingEstimator : 0/36 [00:00<?,       ?it/s]"
      ]
     },
     "metadata": {},
     "output_type": "display_data"
    }
   ],
   "source": [
    "# train final model for visualization\n",
    "time_decod.fit(X, y, groups = sub_ids)\n",
    "# extract \"patterns,\" not model weights, see Haufe et al. (2014)\n",
    "pat = get_coef(time_decod, 'patterns_') \n",
    "patterns = mne.EvokedArray(pat, epochs.info, tmin = epochs.times[0])\n",
    "patterns.nave = None\n",
    "\n",
    "dig = mne.channels.make_standard_montage('standard_1020')\n",
    "patterns = patterns.set_montage(dig)"
   ]
  },
  {
   "cell_type": "code",
   "execution_count": 120,
   "id": "7b524ef3",
   "metadata": {},
   "outputs": [],
   "source": [
    "def ttest_1samp_corrected(scores, chance = .5):\n",
    "    '''\n",
    "    Performs one-sample t-test using the variance correction\n",
    "    proposed by [1] to correct for the issues caused by \n",
    "    overlapping training/test sets across folds (violating \n",
    "    independence assumption of a t-test [2]). Recommended \n",
    "    cross-validation procedure for good replicability is\n",
    "    10 times 10-fold cross-validation [3], but the test \n",
    "    should be conservative for other r x k-fold schemes.\n",
    "    \n",
    "    Input: list of r (k, n_tests) arrays of scores obtained from\n",
    "            a series of r different k-fold cross validation splits\n",
    "            \n",
    "    Output: t-values, p-values, and standard errors from \n",
    "            a kx2 t-test for classification metrics with null\n",
    "            hypothesis that metric == 0.5. These are all\n",
    "            (n_tests,) arrays. Corrected t-stat derived \n",
    "            in [1] and described more readably, with a \n",
    "            k-fold formulation given in [3]\n",
    "            \n",
    "    References\n",
    "    ----------\n",
    "    [1] Nadeau, C., & Bengio, Y. (1999). Inference for the \n",
    "        generalization error. Advances in neural information \n",
    "        processing systems, 12.\n",
    "    [2] Dietterich T.G. (1998) Approximate Statistical Tests for \n",
    "        Comparing Supervised Classification Learning Algorithms.\n",
    "        Neural Comput 10:1895–1923\n",
    "    [3] Bouckaert, R. R., & Frank, E. (2004, May). \n",
    "        Evaluating the replicability of significance tests for \n",
    "        comparing learning algorithms. In Pacific-Asia conference on \n",
    "        knowledge discovery and data mining (pp. 3-12). \n",
    "        Springer, Berlin, Heidelberg.\n",
    "    '''\n",
    "    from scipy.stats import t as t_dist\n",
    "    r = len(scores) # number of cross-validation runs\n",
    "    k = scores[0].shape[0] # number of cross-validation folds\n",
    "    test_train_ratio = 1/(k - 1)\n",
    "    scrs = np.concatenate(scores)\n",
    "    above_chance = scrs - chance\n",
    "    mean_scr = above_chance.mean(axis = 0)\n",
    "    var_scr = above_chance.var(axis = 0)\n",
    "    se_corrected = np.sqrt((1/(k*r) + test_train_ratio) * var_scr)\n",
    "    t = mean_scr / se_corrected\n",
    "    p = t_dist.sf(t, df = r*k - 1) # one-sided p-value \n",
    "    return t, p, mean_scr + chance, se_corrected\n",
    "\n",
    "# evaluate statistical significance of CV results\n",
    "alpha = .05\n",
    "_, p, obs_scores, se = ttest_1samp_corrected(scores)\n",
    "# and correct for multiple comparisons \n",
    "_, tdp, clusters = all_resolutions_inference(\n",
    "    p[np.newaxis, :], alpha, \n",
    "    statfun = lambda x: np.squeeze(x), \n",
    "    ari_type = 'parametric',\n",
    "    thresholds = 'all'\n",
    ")"
   ]
  },
  {
   "cell_type": "code",
   "execution_count": 128,
   "id": "60175c59",
   "metadata": {},
   "outputs": [
    {
     "data": {
      "image/png": "[encoded data removed]",
      "text/plain": [
       "<Figure size 1200x500 with 4 Axes>"
      ]
     },
     "metadata": {},
     "output_type": "display_data"
    }
   ],
   "source": [
    "## plot time-by-time generalization results\n",
    "mm = np.min(obs_scores[:]), np.max(obs_scores[:])\n",
    "delta = np.abs(.5 - np.max(mm))\n",
    "fig, ax = plt.subplots(1, 2, figsize = (12, 5))\n",
    "im, _ = _plot_masked_image(\n",
    "    ax[0], \n",
    "    obs_scores, \n",
    "    times = epochs.times, \n",
    "    yvals = epochs.times,\n",
    "    mask = np.any(np.stack(clusters), axis = 0),\n",
    "    mask_alpha = 1.,\n",
    "    mask_cmap = 'RdBu_r',\n",
    "    vmin = .5 - delta, vmax = .5 + delta\n",
    ")\n",
    "ax[0].set_xlabel('Testing Time (s)')\n",
    "ax[0].set_ylabel('Training Time (s)')\n",
    "#ax[0].set_title('Temporal generalization')\n",
    "ax[0].axvline(0, color = 'k')\n",
    "ax[0].axhline(0, color = 'k')\n",
    "ax[0].axline(\n",
    "    (0, 0), slope = 1, \n",
    "    color = 'k', \n",
    "    linestyle = '--', \n",
    "    linewidth = .5\n",
    ")\n",
    "ax[0].text(-0.2, .5, 'a', size=20, weight = 'bold')\n",
    "cbar = plt.colorbar(im, ax = ax[0])\n",
    "cbar.set_label('ROC-AUC')\n",
    "\n",
    "tdp_cmap = 'cividis'\n",
    "im, _ = _plot_masked_image(\n",
    "    ax[1], \n",
    "    tdp, \n",
    "    times = epochs.times, \n",
    "    yvals = epochs.times,\n",
    "    cmap = tdp_cmap,\n",
    "    mask = tdp > 0.01,\n",
    "    mask_alpha = 0.1,\n",
    "    mask_cmap = tdp_cmap,\n",
    "    vmin = 0., vmax = 1.\n",
    ")\n",
    "ax[1].set_xlabel('Testing Time (s)')\n",
    "#ax[1].set_title('True discovery proportion')\n",
    "ax[1].axvline(0, color = 'k')\n",
    "ax[1].axhline(0, color = 'k')\n",
    "ax[1].axline(\n",
    "    (0, 0), slope = 1, \n",
    "    color = 'k', \n",
    "    linestyle = '--', \n",
    "    linewidth = .5\n",
    ")\n",
    "ax[1].text(-0.2, .5, 'b', size = 20, weight = 'bold')\n",
    "cbar = plt.colorbar(im, ax = ax[1])\n",
    "cbar.set_label('True positive proportion')\n",
    "\n",
    "plt.show()"
   ]
  },
  {
   "cell_type": "code",
   "execution_count": 130,
   "id": "8e7ba69a",
   "metadata": {},
   "outputs": [
    {
     "name": "stdout",
     "output_type": "stream",
     "text": [
      "No projector specified for this dataset. Please consider the method self.add_proj.\n"
     ]
    },
    {
     "data": {
      "image/png": "[encoded data removed]",
      "text/plain": [
       "<Figure size 640x480 with 9 Axes>"
      ]
     },
     "metadata": {},
     "output_type": "display_data"
    },
    {
     "name": "stdout",
     "output_type": "stream",
     "text": [
      "Cluster 1: 167 to 167 ms, observed score = 0.565, p <= 0.00013620323815151877\n",
      "Cluster 2: 300 to 300 ms, observed score = 0.549, p <= 3.528993516639651e-05\n"
     ]
    }
   ],
   "source": [
    "## plot time-by-time decoding results\n",
    "scores_1d = np.diag(obs_scores)\n",
    "se_1d = np.diag(se)\n",
    "# find training times that pass ARI correction at some test time\n",
    "mask = np.any(np.stack(clusters), axis = 0)\n",
    "mask_1d = np.any(mask, axis = 1)\n",
    "clusters_1d, _ = _find_clusters(mask_1d, threshold = .95, tail = 1)\n",
    "clusters_1d = _cluster_indices_to_mask(clusters_1d, mask_1d.size)\n",
    "# get p-val for best test performance for each training time\n",
    "t_idxs = np.arange(obs_scores.shape[0])\n",
    "max_idx = np.argmax(obs_scores, axis = 1)\n",
    "p_1d = p[t_idxs, max_idx]\n",
    "max_scores = obs_scores[t_idxs, max_idx]\n",
    "\n",
    "# determine which times to highlight \n",
    "fs = epochs.info['sfreq']\n",
    "t_start = []\n",
    "t_end = []\n",
    "t = []\n",
    "for i, clust in enumerate(clusters_1d):\n",
    "    times = epochs.times[clust]\n",
    "    t_start.append(min(times))\n",
    "    t_end.append(max(times))\n",
    "    t.append((t_start[i] + t_end[i])/2)\n",
    "t = [.05, .085] + t\n",
    "\n",
    "# build axes\n",
    "n_maps = len(t)\n",
    "fig = plt.figure(figsize = None)\n",
    "pat_ax = fig.add_subplot(312)\n",
    "ts = n_maps + 2\n",
    "map_ax = [plt.subplot(6, ts, x + 2 + ts) for x in range(n_maps)]\n",
    "cbar_ax = plt.subplot(6, 5 * (ts + 1), 10 * (ts + 1))\n",
    "auc_ax = fig.add_subplot(313)\n",
    "\n",
    "# plot patterns\n",
    "fig = patterns.plot_joint(\n",
    "    t, \n",
    "    show = False, \n",
    "    title = ' ',\n",
    "    ts_args = dict(axes = pat_ax),\n",
    "    topomap_args = dict(\n",
    "        axes = map_ax + [cbar_ax]\n",
    "    )\n",
    ")\n",
    "pat_ax.set_ylabel('patterns (µV)')\n",
    "\n",
    "# plot decoding performance\n",
    "z = norm.ppf(1 - alpha)\n",
    "auc_ax.set_xlim(pat_ax.get_xlim())\n",
    "auc_ax.plot(epochs.times, scores_1d, color = 'blue', label = 'observed')\n",
    "auc_ax.axhline(.5, color = 'black', linestyle = '--', label = 'chance')\n",
    "upper = scores_1d + z*se_1d\n",
    "lower = scores_1d - z*se_1d\n",
    "auc_ax.fill_between(\n",
    "    epochs.times, \n",
    "    upper, lower, \n",
    "    color = 'lightsteelblue', \n",
    "    alpha = .7, \n",
    "    label = '90% CI'\n",
    ")\n",
    "auc_ax.set_xlabel('training time (seconds)')\n",
    "auc_ax.set_ylabel('ROC-AUC')\n",
    "auc_ax.legend(loc = 'upper left')\n",
    "\n",
    "\n",
    "for i, clust in enumerate(clusters_1d):\n",
    "    pat_ax.axvspan(t_start[i] - .5/fs, t_end[i]+ .25/fs, \n",
    "               alpha = .5, color = 'gold', zorder = 0)\n",
    "    auc_ax.axvspan(t_start[i] - .5/fs, t_end[i]+ .25/fs, \n",
    "               alpha = .5, color = 'gold', zorder = 0)\n",
    "    \n",
    "\n",
    "pat_ax.text(-0.2, 5, 'a', size = 20, weight = 'bold') \n",
    "auc_ax.text(-0.2, .6, 'b', size = 20, weight = 'bold') \n",
    "    \n",
    "plt.show()\n",
    "\n",
    "# print adjusted alphas for cluster inclusion\n",
    "for i, clust in enumerate(clusters_1d):\n",
    "    scr = max_scores[clust].mean() # average within cluster \n",
    "    print(\n",
    "        'Cluster {:d}: {:.0f} to {:.0f} ms, observed score = {:.3f},'.format(\n",
    "            i + 1, 1e3*t_start[i], 1e3*t_end[i], scr\n",
    "        ) + ' p <= ' + str(p_1d[clust].max())\n",
    "    )"
   ]
  },
  {
   "cell_type": "code",
   "execution_count": 12,
   "id": "36de60d3",
   "metadata": {},
   "outputs": [
    {
     "name": "stderr",
     "output_type": "stream",
     "text": [
      "/home/johnv/anaconda3/envs/agency/lib/python3.10/site-packages/statsmodels/base/model.py:1889: FutureWarning: The behavior of wald_test will change after 0.14 to returning scalar test statistic values. To get the future behavior now, set scalar to True. To silence this message while retaining the legacy behavior, set scalar to False.\n",
      "  warnings.warn(\n"
     ]
    },
    {
     "name": "stdout",
     "output_type": "stream",
     "text": [
      "FDR-adjusted alpha: 0.00094\n",
      "\n",
      "Intervals for C electrodes:\n",
      "117 to 133 ms\n",
      "\n",
      "Intervals for CP electrodes:\n",
      "267 to 267 ms\n",
      "\n",
      "Intervals for F electrodes:\n",
      "67 to 83 ms\n",
      "\n",
      "Intervals for FC electrodes:\n",
      "83 to 83 ms\n",
      "267 to 317 ms\n",
      "\n",
      "Intervals for FT electrodes:\n",
      "67 to 100 ms\n",
      "\n",
      "Intervals for P electrodes:\n",
      "117 to 117 ms\n"
     ]
    }
   ],
   "source": [
    "## explore model predictors using Wald's test\n",
    "\n",
    "ch_names = epochs.info.ch_names\n",
    "areas = np.array([re.findall('\\D+', ch)[0] for ch in ch_names])\n",
    "area_ps = {}\n",
    "unique_areas = np.unique(areas)\n",
    "for a in unique_areas:\n",
    "    chs = (areas == a)\n",
    "    aps = [lm.model.wald_test(chs)[1] for lm in time_decod.estimators_]\n",
    "    area_ps[a] = np.array(aps)\n",
    "\n",
    "all_ps = np.stack([area_ps[area] for area in unique_areas])\n",
    "reject, _ = mne.stats.fdr_correction(all_ps)\n",
    "print('FDR-adjusted alpha: ' + str(all_ps[reject].max().round(5)))\n",
    "t = []\n",
    "for i, area in enumerate(unique_areas):\n",
    "    if np.any(reject[i]):\n",
    "        print('\\nIntervals for %s electrodes:'%area)\n",
    "        clusts, _ = _find_clusters(reject[i], threshold = .95, tail = 1)\n",
    "        clusts = _cluster_indices_to_mask(clusts, reject[i].size)\n",
    "        for clust in clusts:\n",
    "            ts = epochs.times[clust]\n",
    "            t_start = ts.min() * 1e3\n",
    "            t_end = ts.max() * 1e3\n",
    "            t.append((t_start + t_end)/2 * 1e-3)\n",
    "            print('{:.0f} to {:.0f} ms'.format(t_start, t_end))\n",
    "t.sort()\n",
    "            \n",
    "area_mask = np.zeros_like(pat) # ch x time\n",
    "for i, area in enumerate(unique_areas):\n",
    "    chs = (areas == area)\n",
    "    area_mask[chs] = reject[i]"
   ]
  },
  {
   "cell_type": "code",
   "execution_count": null,
   "id": "2ecdf9ec",
   "metadata": {},
   "outputs": [],
   "source": []
  }
 ],
 "metadata": {
  "kernelspec": {
   "display_name": "Python 3 (ipykernel)",
   "language": "python",
   "name": "python3"
  },
  "language_info": {
   "codemirror_mode": {
    "name": "ipython",
    "version": 3
   },
   "file_extension": ".py",
   "mimetype": "text/x-python",
   "name": "python",
   "nbconvert_exporter": "python",
   "pygments_lexer": "ipython3",
   "version": "3.10.6"
  }
 },
 "nbformat": 4,
 "nbformat_minor": 5
}
